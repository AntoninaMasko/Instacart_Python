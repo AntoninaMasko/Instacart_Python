{
 "cells": [
  {
   "cell_type": "markdown",
   "id": "bd311b11",
   "metadata": {},
   "source": [
    "# Table of content"
   ]
  },
  {
   "cell_type": "markdown",
   "id": "36bb2094",
   "metadata": {},
   "source": [
    "1. Importing libraries"
   ]
  },
  {
   "cell_type": "markdown",
   "id": "61211578",
   "metadata": {},
   "source": [
    "2. Importing data"
   ]
  },
  {
   "cell_type": "markdown",
   "id": "f8d8f2f1",
   "metadata": {},
   "source": [
    "3. Data security"
   ]
  },
  {
   "cell_type": "markdown",
   "id": "666a6574",
   "metadata": {},
   "source": [
    "4. Customer regional segmentation"
   ]
  },
  {
   "cell_type": "markdown",
   "id": "310a996b",
   "metadata": {},
   "source": [
    "5. Low revenue generating customers"
   ]
  },
  {
   "cell_type": "markdown",
   "id": "8f499e9d",
   "metadata": {},
   "source": [
    "6. Customer profiling"
   ]
  },
  {
   "cell_type": "markdown",
   "id": "73b0d73f",
   "metadata": {},
   "source": [
    "7. Descriptive statistics on customer profiles for usage frequency and expenditure"
   ]
  },
  {
   "cell_type": "markdown",
   "id": "b4af8af5",
   "metadata": {},
   "source": [
    "8. Customer profiles vs regions and departments\n",
    "\n",
    "        8.1 Customer profiles vs regions\n",
    "        8.2 Customer profiles vs departments"
   ]
  },
  {
   "cell_type": "markdown",
   "id": "260fa980",
   "metadata": {},
   "source": [
    "9. Exporting the dataframe"
   ]
  },
  {
   "cell_type": "markdown",
   "id": "e3640f1c",
   "metadata": {},
   "source": [
    "# 01. Importing Libraries"
   ]
  },
  {
   "cell_type": "code",
   "execution_count": 2,
   "id": "e921cc1e",
   "metadata": {},
   "outputs": [],
   "source": [
    "# Importing libraries\n",
    "import pandas as pd\n",
    "import numpy as np\n",
    "import os\n",
    "import matplotlib.pyplot as plt\n",
    "import seaborn as sns\n",
    "import scipy"
   ]
  },
  {
   "cell_type": "markdown",
   "id": "24cb7e58",
   "metadata": {},
   "source": [
    "# 02. Importing Data"
   ]
  },
  {
   "cell_type": "code",
   "execution_count": 3,
   "id": "0ba28660",
   "metadata": {},
   "outputs": [],
   "source": [
    "# Creating a shortcut path\n",
    "path = path = r'D:\\Instacart Basket Analysis'"
   ]
  },
  {
   "cell_type": "code",
   "execution_count": 4,
   "id": "dbe07aa5",
   "metadata": {},
   "outputs": [
    {
     "data": {
      "text/plain": [
       "'D:\\\\Instacart Basket Analysis'"
      ]
     },
     "execution_count": 4,
     "metadata": {},
     "output_type": "execute_result"
    }
   ],
   "source": [
    "path"
   ]
  },
  {
   "cell_type": "code",
   "execution_count": 5,
   "id": "ca9e9aa6",
   "metadata": {},
   "outputs": [],
   "source": [
    "# Importing instacart.pkl\n",
    "instacart = pd.read_pickle(os.path.join(path, '02 Data', 'Prepared Data', 'instacart.pkl'))"
   ]
  },
  {
   "cell_type": "code",
   "execution_count": 6,
   "id": "684dce09",
   "metadata": {},
   "outputs": [
    {
     "data": {
      "text/html": [
       "<div>\n",
       "<style scoped>\n",
       "    .dataframe tbody tr th:only-of-type {\n",
       "        vertical-align: middle;\n",
       "    }\n",
       "\n",
       "    .dataframe tbody tr th {\n",
       "        vertical-align: top;\n",
       "    }\n",
       "\n",
       "    .dataframe thead th {\n",
       "        text-align: right;\n",
       "    }\n",
       "</style>\n",
       "<table border=\"1\" class=\"dataframe\">\n",
       "  <thead>\n",
       "    <tr style=\"text-align: right;\">\n",
       "      <th></th>\n",
       "      <th>order_id</th>\n",
       "      <th>user_id</th>\n",
       "      <th>order_number</th>\n",
       "      <th>orders_day_of_week</th>\n",
       "      <th>order_hour_of_day</th>\n",
       "      <th>days_since_previous_order</th>\n",
       "      <th>product_id</th>\n",
       "      <th>add_to_cart_order</th>\n",
       "      <th>reordered</th>\n",
       "      <th>product_name</th>\n",
       "      <th>...</th>\n",
       "      <th>first_name</th>\n",
       "      <th>surname</th>\n",
       "      <th>gender</th>\n",
       "      <th>state</th>\n",
       "      <th>age</th>\n",
       "      <th>date_joined</th>\n",
       "      <th>number_of_dependants</th>\n",
       "      <th>family_status</th>\n",
       "      <th>income</th>\n",
       "      <th>_merge</th>\n",
       "    </tr>\n",
       "  </thead>\n",
       "  <tbody>\n",
       "    <tr>\n",
       "      <th>0</th>\n",
       "      <td>2539329</td>\n",
       "      <td>1</td>\n",
       "      <td>1</td>\n",
       "      <td>2</td>\n",
       "      <td>8</td>\n",
       "      <td>NaN</td>\n",
       "      <td>196</td>\n",
       "      <td>1</td>\n",
       "      <td>0</td>\n",
       "      <td>Soda</td>\n",
       "      <td>...</td>\n",
       "      <td>Linda</td>\n",
       "      <td>Nguyen</td>\n",
       "      <td>Female</td>\n",
       "      <td>Alabama</td>\n",
       "      <td>31</td>\n",
       "      <td>2/17/2019</td>\n",
       "      <td>3</td>\n",
       "      <td>married</td>\n",
       "      <td>40423</td>\n",
       "      <td>both</td>\n",
       "    </tr>\n",
       "    <tr>\n",
       "      <th>1</th>\n",
       "      <td>2398795</td>\n",
       "      <td>1</td>\n",
       "      <td>2</td>\n",
       "      <td>3</td>\n",
       "      <td>7</td>\n",
       "      <td>15.0</td>\n",
       "      <td>196</td>\n",
       "      <td>1</td>\n",
       "      <td>1</td>\n",
       "      <td>Soda</td>\n",
       "      <td>...</td>\n",
       "      <td>Linda</td>\n",
       "      <td>Nguyen</td>\n",
       "      <td>Female</td>\n",
       "      <td>Alabama</td>\n",
       "      <td>31</td>\n",
       "      <td>2/17/2019</td>\n",
       "      <td>3</td>\n",
       "      <td>married</td>\n",
       "      <td>40423</td>\n",
       "      <td>both</td>\n",
       "    </tr>\n",
       "    <tr>\n",
       "      <th>2</th>\n",
       "      <td>473747</td>\n",
       "      <td>1</td>\n",
       "      <td>3</td>\n",
       "      <td>3</td>\n",
       "      <td>12</td>\n",
       "      <td>21.0</td>\n",
       "      <td>196</td>\n",
       "      <td>1</td>\n",
       "      <td>1</td>\n",
       "      <td>Soda</td>\n",
       "      <td>...</td>\n",
       "      <td>Linda</td>\n",
       "      <td>Nguyen</td>\n",
       "      <td>Female</td>\n",
       "      <td>Alabama</td>\n",
       "      <td>31</td>\n",
       "      <td>2/17/2019</td>\n",
       "      <td>3</td>\n",
       "      <td>married</td>\n",
       "      <td>40423</td>\n",
       "      <td>both</td>\n",
       "    </tr>\n",
       "    <tr>\n",
       "      <th>3</th>\n",
       "      <td>2254736</td>\n",
       "      <td>1</td>\n",
       "      <td>4</td>\n",
       "      <td>4</td>\n",
       "      <td>7</td>\n",
       "      <td>29.0</td>\n",
       "      <td>196</td>\n",
       "      <td>1</td>\n",
       "      <td>1</td>\n",
       "      <td>Soda</td>\n",
       "      <td>...</td>\n",
       "      <td>Linda</td>\n",
       "      <td>Nguyen</td>\n",
       "      <td>Female</td>\n",
       "      <td>Alabama</td>\n",
       "      <td>31</td>\n",
       "      <td>2/17/2019</td>\n",
       "      <td>3</td>\n",
       "      <td>married</td>\n",
       "      <td>40423</td>\n",
       "      <td>both</td>\n",
       "    </tr>\n",
       "    <tr>\n",
       "      <th>4</th>\n",
       "      <td>431534</td>\n",
       "      <td>1</td>\n",
       "      <td>5</td>\n",
       "      <td>4</td>\n",
       "      <td>15</td>\n",
       "      <td>28.0</td>\n",
       "      <td>196</td>\n",
       "      <td>1</td>\n",
       "      <td>1</td>\n",
       "      <td>Soda</td>\n",
       "      <td>...</td>\n",
       "      <td>Linda</td>\n",
       "      <td>Nguyen</td>\n",
       "      <td>Female</td>\n",
       "      <td>Alabama</td>\n",
       "      <td>31</td>\n",
       "      <td>2/17/2019</td>\n",
       "      <td>3</td>\n",
       "      <td>married</td>\n",
       "      <td>40423</td>\n",
       "      <td>both</td>\n",
       "    </tr>\n",
       "  </tbody>\n",
       "</table>\n",
       "<p>5 rows × 33 columns</p>\n",
       "</div>"
      ],
      "text/plain": [
       "  order_id user_id  order_number  orders_day_of_week  order_hour_of_day  \\\n",
       "0  2539329       1             1                   2                  8   \n",
       "1  2398795       1             2                   3                  7   \n",
       "2   473747       1             3                   3                 12   \n",
       "3  2254736       1             4                   4                  7   \n",
       "4   431534       1             5                   4                 15   \n",
       "\n",
       "   days_since_previous_order  product_id  add_to_cart_order  reordered  \\\n",
       "0                        NaN         196                  1          0   \n",
       "1                       15.0         196                  1          1   \n",
       "2                       21.0         196                  1          1   \n",
       "3                       29.0         196                  1          1   \n",
       "4                       28.0         196                  1          1   \n",
       "\n",
       "  product_name  ...  first_name  surname  gender    state age date_joined  \\\n",
       "0         Soda  ...       Linda   Nguyen  Female  Alabama  31   2/17/2019   \n",
       "1         Soda  ...       Linda   Nguyen  Female  Alabama  31   2/17/2019   \n",
       "2         Soda  ...       Linda   Nguyen  Female  Alabama  31   2/17/2019   \n",
       "3         Soda  ...       Linda   Nguyen  Female  Alabama  31   2/17/2019   \n",
       "4         Soda  ...       Linda   Nguyen  Female  Alabama  31   2/17/2019   \n",
       "\n",
       "  number_of_dependants  family_status income  _merge  \n",
       "0                    3        married  40423    both  \n",
       "1                    3        married  40423    both  \n",
       "2                    3        married  40423    both  \n",
       "3                    3        married  40423    both  \n",
       "4                    3        married  40423    both  \n",
       "\n",
       "[5 rows x 33 columns]"
      ]
     },
     "execution_count": 6,
     "metadata": {},
     "output_type": "execute_result"
    }
   ],
   "source": [
    "# Checking the first 5 rows of the df:\n",
    "instacart.head()"
   ]
  },
  {
   "cell_type": "code",
   "execution_count": 7,
   "id": "66cf0a8f",
   "metadata": {},
   "outputs": [
    {
     "data": {
      "text/plain": [
       "(32404859, 33)"
      ]
     },
     "execution_count": 7,
     "metadata": {},
     "output_type": "execute_result"
    }
   ],
   "source": [
    "# Dimensions of the dataframe\n",
    "instacart.shape"
   ]
  },
  {
   "cell_type": "code",
   "execution_count": 8,
   "id": "659cb21c",
   "metadata": {},
   "outputs": [],
   "source": [
    "# Importing departments_wrangled.csv\n",
    "deps = pd.read_csv(os.path.join(path, '02 Data', 'Prepared Data', 'departments_wrangled.csv'))"
   ]
  },
  {
   "cell_type": "code",
   "execution_count": 9,
   "id": "41e5c4ee",
   "metadata": {},
   "outputs": [
    {
     "data": {
      "text/html": [
       "<div>\n",
       "<style scoped>\n",
       "    .dataframe tbody tr th:only-of-type {\n",
       "        vertical-align: middle;\n",
       "    }\n",
       "\n",
       "    .dataframe tbody tr th {\n",
       "        vertical-align: top;\n",
       "    }\n",
       "\n",
       "    .dataframe thead th {\n",
       "        text-align: right;\n",
       "    }\n",
       "</style>\n",
       "<table border=\"1\" class=\"dataframe\">\n",
       "  <thead>\n",
       "    <tr style=\"text-align: right;\">\n",
       "      <th></th>\n",
       "      <th>Unnamed: 0</th>\n",
       "      <th>department</th>\n",
       "    </tr>\n",
       "  </thead>\n",
       "  <tbody>\n",
       "    <tr>\n",
       "      <th>0</th>\n",
       "      <td>1</td>\n",
       "      <td>frozen</td>\n",
       "    </tr>\n",
       "    <tr>\n",
       "      <th>1</th>\n",
       "      <td>2</td>\n",
       "      <td>other</td>\n",
       "    </tr>\n",
       "    <tr>\n",
       "      <th>2</th>\n",
       "      <td>3</td>\n",
       "      <td>bakery</td>\n",
       "    </tr>\n",
       "    <tr>\n",
       "      <th>3</th>\n",
       "      <td>4</td>\n",
       "      <td>produce</td>\n",
       "    </tr>\n",
       "    <tr>\n",
       "      <th>4</th>\n",
       "      <td>5</td>\n",
       "      <td>alcohol</td>\n",
       "    </tr>\n",
       "  </tbody>\n",
       "</table>\n",
       "</div>"
      ],
      "text/plain": [
       "   Unnamed: 0 department\n",
       "0           1     frozen\n",
       "1           2      other\n",
       "2           3     bakery\n",
       "3           4    produce\n",
       "4           5    alcohol"
      ]
     },
     "execution_count": 9,
     "metadata": {},
     "output_type": "execute_result"
    }
   ],
   "source": [
    "deps.head()"
   ]
  },
  {
   "cell_type": "code",
   "execution_count": 10,
   "id": "e199fdd8",
   "metadata": {},
   "outputs": [],
   "source": [
    "deps.rename(columns = {'Unnamed: 0':'department_id'}, inplace = True)"
   ]
  },
  {
   "cell_type": "code",
   "execution_count": 11,
   "id": "de8b0d40",
   "metadata": {},
   "outputs": [
    {
     "data": {
      "text/html": [
       "<div>\n",
       "<style scoped>\n",
       "    .dataframe tbody tr th:only-of-type {\n",
       "        vertical-align: middle;\n",
       "    }\n",
       "\n",
       "    .dataframe tbody tr th {\n",
       "        vertical-align: top;\n",
       "    }\n",
       "\n",
       "    .dataframe thead th {\n",
       "        text-align: right;\n",
       "    }\n",
       "</style>\n",
       "<table border=\"1\" class=\"dataframe\">\n",
       "  <thead>\n",
       "    <tr style=\"text-align: right;\">\n",
       "      <th></th>\n",
       "      <th>department_id</th>\n",
       "      <th>department</th>\n",
       "    </tr>\n",
       "  </thead>\n",
       "  <tbody>\n",
       "    <tr>\n",
       "      <th>0</th>\n",
       "      <td>1</td>\n",
       "      <td>frozen</td>\n",
       "    </tr>\n",
       "    <tr>\n",
       "      <th>1</th>\n",
       "      <td>2</td>\n",
       "      <td>other</td>\n",
       "    </tr>\n",
       "    <tr>\n",
       "      <th>2</th>\n",
       "      <td>3</td>\n",
       "      <td>bakery</td>\n",
       "    </tr>\n",
       "    <tr>\n",
       "      <th>3</th>\n",
       "      <td>4</td>\n",
       "      <td>produce</td>\n",
       "    </tr>\n",
       "    <tr>\n",
       "      <th>4</th>\n",
       "      <td>5</td>\n",
       "      <td>alcohol</td>\n",
       "    </tr>\n",
       "  </tbody>\n",
       "</table>\n",
       "</div>"
      ],
      "text/plain": [
       "   department_id department\n",
       "0              1     frozen\n",
       "1              2      other\n",
       "2              3     bakery\n",
       "3              4    produce\n",
       "4              5    alcohol"
      ]
     },
     "execution_count": 11,
     "metadata": {},
     "output_type": "execute_result"
    }
   ],
   "source": [
    "deps.head()"
   ]
  },
  {
   "cell_type": "markdown",
   "id": "b3997a17",
   "metadata": {},
   "source": [
    "# 03. Data Security"
   ]
  },
  {
   "cell_type": "markdown",
   "id": "9c0dcc1e",
   "metadata": {},
   "source": [
    "In the Instacart dataframe, there are personally identifiable information (PII), which should be removed before sharing the data with other stakeholders. Therefore, both \"first_name\" and \"surname\" column should be removed from the dataframe."
   ]
  },
  {
   "cell_type": "code",
   "execution_count": 12,
   "id": "b06fed8d",
   "metadata": {},
   "outputs": [],
   "source": [
    "instacart_clean = instacart.drop(columns = ['first_name', 'surname'])"
   ]
  },
  {
   "cell_type": "code",
   "execution_count": 13,
   "id": "7e2fcb26",
   "metadata": {},
   "outputs": [
    {
     "data": {
      "text/html": [
       "<div>\n",
       "<style scoped>\n",
       "    .dataframe tbody tr th:only-of-type {\n",
       "        vertical-align: middle;\n",
       "    }\n",
       "\n",
       "    .dataframe tbody tr th {\n",
       "        vertical-align: top;\n",
       "    }\n",
       "\n",
       "    .dataframe thead th {\n",
       "        text-align: right;\n",
       "    }\n",
       "</style>\n",
       "<table border=\"1\" class=\"dataframe\">\n",
       "  <thead>\n",
       "    <tr style=\"text-align: right;\">\n",
       "      <th></th>\n",
       "      <th>order_id</th>\n",
       "      <th>user_id</th>\n",
       "      <th>order_number</th>\n",
       "      <th>orders_day_of_week</th>\n",
       "      <th>order_hour_of_day</th>\n",
       "      <th>days_since_previous_order</th>\n",
       "      <th>product_id</th>\n",
       "      <th>add_to_cart_order</th>\n",
       "      <th>reordered</th>\n",
       "      <th>product_name</th>\n",
       "      <th>...</th>\n",
       "      <th>median_order_frequency</th>\n",
       "      <th>frequency_flag</th>\n",
       "      <th>gender</th>\n",
       "      <th>state</th>\n",
       "      <th>age</th>\n",
       "      <th>date_joined</th>\n",
       "      <th>number_of_dependants</th>\n",
       "      <th>family_status</th>\n",
       "      <th>income</th>\n",
       "      <th>_merge</th>\n",
       "    </tr>\n",
       "  </thead>\n",
       "  <tbody>\n",
       "    <tr>\n",
       "      <th>0</th>\n",
       "      <td>2539329</td>\n",
       "      <td>1</td>\n",
       "      <td>1</td>\n",
       "      <td>2</td>\n",
       "      <td>8</td>\n",
       "      <td>NaN</td>\n",
       "      <td>196</td>\n",
       "      <td>1</td>\n",
       "      <td>0</td>\n",
       "      <td>Soda</td>\n",
       "      <td>...</td>\n",
       "      <td>20.5</td>\n",
       "      <td>Non-frequent customer</td>\n",
       "      <td>Female</td>\n",
       "      <td>Alabama</td>\n",
       "      <td>31</td>\n",
       "      <td>2/17/2019</td>\n",
       "      <td>3</td>\n",
       "      <td>married</td>\n",
       "      <td>40423</td>\n",
       "      <td>both</td>\n",
       "    </tr>\n",
       "    <tr>\n",
       "      <th>1</th>\n",
       "      <td>2398795</td>\n",
       "      <td>1</td>\n",
       "      <td>2</td>\n",
       "      <td>3</td>\n",
       "      <td>7</td>\n",
       "      <td>15.0</td>\n",
       "      <td>196</td>\n",
       "      <td>1</td>\n",
       "      <td>1</td>\n",
       "      <td>Soda</td>\n",
       "      <td>...</td>\n",
       "      <td>20.5</td>\n",
       "      <td>Non-frequent customer</td>\n",
       "      <td>Female</td>\n",
       "      <td>Alabama</td>\n",
       "      <td>31</td>\n",
       "      <td>2/17/2019</td>\n",
       "      <td>3</td>\n",
       "      <td>married</td>\n",
       "      <td>40423</td>\n",
       "      <td>both</td>\n",
       "    </tr>\n",
       "    <tr>\n",
       "      <th>2</th>\n",
       "      <td>473747</td>\n",
       "      <td>1</td>\n",
       "      <td>3</td>\n",
       "      <td>3</td>\n",
       "      <td>12</td>\n",
       "      <td>21.0</td>\n",
       "      <td>196</td>\n",
       "      <td>1</td>\n",
       "      <td>1</td>\n",
       "      <td>Soda</td>\n",
       "      <td>...</td>\n",
       "      <td>20.5</td>\n",
       "      <td>Non-frequent customer</td>\n",
       "      <td>Female</td>\n",
       "      <td>Alabama</td>\n",
       "      <td>31</td>\n",
       "      <td>2/17/2019</td>\n",
       "      <td>3</td>\n",
       "      <td>married</td>\n",
       "      <td>40423</td>\n",
       "      <td>both</td>\n",
       "    </tr>\n",
       "    <tr>\n",
       "      <th>3</th>\n",
       "      <td>2254736</td>\n",
       "      <td>1</td>\n",
       "      <td>4</td>\n",
       "      <td>4</td>\n",
       "      <td>7</td>\n",
       "      <td>29.0</td>\n",
       "      <td>196</td>\n",
       "      <td>1</td>\n",
       "      <td>1</td>\n",
       "      <td>Soda</td>\n",
       "      <td>...</td>\n",
       "      <td>20.5</td>\n",
       "      <td>Non-frequent customer</td>\n",
       "      <td>Female</td>\n",
       "      <td>Alabama</td>\n",
       "      <td>31</td>\n",
       "      <td>2/17/2019</td>\n",
       "      <td>3</td>\n",
       "      <td>married</td>\n",
       "      <td>40423</td>\n",
       "      <td>both</td>\n",
       "    </tr>\n",
       "    <tr>\n",
       "      <th>4</th>\n",
       "      <td>431534</td>\n",
       "      <td>1</td>\n",
       "      <td>5</td>\n",
       "      <td>4</td>\n",
       "      <td>15</td>\n",
       "      <td>28.0</td>\n",
       "      <td>196</td>\n",
       "      <td>1</td>\n",
       "      <td>1</td>\n",
       "      <td>Soda</td>\n",
       "      <td>...</td>\n",
       "      <td>20.5</td>\n",
       "      <td>Non-frequent customer</td>\n",
       "      <td>Female</td>\n",
       "      <td>Alabama</td>\n",
       "      <td>31</td>\n",
       "      <td>2/17/2019</td>\n",
       "      <td>3</td>\n",
       "      <td>married</td>\n",
       "      <td>40423</td>\n",
       "      <td>both</td>\n",
       "    </tr>\n",
       "  </tbody>\n",
       "</table>\n",
       "<p>5 rows × 31 columns</p>\n",
       "</div>"
      ],
      "text/plain": [
       "  order_id user_id  order_number  orders_day_of_week  order_hour_of_day  \\\n",
       "0  2539329       1             1                   2                  8   \n",
       "1  2398795       1             2                   3                  7   \n",
       "2   473747       1             3                   3                 12   \n",
       "3  2254736       1             4                   4                  7   \n",
       "4   431534       1             5                   4                 15   \n",
       "\n",
       "   days_since_previous_order  product_id  add_to_cart_order  reordered  \\\n",
       "0                        NaN         196                  1          0   \n",
       "1                       15.0         196                  1          1   \n",
       "2                       21.0         196                  1          1   \n",
       "3                       29.0         196                  1          1   \n",
       "4                       28.0         196                  1          1   \n",
       "\n",
       "  product_name  ...  median_order_frequency         frequency_flag  gender  \\\n",
       "0         Soda  ...                    20.5  Non-frequent customer  Female   \n",
       "1         Soda  ...                    20.5  Non-frequent customer  Female   \n",
       "2         Soda  ...                    20.5  Non-frequent customer  Female   \n",
       "3         Soda  ...                    20.5  Non-frequent customer  Female   \n",
       "4         Soda  ...                    20.5  Non-frequent customer  Female   \n",
       "\n",
       "     state age date_joined number_of_dependants  family_status income  _merge  \n",
       "0  Alabama  31   2/17/2019                    3        married  40423    both  \n",
       "1  Alabama  31   2/17/2019                    3        married  40423    both  \n",
       "2  Alabama  31   2/17/2019                    3        married  40423    both  \n",
       "3  Alabama  31   2/17/2019                    3        married  40423    both  \n",
       "4  Alabama  31   2/17/2019                    3        married  40423    both  \n",
       "\n",
       "[5 rows x 31 columns]"
      ]
     },
     "execution_count": 13,
     "metadata": {},
     "output_type": "execute_result"
    }
   ],
   "source": [
    "instacart_clean.head()"
   ]
  },
  {
   "cell_type": "markdown",
   "id": "c38f0e47",
   "metadata": {},
   "source": [
    "# 04. Customer regional segmentation"
   ]
  },
  {
   "cell_type": "markdown",
   "id": "d42b152c",
   "metadata": {},
   "source": [
    "### Creating a \"Region\" column"
   ]
  },
  {
   "cell_type": "code",
   "execution_count": 14,
   "id": "a8100dad",
   "metadata": {},
   "outputs": [],
   "source": [
    "# Creating region lists:\n",
    "Northeast = ['Maine', 'New Hampshire', 'Vermont', 'Massachusetts', 'Rhode Island', 'Connecticut', 'New York', 'Pennsylvania', 'New Jersey']"
   ]
  },
  {
   "cell_type": "code",
   "execution_count": 15,
   "id": "ba1aa667",
   "metadata": {},
   "outputs": [],
   "source": [
    "Midwest = ['Wisconsin', 'Michigan', 'Illinois', 'Indiana', 'Ohio', 'North Dakota', 'South Dakota', 'Nebraska', 'Kansas', 'Minnesota', 'Iowa', 'Missouri']"
   ]
  },
  {
   "cell_type": "code",
   "execution_count": 16,
   "id": "9674f85f",
   "metadata": {},
   "outputs": [],
   "source": [
    "South = ['Delaware', 'Maryland', 'District of Columbia', 'Virginia', 'West Virginia', 'North Carolina', 'South Carolina', 'Georgia', 'Florida', 'Kentucky', 'Tennessee', 'Mississippi', 'Alabama', 'Oklahoma', 'Texas', 'Arkansas', 'Louisiana']"
   ]
  },
  {
   "cell_type": "code",
   "execution_count": 17,
   "id": "4d6dc89f",
   "metadata": {},
   "outputs": [],
   "source": [
    "West = ['Idaho', 'Montana', 'Wyoming', 'Nevada', 'Utah', 'Colorado', 'Arizona', 'New Mexico', 'Alaska', 'Washington', 'Oregon', 'California', 'Hawaii']"
   ]
  },
  {
   "cell_type": "code",
   "execution_count": 18,
   "id": "673ef1ef",
   "metadata": {},
   "outputs": [],
   "source": [
    "# Creating a “Region” column based on the “State” column from the customers data set.\n",
    "instacart_clean.loc[instacart_clean['state'].isin(Northeast), 'region'] = 'North East'"
   ]
  },
  {
   "cell_type": "code",
   "execution_count": 19,
   "id": "d100a6c2",
   "metadata": {},
   "outputs": [],
   "source": [
    "instacart_clean.loc[instacart_clean['state'].isin(Midwest), 'region'] = 'Midwest'"
   ]
  },
  {
   "cell_type": "code",
   "execution_count": 20,
   "id": "431d55fb",
   "metadata": {},
   "outputs": [],
   "source": [
    "instacart_clean.loc[instacart_clean['state'].isin(South), 'region'] = 'South'"
   ]
  },
  {
   "cell_type": "code",
   "execution_count": 21,
   "id": "92bbbef4",
   "metadata": {},
   "outputs": [],
   "source": [
    "instacart_clean.loc[instacart_clean['state'].isin(West), 'region'] = 'West'"
   ]
  },
  {
   "cell_type": "code",
   "execution_count": 22,
   "id": "ea323715",
   "metadata": {},
   "outputs": [
    {
     "data": {
      "text/html": [
       "<div>\n",
       "<style scoped>\n",
       "    .dataframe tbody tr th:only-of-type {\n",
       "        vertical-align: middle;\n",
       "    }\n",
       "\n",
       "    .dataframe tbody tr th {\n",
       "        vertical-align: top;\n",
       "    }\n",
       "\n",
       "    .dataframe thead th {\n",
       "        text-align: right;\n",
       "    }\n",
       "</style>\n",
       "<table border=\"1\" class=\"dataframe\">\n",
       "  <thead>\n",
       "    <tr style=\"text-align: right;\">\n",
       "      <th></th>\n",
       "      <th>order_id</th>\n",
       "      <th>user_id</th>\n",
       "      <th>order_number</th>\n",
       "      <th>orders_day_of_week</th>\n",
       "      <th>order_hour_of_day</th>\n",
       "      <th>days_since_previous_order</th>\n",
       "      <th>product_id</th>\n",
       "      <th>add_to_cart_order</th>\n",
       "      <th>reordered</th>\n",
       "      <th>product_name</th>\n",
       "      <th>...</th>\n",
       "      <th>frequency_flag</th>\n",
       "      <th>gender</th>\n",
       "      <th>state</th>\n",
       "      <th>age</th>\n",
       "      <th>date_joined</th>\n",
       "      <th>number_of_dependants</th>\n",
       "      <th>family_status</th>\n",
       "      <th>income</th>\n",
       "      <th>_merge</th>\n",
       "      <th>region</th>\n",
       "    </tr>\n",
       "  </thead>\n",
       "  <tbody>\n",
       "    <tr>\n",
       "      <th>0</th>\n",
       "      <td>2539329</td>\n",
       "      <td>1</td>\n",
       "      <td>1</td>\n",
       "      <td>2</td>\n",
       "      <td>8</td>\n",
       "      <td>NaN</td>\n",
       "      <td>196</td>\n",
       "      <td>1</td>\n",
       "      <td>0</td>\n",
       "      <td>Soda</td>\n",
       "      <td>...</td>\n",
       "      <td>Non-frequent customer</td>\n",
       "      <td>Female</td>\n",
       "      <td>Alabama</td>\n",
       "      <td>31</td>\n",
       "      <td>2/17/2019</td>\n",
       "      <td>3</td>\n",
       "      <td>married</td>\n",
       "      <td>40423</td>\n",
       "      <td>both</td>\n",
       "      <td>South</td>\n",
       "    </tr>\n",
       "    <tr>\n",
       "      <th>1</th>\n",
       "      <td>2398795</td>\n",
       "      <td>1</td>\n",
       "      <td>2</td>\n",
       "      <td>3</td>\n",
       "      <td>7</td>\n",
       "      <td>15.0</td>\n",
       "      <td>196</td>\n",
       "      <td>1</td>\n",
       "      <td>1</td>\n",
       "      <td>Soda</td>\n",
       "      <td>...</td>\n",
       "      <td>Non-frequent customer</td>\n",
       "      <td>Female</td>\n",
       "      <td>Alabama</td>\n",
       "      <td>31</td>\n",
       "      <td>2/17/2019</td>\n",
       "      <td>3</td>\n",
       "      <td>married</td>\n",
       "      <td>40423</td>\n",
       "      <td>both</td>\n",
       "      <td>South</td>\n",
       "    </tr>\n",
       "    <tr>\n",
       "      <th>2</th>\n",
       "      <td>473747</td>\n",
       "      <td>1</td>\n",
       "      <td>3</td>\n",
       "      <td>3</td>\n",
       "      <td>12</td>\n",
       "      <td>21.0</td>\n",
       "      <td>196</td>\n",
       "      <td>1</td>\n",
       "      <td>1</td>\n",
       "      <td>Soda</td>\n",
       "      <td>...</td>\n",
       "      <td>Non-frequent customer</td>\n",
       "      <td>Female</td>\n",
       "      <td>Alabama</td>\n",
       "      <td>31</td>\n",
       "      <td>2/17/2019</td>\n",
       "      <td>3</td>\n",
       "      <td>married</td>\n",
       "      <td>40423</td>\n",
       "      <td>both</td>\n",
       "      <td>South</td>\n",
       "    </tr>\n",
       "    <tr>\n",
       "      <th>3</th>\n",
       "      <td>2254736</td>\n",
       "      <td>1</td>\n",
       "      <td>4</td>\n",
       "      <td>4</td>\n",
       "      <td>7</td>\n",
       "      <td>29.0</td>\n",
       "      <td>196</td>\n",
       "      <td>1</td>\n",
       "      <td>1</td>\n",
       "      <td>Soda</td>\n",
       "      <td>...</td>\n",
       "      <td>Non-frequent customer</td>\n",
       "      <td>Female</td>\n",
       "      <td>Alabama</td>\n",
       "      <td>31</td>\n",
       "      <td>2/17/2019</td>\n",
       "      <td>3</td>\n",
       "      <td>married</td>\n",
       "      <td>40423</td>\n",
       "      <td>both</td>\n",
       "      <td>South</td>\n",
       "    </tr>\n",
       "    <tr>\n",
       "      <th>4</th>\n",
       "      <td>431534</td>\n",
       "      <td>1</td>\n",
       "      <td>5</td>\n",
       "      <td>4</td>\n",
       "      <td>15</td>\n",
       "      <td>28.0</td>\n",
       "      <td>196</td>\n",
       "      <td>1</td>\n",
       "      <td>1</td>\n",
       "      <td>Soda</td>\n",
       "      <td>...</td>\n",
       "      <td>Non-frequent customer</td>\n",
       "      <td>Female</td>\n",
       "      <td>Alabama</td>\n",
       "      <td>31</td>\n",
       "      <td>2/17/2019</td>\n",
       "      <td>3</td>\n",
       "      <td>married</td>\n",
       "      <td>40423</td>\n",
       "      <td>both</td>\n",
       "      <td>South</td>\n",
       "    </tr>\n",
       "  </tbody>\n",
       "</table>\n",
       "<p>5 rows × 32 columns</p>\n",
       "</div>"
      ],
      "text/plain": [
       "  order_id user_id  order_number  orders_day_of_week  order_hour_of_day  \\\n",
       "0  2539329       1             1                   2                  8   \n",
       "1  2398795       1             2                   3                  7   \n",
       "2   473747       1             3                   3                 12   \n",
       "3  2254736       1             4                   4                  7   \n",
       "4   431534       1             5                   4                 15   \n",
       "\n",
       "   days_since_previous_order  product_id  add_to_cart_order  reordered  \\\n",
       "0                        NaN         196                  1          0   \n",
       "1                       15.0         196                  1          1   \n",
       "2                       21.0         196                  1          1   \n",
       "3                       29.0         196                  1          1   \n",
       "4                       28.0         196                  1          1   \n",
       "\n",
       "  product_name  ...         frequency_flag  gender    state age date_joined  \\\n",
       "0         Soda  ...  Non-frequent customer  Female  Alabama  31   2/17/2019   \n",
       "1         Soda  ...  Non-frequent customer  Female  Alabama  31   2/17/2019   \n",
       "2         Soda  ...  Non-frequent customer  Female  Alabama  31   2/17/2019   \n",
       "3         Soda  ...  Non-frequent customer  Female  Alabama  31   2/17/2019   \n",
       "4         Soda  ...  Non-frequent customer  Female  Alabama  31   2/17/2019   \n",
       "\n",
       "  number_of_dependants family_status  income _merge  region  \n",
       "0                    3       married   40423   both   South  \n",
       "1                    3       married   40423   both   South  \n",
       "2                    3       married   40423   both   South  \n",
       "3                    3       married   40423   both   South  \n",
       "4                    3       married   40423   both   South  \n",
       "\n",
       "[5 rows x 32 columns]"
      ]
     },
     "execution_count": 22,
     "metadata": {},
     "output_type": "execute_result"
    }
   ],
   "source": [
    "instacart_clean.head()"
   ]
  },
  {
   "cell_type": "markdown",
   "id": "f66eec84",
   "metadata": {},
   "source": [
    "### Spending habits by US regions"
   ]
  },
  {
   "cell_type": "code",
   "execution_count": 23,
   "id": "cfe58993",
   "metadata": {},
   "outputs": [],
   "source": [
    "crosstab = pd.crosstab(instacart_clean['spending_flag'], instacart_clean['region'], dropna = False)"
   ]
  },
  {
   "cell_type": "code",
   "execution_count": 24,
   "id": "08b7a8fd",
   "metadata": {},
   "outputs": [
    {
     "data": {
      "text/html": [
       "<div>\n",
       "<style scoped>\n",
       "    .dataframe tbody tr th:only-of-type {\n",
       "        vertical-align: middle;\n",
       "    }\n",
       "\n",
       "    .dataframe tbody tr th {\n",
       "        vertical-align: top;\n",
       "    }\n",
       "\n",
       "    .dataframe thead th {\n",
       "        text-align: right;\n",
       "    }\n",
       "</style>\n",
       "<table border=\"1\" class=\"dataframe\">\n",
       "  <thead>\n",
       "    <tr style=\"text-align: right;\">\n",
       "      <th>region</th>\n",
       "      <th>Midwest</th>\n",
       "      <th>North East</th>\n",
       "      <th>South</th>\n",
       "      <th>West</th>\n",
       "    </tr>\n",
       "    <tr>\n",
       "      <th>spending_flag</th>\n",
       "      <th></th>\n",
       "      <th></th>\n",
       "      <th></th>\n",
       "      <th></th>\n",
       "    </tr>\n",
       "  </thead>\n",
       "  <tbody>\n",
       "    <tr>\n",
       "      <th>High spender</th>\n",
       "      <td>155975</td>\n",
       "      <td>108225</td>\n",
       "      <td>209691</td>\n",
       "      <td>160354</td>\n",
       "    </tr>\n",
       "    <tr>\n",
       "      <th>Low spender</th>\n",
       "      <td>7441350</td>\n",
       "      <td>5614511</td>\n",
       "      <td>10582194</td>\n",
       "      <td>8132559</td>\n",
       "    </tr>\n",
       "  </tbody>\n",
       "</table>\n",
       "</div>"
      ],
      "text/plain": [
       "region         Midwest  North East     South     West\n",
       "spending_flag                                        \n",
       "High spender    155975      108225    209691   160354\n",
       "Low spender    7441350     5614511  10582194  8132559"
      ]
     },
     "execution_count": 24,
     "metadata": {},
     "output_type": "execute_result"
    }
   ],
   "source": [
    "crosstab"
   ]
  },
  {
   "cell_type": "code",
   "execution_count": 25,
   "id": "5ac33e41",
   "metadata": {},
   "outputs": [
    {
     "data": {
      "image/png": "[encoded data removed]",
      "text/plain": [
       "<Figure size 640x480 with 1 Axes>"
      ]
     },
     "metadata": {},
     "output_type": "display_data"
    }
   ],
   "source": [
    "# Creating a bar chart\n",
    "bar_region_spend = instacart_clean.groupby('region')['spending_flag'].value_counts().plot.bar(color=['blue', 'red'])"
   ]
  },
  {
   "cell_type": "markdown",
   "id": "9b952054",
   "metadata": {},
   "source": [
    "From the above table and bar chart, we can see that only about 2% of orders were placed by high spending customers. There is no particular difference between the regions in this case.\n",
    "\n",
    "The highest number of orders were placed in South and the lowest in North East."
   ]
  },
  {
   "cell_type": "code",
   "execution_count": 26,
   "id": "3cd50660",
   "metadata": {},
   "outputs": [],
   "source": [
    "# Saving the chart as an image file:\n",
    "bar_region_spend.figure.savefig(os.path.join(path, '04 Analysis','Visualizations', 'bar_region_spend.png'))"
   ]
  },
  {
   "cell_type": "markdown",
   "id": "bf877b16",
   "metadata": {},
   "source": [
    "# 05. Low revenue generating customers"
   ]
  },
  {
   "cell_type": "markdown",
   "id": "97e13978",
   "metadata": {},
   "source": [
    "Creating an exclusion flag for low-activity customers (less then 5 orders) to exclude them from the dataframe, since the CFO is not interested in the customers who don't generate much revenue for the app."
   ]
  },
  {
   "cell_type": "code",
   "execution_count": 27,
   "id": "09c6e6e9",
   "metadata": {},
   "outputs": [],
   "source": [
    "# Creating a customer activity flag:\n",
    "instacart_clean.loc[instacart_clean['max_order'] < 5, 'activity_flag'] = 'Low activity customer'"
   ]
  },
  {
   "cell_type": "code",
   "execution_count": 28,
   "id": "a52b0c0f",
   "metadata": {},
   "outputs": [],
   "source": [
    "instacart_clean.loc[instacart_clean['max_order'] >= 5, 'activity_flag'] = 'High activity customer'"
   ]
  },
  {
   "cell_type": "code",
   "execution_count": 29,
   "id": "8a203a0a",
   "metadata": {},
   "outputs": [
    {
     "data": {
      "text/plain": [
       "High activity customer    30964564\n",
       "Low activity customer      1440295\n",
       "Name: activity_flag, dtype: int64"
      ]
     },
     "execution_count": 29,
     "metadata": {},
     "output_type": "execute_result"
    }
   ],
   "source": [
    "instacart_clean['activity_flag'].value_counts(dropna = False)"
   ]
  },
  {
   "cell_type": "code",
   "execution_count": 30,
   "id": "48751d6a",
   "metadata": {},
   "outputs": [
    {
     "data": {
      "text/html": [
       "<div>\n",
       "<style scoped>\n",
       "    .dataframe tbody tr th:only-of-type {\n",
       "        vertical-align: middle;\n",
       "    }\n",
       "\n",
       "    .dataframe tbody tr th {\n",
       "        vertical-align: top;\n",
       "    }\n",
       "\n",
       "    .dataframe thead th {\n",
       "        text-align: right;\n",
       "    }\n",
       "</style>\n",
       "<table border=\"1\" class=\"dataframe\">\n",
       "  <thead>\n",
       "    <tr style=\"text-align: right;\">\n",
       "      <th></th>\n",
       "      <th>order_id</th>\n",
       "      <th>user_id</th>\n",
       "      <th>order_number</th>\n",
       "      <th>orders_day_of_week</th>\n",
       "      <th>order_hour_of_day</th>\n",
       "      <th>days_since_previous_order</th>\n",
       "      <th>product_id</th>\n",
       "      <th>add_to_cart_order</th>\n",
       "      <th>reordered</th>\n",
       "      <th>product_name</th>\n",
       "      <th>...</th>\n",
       "      <th>gender</th>\n",
       "      <th>state</th>\n",
       "      <th>age</th>\n",
       "      <th>date_joined</th>\n",
       "      <th>number_of_dependants</th>\n",
       "      <th>family_status</th>\n",
       "      <th>income</th>\n",
       "      <th>_merge</th>\n",
       "      <th>region</th>\n",
       "      <th>activity_flag</th>\n",
       "    </tr>\n",
       "  </thead>\n",
       "  <tbody>\n",
       "    <tr>\n",
       "      <th>0</th>\n",
       "      <td>2539329</td>\n",
       "      <td>1</td>\n",
       "      <td>1</td>\n",
       "      <td>2</td>\n",
       "      <td>8</td>\n",
       "      <td>NaN</td>\n",
       "      <td>196</td>\n",
       "      <td>1</td>\n",
       "      <td>0</td>\n",
       "      <td>Soda</td>\n",
       "      <td>...</td>\n",
       "      <td>Female</td>\n",
       "      <td>Alabama</td>\n",
       "      <td>31</td>\n",
       "      <td>2/17/2019</td>\n",
       "      <td>3</td>\n",
       "      <td>married</td>\n",
       "      <td>40423</td>\n",
       "      <td>both</td>\n",
       "      <td>South</td>\n",
       "      <td>High activity customer</td>\n",
       "    </tr>\n",
       "    <tr>\n",
       "      <th>1</th>\n",
       "      <td>2398795</td>\n",
       "      <td>1</td>\n",
       "      <td>2</td>\n",
       "      <td>3</td>\n",
       "      <td>7</td>\n",
       "      <td>15.0</td>\n",
       "      <td>196</td>\n",
       "      <td>1</td>\n",
       "      <td>1</td>\n",
       "      <td>Soda</td>\n",
       "      <td>...</td>\n",
       "      <td>Female</td>\n",
       "      <td>Alabama</td>\n",
       "      <td>31</td>\n",
       "      <td>2/17/2019</td>\n",
       "      <td>3</td>\n",
       "      <td>married</td>\n",
       "      <td>40423</td>\n",
       "      <td>both</td>\n",
       "      <td>South</td>\n",
       "      <td>High activity customer</td>\n",
       "    </tr>\n",
       "    <tr>\n",
       "      <th>2</th>\n",
       "      <td>473747</td>\n",
       "      <td>1</td>\n",
       "      <td>3</td>\n",
       "      <td>3</td>\n",
       "      <td>12</td>\n",
       "      <td>21.0</td>\n",
       "      <td>196</td>\n",
       "      <td>1</td>\n",
       "      <td>1</td>\n",
       "      <td>Soda</td>\n",
       "      <td>...</td>\n",
       "      <td>Female</td>\n",
       "      <td>Alabama</td>\n",
       "      <td>31</td>\n",
       "      <td>2/17/2019</td>\n",
       "      <td>3</td>\n",
       "      <td>married</td>\n",
       "      <td>40423</td>\n",
       "      <td>both</td>\n",
       "      <td>South</td>\n",
       "      <td>High activity customer</td>\n",
       "    </tr>\n",
       "    <tr>\n",
       "      <th>3</th>\n",
       "      <td>2254736</td>\n",
       "      <td>1</td>\n",
       "      <td>4</td>\n",
       "      <td>4</td>\n",
       "      <td>7</td>\n",
       "      <td>29.0</td>\n",
       "      <td>196</td>\n",
       "      <td>1</td>\n",
       "      <td>1</td>\n",
       "      <td>Soda</td>\n",
       "      <td>...</td>\n",
       "      <td>Female</td>\n",
       "      <td>Alabama</td>\n",
       "      <td>31</td>\n",
       "      <td>2/17/2019</td>\n",
       "      <td>3</td>\n",
       "      <td>married</td>\n",
       "      <td>40423</td>\n",
       "      <td>both</td>\n",
       "      <td>South</td>\n",
       "      <td>High activity customer</td>\n",
       "    </tr>\n",
       "    <tr>\n",
       "      <th>4</th>\n",
       "      <td>431534</td>\n",
       "      <td>1</td>\n",
       "      <td>5</td>\n",
       "      <td>4</td>\n",
       "      <td>15</td>\n",
       "      <td>28.0</td>\n",
       "      <td>196</td>\n",
       "      <td>1</td>\n",
       "      <td>1</td>\n",
       "      <td>Soda</td>\n",
       "      <td>...</td>\n",
       "      <td>Female</td>\n",
       "      <td>Alabama</td>\n",
       "      <td>31</td>\n",
       "      <td>2/17/2019</td>\n",
       "      <td>3</td>\n",
       "      <td>married</td>\n",
       "      <td>40423</td>\n",
       "      <td>both</td>\n",
       "      <td>South</td>\n",
       "      <td>High activity customer</td>\n",
       "    </tr>\n",
       "  </tbody>\n",
       "</table>\n",
       "<p>5 rows × 33 columns</p>\n",
       "</div>"
      ],
      "text/plain": [
       "  order_id user_id  order_number  orders_day_of_week  order_hour_of_day  \\\n",
       "0  2539329       1             1                   2                  8   \n",
       "1  2398795       1             2                   3                  7   \n",
       "2   473747       1             3                   3                 12   \n",
       "3  2254736       1             4                   4                  7   \n",
       "4   431534       1             5                   4                 15   \n",
       "\n",
       "   days_since_previous_order  product_id  add_to_cart_order  reordered  \\\n",
       "0                        NaN         196                  1          0   \n",
       "1                       15.0         196                  1          1   \n",
       "2                       21.0         196                  1          1   \n",
       "3                       29.0         196                  1          1   \n",
       "4                       28.0         196                  1          1   \n",
       "\n",
       "  product_name  ...  gender    state  age date_joined number_of_dependants  \\\n",
       "0         Soda  ...  Female  Alabama   31   2/17/2019                    3   \n",
       "1         Soda  ...  Female  Alabama   31   2/17/2019                    3   \n",
       "2         Soda  ...  Female  Alabama   31   2/17/2019                    3   \n",
       "3         Soda  ...  Female  Alabama   31   2/17/2019                    3   \n",
       "4         Soda  ...  Female  Alabama   31   2/17/2019                    3   \n",
       "\n",
       "  family_status income  _merge region           activity_flag  \n",
       "0       married  40423    both  South  High activity customer  \n",
       "1       married  40423    both  South  High activity customer  \n",
       "2       married  40423    both  South  High activity customer  \n",
       "3       married  40423    both  South  High activity customer  \n",
       "4       married  40423    both  South  High activity customer  \n",
       "\n",
       "[5 rows x 33 columns]"
      ]
     },
     "execution_count": 30,
     "metadata": {},
     "output_type": "execute_result"
    }
   ],
   "source": [
    "instacart_clean.head()"
   ]
  },
  {
   "cell_type": "code",
   "execution_count": 31,
   "id": "5207ddb1",
   "metadata": {},
   "outputs": [],
   "source": [
    "# Creating a subset of high activity customers:\n",
    "instacart_high = instacart_clean[instacart_clean['activity_flag'] == 'High activity customer']"
   ]
  },
  {
   "cell_type": "code",
   "execution_count": 32,
   "id": "ef8aac8b",
   "metadata": {},
   "outputs": [
    {
     "data": {
      "text/plain": [
       "(30964564, 33)"
      ]
     },
     "execution_count": 32,
     "metadata": {},
     "output_type": "execute_result"
    }
   ],
   "source": [
    "instacart_high.shape"
   ]
  },
  {
   "cell_type": "markdown",
   "id": "6a63e44b",
   "metadata": {},
   "source": [
    "The number of reconrds of the new dataframe containing only high activity customers (30'964'564) matches the previous check after applying the activity flag."
   ]
  },
  {
   "cell_type": "code",
   "execution_count": 33,
   "id": "e9767760",
   "metadata": {},
   "outputs": [],
   "source": [
    "# Exporting the high activity customer dataframe as instacart_high_cust.pkl\n",
    "instacart_high.to_pickle(os.path.join(path, '02 Data', 'Prepared Data', 'instacart_high_cust.pkl'))"
   ]
  },
  {
   "cell_type": "markdown",
   "id": "24196091",
   "metadata": {},
   "source": [
    "# 06. Customer profiling"
   ]
  },
  {
   "cell_type": "markdown",
   "id": "8b8d6619",
   "metadata": {},
   "source": [
    "## 6.1 Customers per age group"
   ]
  },
  {
   "cell_type": "code",
   "execution_count": 34,
   "id": "99a5d66b",
   "metadata": {},
   "outputs": [
    {
     "data": {
      "text/plain": [
       "count    3.096456e+07\n",
       "mean     4.946803e+01\n",
       "std      1.848528e+01\n",
       "min      1.800000e+01\n",
       "25%      3.300000e+01\n",
       "50%      4.900000e+01\n",
       "75%      6.500000e+01\n",
       "max      8.100000e+01\n",
       "Name: age, dtype: float64"
      ]
     },
     "execution_count": 34,
     "metadata": {},
     "output_type": "execute_result"
    }
   ],
   "source": [
    "# Checking the details of the \"age\" column:\n",
    "instacart_high['age'].describe()"
   ]
  },
  {
   "cell_type": "markdown",
   "id": "151fe807",
   "metadata": {},
   "source": [
    "I will create the following age groups for the customers:\n",
    "\n",
    "    - 18-26 - Gen Z\n",
    "    - 27-42 - Millennials\n",
    "    - 43-58 - Gen X\n",
    "    - 59-77 - Boomers\n",
    "    - 78-81 - Post War\n",
    "\n",
    "I decided to perform the split by generation, because each of the generation have a different shopping behaviour, expect different lever of customer help, their brand loyalty is different and different marketing methods will appeal to them.\n",
    "\n",
    "This split has been taken from the following website:\n",
    "https://www.beresfordresearch.com/age-range-by-generation/ (accessed on 18.04.2023)"
   ]
  },
  {
   "cell_type": "code",
   "execution_count": 35,
   "id": "8e5b8663",
   "metadata": {},
   "outputs": [
    {
     "name": "stderr",
     "output_type": "stream",
     "text": [
      "C:\\Users\\henri\\AppData\\Local\\Temp\\ipykernel_13820\\1912993270.py:2: SettingWithCopyWarning: \n",
      "A value is trying to be set on a copy of a slice from a DataFrame.\n",
      "Try using .loc[row_indexer,col_indexer] = value instead\n",
      "\n",
      "See the caveats in the documentation: https://pandas.pydata.org/pandas-docs/stable/user_guide/indexing.html#returning-a-view-versus-a-copy\n",
      "  instacart_high.loc[(instacart_high['age'] >= 18) & (instacart_high['age'] < 27), 'age_group'] = 'Gen Z (18-26)'\n"
     ]
    }
   ],
   "source": [
    "# Creating a customer age group flag:\n",
    "instacart_high.loc[(instacart_high['age'] >= 18) & (instacart_high['age'] < 27), 'age_group'] = 'Gen Z (18-26)'"
   ]
  },
  {
   "cell_type": "code",
   "execution_count": 36,
   "id": "3bab4c3a",
   "metadata": {},
   "outputs": [],
   "source": [
    "instacart_high.loc[(instacart_high['age'] >= 27) & (instacart_high['age'] < 43), 'age_group'] = 'Millennials (27-42)'"
   ]
  },
  {
   "cell_type": "code",
   "execution_count": 37,
   "id": "864f1ee9",
   "metadata": {},
   "outputs": [],
   "source": [
    "instacart_high.loc[(instacart_high['age'] >= 43) & (instacart_high['age'] < 59), 'age_group'] = 'Gen X (43-58)'"
   ]
  },
  {
   "cell_type": "code",
   "execution_count": 38,
   "id": "5becc121",
   "metadata": {},
   "outputs": [],
   "source": [
    "instacart_high.loc[(instacart_high['age'] >= 59) & (instacart_high['age'] < 78), 'age_group'] = 'Boomers (59-77)'"
   ]
  },
  {
   "cell_type": "code",
   "execution_count": 39,
   "id": "893bb78c",
   "metadata": {},
   "outputs": [],
   "source": [
    "instacart_high.loc[(instacart_high['age'] >= 78) & (instacart_high['age'] <= 81), 'age_group'] = 'Post War (78-81)'"
   ]
  },
  {
   "cell_type": "code",
   "execution_count": 40,
   "id": "442eba54",
   "metadata": {},
   "outputs": [
    {
     "data": {
      "text/plain": [
       "Boomers (59-77)        9097166\n",
       "Gen X (43-58)          7824562\n",
       "Millennials (27-42)    7730373\n",
       "Gen Z (18-26)          4354410\n",
       "Post War (78-81)       1958053\n",
       "Name: age_group, dtype: int64"
      ]
     },
     "execution_count": 40,
     "metadata": {},
     "output_type": "execute_result"
    }
   ],
   "source": [
    "instacart_high['age_group'].value_counts(dropna = False)"
   ]
  },
  {
   "cell_type": "code",
   "execution_count": 41,
   "id": "6cbc2b0d",
   "metadata": {},
   "outputs": [
    {
     "data": {
      "image/png": "[encoded data removed]",
      "text/plain": [
       "<Figure size 640x480 with 1 Axes>"
      ]
     },
     "metadata": {},
     "output_type": "display_data"
    }
   ],
   "source": [
    "bar_age_group = instacart_high['age_group'].value_counts().plot.barh()"
   ]
  },
  {
   "cell_type": "markdown",
   "id": "2221e51c",
   "metadata": {},
   "source": [
    "We see that the generation of Baby Boomers (aged 59-77 in 2023) has placed the most orders, followed by Gen X (aged 43-58 in 2023) and Millenials (aged 27-42 in 2023). Supprisingly, the youngest generation is not placing so many orders using the app, as the older adults and seniors. \n",
    "\n",
    "We need to keep in mind that the Post War generation consists of only customers aged 78-81, making this group quite small.\n",
    "\n",
    "Reccomendation: Instacart marketing team should target their advertisment to the Gen Z customers, so that they place more orders using the app and to attract more of new customers."
   ]
  },
  {
   "cell_type": "code",
   "execution_count": 42,
   "id": "8438b8f0",
   "metadata": {},
   "outputs": [],
   "source": [
    "# Saving the chart as an image file:\n",
    "bar_age_group.figure.savefig(os.path.join(path, '04 Analysis','Visualizations', 'bar_age_group.png'))"
   ]
  },
  {
   "cell_type": "markdown",
   "id": "19a2afd8",
   "metadata": {},
   "source": [
    "## 6.2 Customers by gender"
   ]
  },
  {
   "cell_type": "markdown",
   "id": "baf02172",
   "metadata": {},
   "source": [
    "The gender information is easily accessible directly in the dataframe, so no additional data aggregation is needed."
   ]
  },
  {
   "cell_type": "code",
   "execution_count": 43,
   "id": "2d2255b5",
   "metadata": {},
   "outputs": [
    {
     "data": {
      "text/plain": [
       "Male      15586740\n",
       "Female    15377824\n",
       "Name: gender, dtype: int64"
      ]
     },
     "execution_count": 43,
     "metadata": {},
     "output_type": "execute_result"
    }
   ],
   "source": [
    "instacart_high['gender'].value_counts(dropna = False)"
   ]
  },
  {
   "cell_type": "code",
   "execution_count": 44,
   "id": "da65fac1",
   "metadata": {},
   "outputs": [
    {
     "data": {
      "image/png": "[encoded data removed]",
      "text/plain": [
       "<Figure size 640x480 with 1 Axes>"
      ]
     },
     "metadata": {},
     "output_type": "display_data"
    }
   ],
   "source": [
    "bar_gender = instacart_high['gender'].value_counts().plot.bar()"
   ]
  },
  {
   "cell_type": "markdown",
   "id": "1e523ec6",
   "metadata": {},
   "source": [
    "There is no difference in consumer behaviour in different number of placing the orders based on the gender. "
   ]
  },
  {
   "cell_type": "code",
   "execution_count": 45,
   "id": "501576d4",
   "metadata": {},
   "outputs": [],
   "source": [
    "# Saving the chart as an image file:\n",
    "bar_gender.figure.savefig(os.path.join(path, '04 Analysis','Visualizations', 'bar_gender.png'))"
   ]
  },
  {
   "cell_type": "markdown",
   "id": "b4544543",
   "metadata": {},
   "source": [
    "## 6.3 Customers per income"
   ]
  },
  {
   "cell_type": "code",
   "execution_count": 46,
   "id": "16a0db2c",
   "metadata": {},
   "outputs": [
    {
     "data": {
      "text/plain": [
       "count    3.096456e+07\n",
       "mean     9.967587e+04\n",
       "std      4.314187e+04\n",
       "min      2.590300e+04\n",
       "25%      6.729200e+04\n",
       "50%      9.676500e+04\n",
       "75%      1.281020e+05\n",
       "max      5.939010e+05\n",
       "Name: income, dtype: float64"
      ]
     },
     "execution_count": 46,
     "metadata": {},
     "output_type": "execute_result"
    }
   ],
   "source": [
    "# Checking the details of the \"income\" column:\n",
    "instacart_high['income'].describe()"
   ]
  },
  {
   "cell_type": "markdown",
   "id": "09afdeb9",
   "metadata": {},
   "source": [
    "I will group the customers into 3 income groups based on the article from usnews.com (link below) accessed on 18.04.2023:\n",
    "\n",
    "    - Low income - less then 52'200\n",
    "    - Middle income - 52'200 - 156'600\n",
    "    - Upper income - more than 156'600\n",
    "    \n",
    "https://money.usnews.com/money/personal-finance/family-finance/articles/where-do-i-fall-in-the-american-economic-class-system"
   ]
  },
  {
   "cell_type": "code",
   "execution_count": 47,
   "id": "df9e55c5",
   "metadata": {},
   "outputs": [
    {
     "name": "stderr",
     "output_type": "stream",
     "text": [
      "C:\\Users\\henri\\AppData\\Local\\Temp\\ipykernel_13820\\753040209.py:2: SettingWithCopyWarning: \n",
      "A value is trying to be set on a copy of a slice from a DataFrame.\n",
      "Try using .loc[row_indexer,col_indexer] = value instead\n",
      "\n",
      "See the caveats in the documentation: https://pandas.pydata.org/pandas-docs/stable/user_guide/indexing.html#returning-a-view-versus-a-copy\n",
      "  instacart_high.loc[instacart_high['income'] < 52200, 'income_group'] = 'Low income'\n"
     ]
    }
   ],
   "source": [
    "# Creating a customer income group flag:\n",
    "instacart_high.loc[instacart_high['income'] < 52200, 'income_group'] = 'Low income'"
   ]
  },
  {
   "cell_type": "code",
   "execution_count": 48,
   "id": "94623b5a",
   "metadata": {},
   "outputs": [],
   "source": [
    "instacart_high.loc[(instacart_high['income'] >= 52200) & (instacart_high['income'] <= 156600), 'income_group'] = 'Middle income'"
   ]
  },
  {
   "cell_type": "code",
   "execution_count": 49,
   "id": "f6dd3fb4",
   "metadata": {},
   "outputs": [],
   "source": [
    "instacart_high.loc[instacart_high['income'] > 156600, 'income_group'] = 'Upper income'"
   ]
  },
  {
   "cell_type": "code",
   "execution_count": 50,
   "id": "f525436b",
   "metadata": {},
   "outputs": [
    {
     "data": {
      "text/plain": [
       "Middle income    24541393\n",
       "Low income        3691708\n",
       "Upper income      2731463\n",
       "Name: income_group, dtype: int64"
      ]
     },
     "execution_count": 50,
     "metadata": {},
     "output_type": "execute_result"
    }
   ],
   "source": [
    "instacart_high['income_group'].value_counts(dropna = False)"
   ]
  },
  {
   "cell_type": "code",
   "execution_count": 51,
   "id": "597e42ca",
   "metadata": {},
   "outputs": [
    {
     "data": {
      "image/png": "[encoded data removed]",
      "text/plain": [
       "<Figure size 640x480 with 1 Axes>"
      ]
     },
     "metadata": {},
     "output_type": "display_data"
    }
   ],
   "source": [
    "bar_income = instacart_high['income_group'].value_counts().plot.bar()"
   ]
  },
  {
   "cell_type": "code",
   "execution_count": 52,
   "id": "6d60bd65",
   "metadata": {},
   "outputs": [],
   "source": [
    "# Saving the chart as an image file:\n",
    "bar_income.figure.savefig(os.path.join(path, '04 Analysis','Visualizations', 'bar_income.png'))"
   ]
  },
  {
   "cell_type": "markdown",
   "id": "37c072ef",
   "metadata": {},
   "source": [
    "## 6.4 Customers per family status"
   ]
  },
  {
   "cell_type": "markdown",
   "id": "1d6de93e",
   "metadata": {},
   "source": [
    "The family status information is easily accessible directly in the dataframe, so no additional data aggregation is needed."
   ]
  },
  {
   "cell_type": "code",
   "execution_count": 53,
   "id": "c66d7b62",
   "metadata": {},
   "outputs": [
    {
     "data": {
      "text/plain": [
       "married                             21743711\n",
       "single                               5094410\n",
       "divorced/widowed                     2645271\n",
       "living with parents and siblings     1481172\n",
       "Name: family_status, dtype: int64"
      ]
     },
     "execution_count": 53,
     "metadata": {},
     "output_type": "execute_result"
    }
   ],
   "source": [
    "instacart_high['family_status'].value_counts(dropna = False)"
   ]
  },
  {
   "cell_type": "code",
   "execution_count": 54,
   "id": "cfab4dc9",
   "metadata": {},
   "outputs": [
    {
     "data": {
      "text/plain": [
       "married                             0.702213\n",
       "single                              0.164524\n",
       "divorced/widowed                    0.085429\n",
       "living with parents and siblings    0.047834\n",
       "Name: family_status, dtype: float64"
      ]
     },
     "execution_count": 54,
     "metadata": {},
     "output_type": "execute_result"
    }
   ],
   "source": [
    "instacart_high['family_status'].value_counts(normalize = True)"
   ]
  },
  {
   "cell_type": "code",
   "execution_count": 55,
   "id": "721aa5de",
   "metadata": {},
   "outputs": [
    {
     "data": {
      "image/png": "[encoded data removed]",
      "text/plain": [
       "<Figure size 640x480 with 1 Axes>"
      ]
     },
     "metadata": {},
     "output_type": "display_data"
    }
   ],
   "source": [
    "bar_family = instacart_high['family_status'].value_counts().plot.barh()"
   ]
  },
  {
   "cell_type": "markdown",
   "id": "5cd2f060",
   "metadata": {},
   "source": [
    "From the above, we see that the highest number of orders were placed by married customers (70.2% of orders), followed by single customers (16.5% of orders)."
   ]
  },
  {
   "cell_type": "code",
   "execution_count": 56,
   "id": "15f5ff14",
   "metadata": {},
   "outputs": [],
   "source": [
    "# Saving the chart as an image file:\n",
    "bar_family.figure.savefig(os.path.join(path, '04 Analysis','Visualizations', 'bar_family.png'))"
   ]
  },
  {
   "cell_type": "markdown",
   "id": "50590914",
   "metadata": {},
   "source": [
    "## 6.5 Customers per number of children"
   ]
  },
  {
   "cell_type": "markdown",
   "id": "a901dcb2",
   "metadata": {},
   "source": [
    "The information about the number of children is easily accessible directly in the dataframe, so no additional data aggregation is needed."
   ]
  },
  {
   "cell_type": "code",
   "execution_count": 57,
   "id": "226f69f9",
   "metadata": {},
   "outputs": [
    {
     "data": {
      "text/plain": [
       "3    7772516\n",
       "0    7739681\n",
       "2    7733261\n",
       "1    7719106\n",
       "Name: number_of_dependants, dtype: int64"
      ]
     },
     "execution_count": 57,
     "metadata": {},
     "output_type": "execute_result"
    }
   ],
   "source": [
    "instacart_high['number_of_dependants'].value_counts(dropna = False)"
   ]
  },
  {
   "cell_type": "code",
   "execution_count": 58,
   "id": "2f9b9542",
   "metadata": {},
   "outputs": [
    {
     "data": {
      "image/png": "[encoded data removed]",
      "text/plain": [
       "<Figure size 640x480 with 1 Axes>"
      ]
     },
     "metadata": {},
     "output_type": "display_data"
    }
   ],
   "source": [
    "bar_children = instacart_high['number_of_dependants'].value_counts().plot.barh()"
   ]
  },
  {
   "cell_type": "markdown",
   "id": "229f005d",
   "metadata": {},
   "source": [
    "There is no difference in the number of orders placed by customers in relation to how many dependents they have."
   ]
  },
  {
   "cell_type": "code",
   "execution_count": 59,
   "id": "8f87a6b8",
   "metadata": {},
   "outputs": [],
   "source": [
    "# Saving the chart as an image file:\n",
    "bar_children.figure.savefig(os.path.join(path, '04 Analysis','Visualizations', 'bar_children.png'))"
   ]
  },
  {
   "cell_type": "markdown",
   "id": "f5617bae",
   "metadata": {},
   "source": [
    "## 6.6 Customer orders per time of day"
   ]
  },
  {
   "cell_type": "code",
   "execution_count": 60,
   "id": "697630d8",
   "metadata": {},
   "outputs": [
    {
     "data": {
      "text/plain": [
       "10    2649744\n",
       "11    2614880\n",
       "14    2567903\n",
       "13    2539276\n",
       "15    2535966\n",
       "12    2495795\n",
       "16    2413681\n",
       "9     2363611\n",
       "17    1982345\n",
       "8     1659110\n",
       "18    1551184\n",
       "19    1193878\n",
       "20     930909\n",
       "7      863213\n",
       "21     763111\n",
       "22     607060\n",
       "23     384554\n",
       "6      281013\n",
       "0      208042\n",
       "1      109621\n",
       "5       84418\n",
       "2       65691\n",
       "4       50763\n",
       "3       48796\n",
       "Name: order_hour_of_day, dtype: int64"
      ]
     },
     "execution_count": 60,
     "metadata": {},
     "output_type": "execute_result"
    }
   ],
   "source": [
    "instacart_high['order_hour_of_day'].value_counts(dropna=False)"
   ]
  },
  {
   "cell_type": "markdown",
   "id": "a7dcfb1b",
   "metadata": {},
   "source": [
    "I will group the orders into 4 periods of day:\n",
    "\n",
    "    - morning (6-11)\n",
    "    - afternoon (12-17)\n",
    "    - evening (18-23)\n",
    "    - night (0-5)"
   ]
  },
  {
   "cell_type": "code",
   "execution_count": 61,
   "id": "2a613128",
   "metadata": {},
   "outputs": [],
   "source": [
    "# Creating period of day lists:\n",
    "morning = [6, 7, 8, 9, 10, 11]"
   ]
  },
  {
   "cell_type": "code",
   "execution_count": 62,
   "id": "33282f07",
   "metadata": {},
   "outputs": [],
   "source": [
    "afternoon = [12, 13, 14, 15, 16, 17]"
   ]
  },
  {
   "cell_type": "code",
   "execution_count": 63,
   "id": "f3faef0e",
   "metadata": {},
   "outputs": [],
   "source": [
    "evening = [18, 19, 20, 21, 22, 23]"
   ]
  },
  {
   "cell_type": "code",
   "execution_count": 64,
   "id": "c0ea5bd0",
   "metadata": {},
   "outputs": [],
   "source": [
    "night = [0, 1, 2, 3, 4, 5]"
   ]
  },
  {
   "cell_type": "code",
   "execution_count": 65,
   "id": "1d48591c",
   "metadata": {},
   "outputs": [
    {
     "name": "stderr",
     "output_type": "stream",
     "text": [
      "C:\\Users\\henri\\AppData\\Local\\Temp\\ipykernel_13820\\1048982099.py:2: SettingWithCopyWarning: \n",
      "A value is trying to be set on a copy of a slice from a DataFrame.\n",
      "Try using .loc[row_indexer,col_indexer] = value instead\n",
      "\n",
      "See the caveats in the documentation: https://pandas.pydata.org/pandas-docs/stable/user_guide/indexing.html#returning-a-view-versus-a-copy\n",
      "  instacart_high.loc[instacart_high['order_hour_of_day'].isin(morning), 'order_time'] = 'Morning'\n"
     ]
    }
   ],
   "source": [
    "# Creating a “order_time” column based on the \"order_hour_of_day\" column from the customers data set.\n",
    "instacart_high.loc[instacart_high['order_hour_of_day'].isin(morning), 'order_time'] = 'Morning'"
   ]
  },
  {
   "cell_type": "code",
   "execution_count": 66,
   "id": "f14c6b3d",
   "metadata": {},
   "outputs": [],
   "source": [
    "instacart_high.loc[instacart_high['order_hour_of_day'].isin(afternoon), 'order_time'] = 'Afternoon'"
   ]
  },
  {
   "cell_type": "code",
   "execution_count": 67,
   "id": "27d780ac",
   "metadata": {},
   "outputs": [],
   "source": [
    "instacart_high.loc[instacart_high['order_hour_of_day'].isin(evening), 'order_time'] = 'Evening'"
   ]
  },
  {
   "cell_type": "code",
   "execution_count": 68,
   "id": "096cc4ea",
   "metadata": {},
   "outputs": [],
   "source": [
    "instacart_high.loc[instacart_high['order_hour_of_day'].isin(night), 'order_time'] = 'Night'"
   ]
  },
  {
   "cell_type": "code",
   "execution_count": 69,
   "id": "0713c6a0",
   "metadata": {},
   "outputs": [
    {
     "data": {
      "image/png": "[encoded data removed]",
      "text/plain": [
       "<Figure size 640x480 with 1 Axes>"
      ]
     },
     "metadata": {},
     "output_type": "display_data"
    }
   ],
   "source": [
    "bar_time = instacart_high['order_time'].value_counts().plot.barh()"
   ]
  },
  {
   "cell_type": "code",
   "execution_count": 70,
   "id": "f7a4f76c",
   "metadata": {},
   "outputs": [],
   "source": [
    "# Saving the chart as an image file:\n",
    "bar_time.figure.savefig(os.path.join(path, '04 Analysis','Visualizations', 'bar_time.png'))"
   ]
  },
  {
   "cell_type": "code",
   "execution_count": 71,
   "id": "bf7db4c6",
   "metadata": {},
   "outputs": [
    {
     "data": {
      "text/plain": [
       "Afternoon    14534966\n",
       "Morning      10431571\n",
       "Evening       5430696\n",
       "Night          567331\n",
       "Name: order_time, dtype: int64"
      ]
     },
     "execution_count": 71,
     "metadata": {},
     "output_type": "execute_result"
    }
   ],
   "source": [
    "instacart_high['order_time'].value_counts(dropna = False)"
   ]
  },
  {
   "cell_type": "code",
   "execution_count": 72,
   "id": "a635572a",
   "metadata": {},
   "outputs": [
    {
     "data": {
      "text/plain": [
       "Afternoon    0.469406\n",
       "Morning      0.336887\n",
       "Evening      0.175384\n",
       "Night        0.018322\n",
       "Name: order_time, dtype: float64"
      ]
     },
     "execution_count": 72,
     "metadata": {},
     "output_type": "execute_result"
    }
   ],
   "source": [
    "instacart_high['order_time'].value_counts(normalize = True)"
   ]
  },
  {
   "cell_type": "markdown",
   "id": "91f79d9c",
   "metadata": {},
   "source": [
    "Almost half of the orders (47%) is placed in the afternoon (between 12h and 18h), followed by orders placed during morning hours (between 6h and 12h) which account for 33.7%."
   ]
  },
  {
   "cell_type": "markdown",
   "id": "36a2a3b0",
   "metadata": {},
   "source": [
    "## 6.7 Customer orders per day of week"
   ]
  },
  {
   "cell_type": "markdown",
   "id": "cb7f2f0d",
   "metadata": {},
   "source": [
    "I will group the orders into:\n",
    "\n",
    "    - weekdays (Mon-Fri)\n",
    "    - weekends (Sat-Sun)"
   ]
  },
  {
   "cell_type": "code",
   "execution_count": 73,
   "id": "274bd4ae",
   "metadata": {},
   "outputs": [],
   "source": [
    "# Creating weekday lists:\n",
    "weekday = [2, 3, 4, 5, 6]"
   ]
  },
  {
   "cell_type": "code",
   "execution_count": 74,
   "id": "0f817466",
   "metadata": {},
   "outputs": [],
   "source": [
    "weekend = [0, 1]"
   ]
  },
  {
   "cell_type": "code",
   "execution_count": 75,
   "id": "6241ce65",
   "metadata": {},
   "outputs": [
    {
     "name": "stderr",
     "output_type": "stream",
     "text": [
      "C:\\Users\\henri\\AppData\\Local\\Temp\\ipykernel_13820\\2676908430.py:2: SettingWithCopyWarning: \n",
      "A value is trying to be set on a copy of a slice from a DataFrame.\n",
      "Try using .loc[row_indexer,col_indexer] = value instead\n",
      "\n",
      "See the caveats in the documentation: https://pandas.pydata.org/pandas-docs/stable/user_guide/indexing.html#returning-a-view-versus-a-copy\n",
      "  instacart_high.loc[instacart_high['orders_day_of_week'].isin(weekday), 'week_day'] = 'Weekday'\n"
     ]
    }
   ],
   "source": [
    "# Creating a “week_day” column based on the \"order_day_of_week\" column from the customers data set.\n",
    "instacart_high.loc[instacart_high['orders_day_of_week'].isin(weekday), 'week_day'] = 'Weekday'"
   ]
  },
  {
   "cell_type": "code",
   "execution_count": 76,
   "id": "4eaceed7",
   "metadata": {},
   "outputs": [],
   "source": [
    "instacart_high.loc[instacart_high['orders_day_of_week'].isin(weekend), 'week_day'] = 'Weekend'"
   ]
  },
  {
   "cell_type": "code",
   "execution_count": 77,
   "id": "4d17dcaa",
   "metadata": {},
   "outputs": [
    {
     "data": {
      "text/plain": [
       "Weekday    19644268\n",
       "Weekend    11320296\n",
       "Name: week_day, dtype: int64"
      ]
     },
     "execution_count": 77,
     "metadata": {},
     "output_type": "execute_result"
    }
   ],
   "source": [
    "instacart_high['week_day'].value_counts(dropna=False)"
   ]
  },
  {
   "cell_type": "code",
   "execution_count": 78,
   "id": "ec3d17bd",
   "metadata": {},
   "outputs": [
    {
     "data": {
      "text/plain": [
       "Weekday    0.634411\n",
       "Weekend    0.365589\n",
       "Name: week_day, dtype: float64"
      ]
     },
     "execution_count": 78,
     "metadata": {},
     "output_type": "execute_result"
    }
   ],
   "source": [
    "instacart_high['week_day'].value_counts(normalize=True)"
   ]
  },
  {
   "cell_type": "code",
   "execution_count": 79,
   "id": "6853bdc7",
   "metadata": {},
   "outputs": [
    {
     "data": {
      "image/png": "[encoded data removed]",
      "text/plain": [
       "<Figure size 640x480 with 1 Axes>"
      ]
     },
     "metadata": {},
     "output_type": "display_data"
    }
   ],
   "source": [
    "bar_day = instacart_high['week_day'].value_counts().plot.bar()"
   ]
  },
  {
   "cell_type": "markdown",
   "id": "fc2aa721",
   "metadata": {},
   "source": [
    "Majority of orders (63.4%) is placed during the week (from Monday to Friday), while the remaining orders (36.6%) are placed during weekend. \n",
    "\n",
    "When we calculate the average order per day, we get 3.9 milion orders during the week and 5.7 milion orders during the weekend. So even though in total numbers, the weekend orders seem smaller, in reality, more orders per day are placed actually during Saturday and Sunday."
   ]
  },
  {
   "cell_type": "code",
   "execution_count": 80,
   "id": "97860b86",
   "metadata": {},
   "outputs": [],
   "source": [
    "# Saving the chart as an image file:\n",
    "bar_day.figure.savefig(os.path.join(path, '04 Analysis','Visualizations', 'bar_day.png'))"
   ]
  },
  {
   "cell_type": "markdown",
   "id": "3ffbc9dd",
   "metadata": {},
   "source": [
    "# 07. Descriptive statistics on customer profiles for usage frequency and expenditure"
   ]
  },
  {
   "cell_type": "markdown",
   "id": "c8df630a",
   "metadata": {},
   "source": [
    "## 7.1 Age group"
   ]
  },
  {
   "cell_type": "markdown",
   "id": "c4ca1e49",
   "metadata": {},
   "source": [
    "#### Usage frequency"
   ]
  },
  {
   "cell_type": "code",
   "execution_count": 81,
   "id": "c7f4ce04",
   "metadata": {},
   "outputs": [
    {
     "data": {
      "text/html": [
       "<div>\n",
       "<style scoped>\n",
       "    .dataframe tbody tr th:only-of-type {\n",
       "        vertical-align: middle;\n",
       "    }\n",
       "\n",
       "    .dataframe tbody tr th {\n",
       "        vertical-align: top;\n",
       "    }\n",
       "\n",
       "    .dataframe thead tr th {\n",
       "        text-align: left;\n",
       "    }\n",
       "\n",
       "    .dataframe thead tr:last-of-type th {\n",
       "        text-align: right;\n",
       "    }\n",
       "</style>\n",
       "<table border=\"1\" class=\"dataframe\">\n",
       "  <thead>\n",
       "    <tr>\n",
       "      <th></th>\n",
       "      <th colspan=\"3\" halign=\"left\">median_order_frequency</th>\n",
       "    </tr>\n",
       "    <tr>\n",
       "      <th></th>\n",
       "      <th>max</th>\n",
       "      <th>mean</th>\n",
       "      <th>min</th>\n",
       "    </tr>\n",
       "    <tr>\n",
       "      <th>age_group</th>\n",
       "      <th></th>\n",
       "      <th></th>\n",
       "      <th></th>\n",
       "    </tr>\n",
       "  </thead>\n",
       "  <tbody>\n",
       "    <tr>\n",
       "      <th>Boomers (59-77)</th>\n",
       "      <td>30.0</td>\n",
       "      <td>9.952457</td>\n",
       "      <td>0.0</td>\n",
       "    </tr>\n",
       "    <tr>\n",
       "      <th>Gen X (43-58)</th>\n",
       "      <td>30.0</td>\n",
       "      <td>9.979539</td>\n",
       "      <td>0.0</td>\n",
       "    </tr>\n",
       "    <tr>\n",
       "      <th>Gen Z (18-26)</th>\n",
       "      <td>30.0</td>\n",
       "      <td>9.944671</td>\n",
       "      <td>0.0</td>\n",
       "    </tr>\n",
       "    <tr>\n",
       "      <th>Millennials (27-42)</th>\n",
       "      <td>30.0</td>\n",
       "      <td>9.947727</td>\n",
       "      <td>0.0</td>\n",
       "    </tr>\n",
       "    <tr>\n",
       "      <th>Post War (78-81)</th>\n",
       "      <td>30.0</td>\n",
       "      <td>9.954280</td>\n",
       "      <td>0.0</td>\n",
       "    </tr>\n",
       "  </tbody>\n",
       "</table>\n",
       "</div>"
      ],
      "text/plain": [
       "                    median_order_frequency               \n",
       "                                       max      mean  min\n",
       "age_group                                                \n",
       "Boomers (59-77)                       30.0  9.952457  0.0\n",
       "Gen X (43-58)                         30.0  9.979539  0.0\n",
       "Gen Z (18-26)                         30.0  9.944671  0.0\n",
       "Millennials (27-42)                   30.0  9.947727  0.0\n",
       "Post War (78-81)                      30.0  9.954280  0.0"
      ]
     },
     "execution_count": 81,
     "metadata": {},
     "output_type": "execute_result"
    }
   ],
   "source": [
    "instacart_high.groupby('age_group').agg({'median_order_frequency': ['max', 'mean', 'min']})"
   ]
  },
  {
   "cell_type": "markdown",
   "id": "ff54abb1",
   "metadata": {},
   "source": [
    "There is no significant difference in the frequency the customers place their orders based on the age group. All generations place an order on average every 10 days."
   ]
  },
  {
   "cell_type": "markdown",
   "id": "8c4cc6f6",
   "metadata": {},
   "source": [
    "#### Expenditure"
   ]
  },
  {
   "cell_type": "markdown",
   "id": "52e96e6c",
   "metadata": {},
   "source": [
    "To have all the data for max, mean and min expenditure per customer profile, I will calculate the total spend by customer. This will add more insights, as average spend per customer per order might sometimes be not enough."
   ]
  },
  {
   "cell_type": "code",
   "execution_count": 82,
   "id": "a73a2efa",
   "metadata": {},
   "outputs": [
    {
     "name": "stderr",
     "output_type": "stream",
     "text": [
      "C:\\Users\\henri\\AppData\\Local\\Temp\\ipykernel_13820\\712812461.py:2: SettingWithCopyWarning: \n",
      "A value is trying to be set on a copy of a slice from a DataFrame.\n",
      "Try using .loc[row_indexer,col_indexer] = value instead\n",
      "\n",
      "See the caveats in the documentation: https://pandas.pydata.org/pandas-docs/stable/user_guide/indexing.html#returning-a-view-versus-a-copy\n",
      "  instacart_high['total_spend'] = instacart_high.groupby(['user_id'])['prices'].transform(np.sum)\n"
     ]
    }
   ],
   "source": [
    "# Creating a \"total_spend\" by customer column:\n",
    "instacart_high['total_spend'] = instacart_high.groupby(['user_id'])['prices'].transform(np.sum)"
   ]
  },
  {
   "cell_type": "code",
   "execution_count": 83,
   "id": "83fc5292",
   "metadata": {},
   "outputs": [
    {
     "data": {
      "text/html": [
       "<div>\n",
       "<style scoped>\n",
       "    .dataframe tbody tr th:only-of-type {\n",
       "        vertical-align: middle;\n",
       "    }\n",
       "\n",
       "    .dataframe tbody tr th {\n",
       "        vertical-align: top;\n",
       "    }\n",
       "\n",
       "    .dataframe thead tr th {\n",
       "        text-align: left;\n",
       "    }\n",
       "\n",
       "    .dataframe thead tr:last-of-type th {\n",
       "        text-align: right;\n",
       "    }\n",
       "</style>\n",
       "<table border=\"1\" class=\"dataframe\">\n",
       "  <thead>\n",
       "    <tr>\n",
       "      <th></th>\n",
       "      <th colspan=\"3\" halign=\"left\">mean_spend</th>\n",
       "    </tr>\n",
       "    <tr>\n",
       "      <th></th>\n",
       "      <th>max</th>\n",
       "      <th>mean</th>\n",
       "      <th>min</th>\n",
       "    </tr>\n",
       "    <tr>\n",
       "      <th>age_group</th>\n",
       "      <th></th>\n",
       "      <th></th>\n",
       "      <th></th>\n",
       "    </tr>\n",
       "  </thead>\n",
       "  <tbody>\n",
       "    <tr>\n",
       "      <th>Boomers (59-77)</th>\n",
       "      <td>7414.485185</td>\n",
       "      <td>11.788628</td>\n",
       "      <td>1.2625</td>\n",
       "    </tr>\n",
       "    <tr>\n",
       "      <th>Gen X (43-58)</th>\n",
       "      <td>15006.940000</td>\n",
       "      <td>12.185918</td>\n",
       "      <td>1.0000</td>\n",
       "    </tr>\n",
       "    <tr>\n",
       "      <th>Gen Z (18-26)</th>\n",
       "      <td>10209.987755</td>\n",
       "      <td>12.161407</td>\n",
       "      <td>2.0000</td>\n",
       "    </tr>\n",
       "    <tr>\n",
       "      <th>Millennials (27-42)</th>\n",
       "      <td>6388.812766</td>\n",
       "      <td>11.859149</td>\n",
       "      <td>1.0000</td>\n",
       "    </tr>\n",
       "    <tr>\n",
       "      <th>Post War (78-81)</th>\n",
       "      <td>14042.512281</td>\n",
       "      <td>11.384939</td>\n",
       "      <td>2.0000</td>\n",
       "    </tr>\n",
       "  </tbody>\n",
       "</table>\n",
       "</div>"
      ],
      "text/plain": [
       "                       mean_spend                   \n",
       "                              max       mean     min\n",
       "age_group                                           \n",
       "Boomers (59-77)       7414.485185  11.788628  1.2625\n",
       "Gen X (43-58)        15006.940000  12.185918  1.0000\n",
       "Gen Z (18-26)        10209.987755  12.161407  2.0000\n",
       "Millennials (27-42)   6388.812766  11.859149  1.0000\n",
       "Post War (78-81)     14042.512281  11.384939  2.0000"
      ]
     },
     "execution_count": 83,
     "metadata": {},
     "output_type": "execute_result"
    }
   ],
   "source": [
    "instacart_high.groupby('age_group').agg({'mean_spend': ['max', 'mean', 'min']})"
   ]
  },
  {
   "cell_type": "code",
   "execution_count": 84,
   "id": "3cc5660a",
   "metadata": {},
   "outputs": [
    {
     "data": {
      "text/html": [
       "<div>\n",
       "<style scoped>\n",
       "    .dataframe tbody tr th:only-of-type {\n",
       "        vertical-align: middle;\n",
       "    }\n",
       "\n",
       "    .dataframe tbody tr th {\n",
       "        vertical-align: top;\n",
       "    }\n",
       "\n",
       "    .dataframe thead tr th {\n",
       "        text-align: left;\n",
       "    }\n",
       "\n",
       "    .dataframe thead tr:last-of-type th {\n",
       "        text-align: right;\n",
       "    }\n",
       "</style>\n",
       "<table border=\"1\" class=\"dataframe\">\n",
       "  <thead>\n",
       "    <tr>\n",
       "      <th></th>\n",
       "      <th colspan=\"3\" halign=\"left\">total_spend</th>\n",
       "    </tr>\n",
       "    <tr>\n",
       "      <th></th>\n",
       "      <th>max</th>\n",
       "      <th>mean</th>\n",
       "      <th>min</th>\n",
       "    </tr>\n",
       "    <tr>\n",
       "      <th>age_group</th>\n",
       "      <th></th>\n",
       "      <th></th>\n",
       "      <th></th>\n",
       "    </tr>\n",
       "  </thead>\n",
       "  <tbody>\n",
       "    <tr>\n",
       "      <th>Boomers (59-77)</th>\n",
       "      <td>26394.9</td>\n",
       "      <td>3411.315497</td>\n",
       "      <td>6.8</td>\n",
       "    </tr>\n",
       "    <tr>\n",
       "      <th>Gen X (43-58)</th>\n",
       "      <td>21509.2</td>\n",
       "      <td>3400.744635</td>\n",
       "      <td>5.0</td>\n",
       "    </tr>\n",
       "    <tr>\n",
       "      <th>Gen Z (18-26)</th>\n",
       "      <td>18436.9</td>\n",
       "      <td>3427.819401</td>\n",
       "      <td>10.5</td>\n",
       "    </tr>\n",
       "    <tr>\n",
       "      <th>Millennials (27-42)</th>\n",
       "      <td>22696.9</td>\n",
       "      <td>3446.325156</td>\n",
       "      <td>7.0</td>\n",
       "    </tr>\n",
       "    <tr>\n",
       "      <th>Post War (78-81)</th>\n",
       "      <td>18949.4</td>\n",
       "      <td>3389.577509</td>\n",
       "      <td>12.0</td>\n",
       "    </tr>\n",
       "  </tbody>\n",
       "</table>\n",
       "</div>"
      ],
      "text/plain": [
       "                    total_spend                   \n",
       "                            max         mean   min\n",
       "age_group                                         \n",
       "Boomers (59-77)         26394.9  3411.315497   6.8\n",
       "Gen X (43-58)           21509.2  3400.744635   5.0\n",
       "Gen Z (18-26)           18436.9  3427.819401  10.5\n",
       "Millennials (27-42)     22696.9  3446.325156   7.0\n",
       "Post War (78-81)        18949.4  3389.577509  12.0"
      ]
     },
     "execution_count": 84,
     "metadata": {},
     "output_type": "execute_result"
    }
   ],
   "source": [
    "instacart_high.groupby('age_group').agg({'total_spend': ['max', 'mean', 'min']})"
   ]
  },
  {
   "cell_type": "markdown",
   "id": "87ae07a1",
   "metadata": {},
   "source": [
    "The average total spend and spend per order by different age groups is quite similar. The bigest difference per age group we see on the maximums. The maximum average order for Gen X (43-58) customers is USD 15'006, which might indicate that this age group places bigger orders. On the other hand, the lowest maximum average spend for an order is for Millennials (27-42) and is equal to USD 6'388. This might indicate that either they place smaller (or less expensive) orders, or they do more in-store shopping.\n",
    "\n",
    "We can see slightly different behaviour in the total spend by customers. The highest total spend by a customer is from the Boomers group (59-77), which might indicate that even they do not spend as much per order (max average spend per order in USD 7'414), in total they place high amount of orders (which we already observed in point 6.1), which sums up to a high maximum total spend."
   ]
  },
  {
   "cell_type": "markdown",
   "id": "9c63f780",
   "metadata": {},
   "source": [
    "## 7.2 Gender"
   ]
  },
  {
   "cell_type": "markdown",
   "id": "bb541cc9",
   "metadata": {},
   "source": [
    "#### Usage frequency"
   ]
  },
  {
   "cell_type": "code",
   "execution_count": 85,
   "id": "7ad21ad9",
   "metadata": {},
   "outputs": [
    {
     "data": {
      "text/html": [
       "<div>\n",
       "<style scoped>\n",
       "    .dataframe tbody tr th:only-of-type {\n",
       "        vertical-align: middle;\n",
       "    }\n",
       "\n",
       "    .dataframe tbody tr th {\n",
       "        vertical-align: top;\n",
       "    }\n",
       "\n",
       "    .dataframe thead tr th {\n",
       "        text-align: left;\n",
       "    }\n",
       "\n",
       "    .dataframe thead tr:last-of-type th {\n",
       "        text-align: right;\n",
       "    }\n",
       "</style>\n",
       "<table border=\"1\" class=\"dataframe\">\n",
       "  <thead>\n",
       "    <tr>\n",
       "      <th></th>\n",
       "      <th colspan=\"3\" halign=\"left\">median_order_frequency</th>\n",
       "    </tr>\n",
       "    <tr>\n",
       "      <th></th>\n",
       "      <th>max</th>\n",
       "      <th>mean</th>\n",
       "      <th>min</th>\n",
       "    </tr>\n",
       "    <tr>\n",
       "      <th>gender</th>\n",
       "      <th></th>\n",
       "      <th></th>\n",
       "      <th></th>\n",
       "    </tr>\n",
       "  </thead>\n",
       "  <tbody>\n",
       "    <tr>\n",
       "      <th>Female</th>\n",
       "      <td>30.0</td>\n",
       "      <td>9.938001</td>\n",
       "      <td>0.0</td>\n",
       "    </tr>\n",
       "    <tr>\n",
       "      <th>Male</th>\n",
       "      <td>30.0</td>\n",
       "      <td>9.976022</td>\n",
       "      <td>0.0</td>\n",
       "    </tr>\n",
       "  </tbody>\n",
       "</table>\n",
       "</div>"
      ],
      "text/plain": [
       "       median_order_frequency               \n",
       "                          max      mean  min\n",
       "gender                                      \n",
       "Female                   30.0  9.938001  0.0\n",
       "Male                     30.0  9.976022  0.0"
      ]
     },
     "execution_count": 85,
     "metadata": {},
     "output_type": "execute_result"
    }
   ],
   "source": [
    "instacart_high.groupby('gender').agg({'median_order_frequency': ['max', 'mean', 'min']})"
   ]
  },
  {
   "cell_type": "markdown",
   "id": "5a67208f",
   "metadata": {},
   "source": [
    "There is no significant difference between female and male placing the orders, they both order on average every 10 days, with women placing orders slightly more frequent."
   ]
  },
  {
   "cell_type": "markdown",
   "id": "3e2ea4f7",
   "metadata": {},
   "source": [
    "#### Expenditure"
   ]
  },
  {
   "cell_type": "code",
   "execution_count": 86,
   "id": "a7eb575f",
   "metadata": {},
   "outputs": [
    {
     "data": {
      "text/html": [
       "<div>\n",
       "<style scoped>\n",
       "    .dataframe tbody tr th:only-of-type {\n",
       "        vertical-align: middle;\n",
       "    }\n",
       "\n",
       "    .dataframe tbody tr th {\n",
       "        vertical-align: top;\n",
       "    }\n",
       "\n",
       "    .dataframe thead tr th {\n",
       "        text-align: left;\n",
       "    }\n",
       "\n",
       "    .dataframe thead tr:last-of-type th {\n",
       "        text-align: right;\n",
       "    }\n",
       "</style>\n",
       "<table border=\"1\" class=\"dataframe\">\n",
       "  <thead>\n",
       "    <tr>\n",
       "      <th></th>\n",
       "      <th colspan=\"3\" halign=\"left\">mean_spend</th>\n",
       "    </tr>\n",
       "    <tr>\n",
       "      <th></th>\n",
       "      <th>max</th>\n",
       "      <th>mean</th>\n",
       "      <th>min</th>\n",
       "    </tr>\n",
       "    <tr>\n",
       "      <th>gender</th>\n",
       "      <th></th>\n",
       "      <th></th>\n",
       "      <th></th>\n",
       "    </tr>\n",
       "  </thead>\n",
       "  <tbody>\n",
       "    <tr>\n",
       "      <th>Female</th>\n",
       "      <td>14042.512281</td>\n",
       "      <td>11.837867</td>\n",
       "      <td>1.2625</td>\n",
       "    </tr>\n",
       "    <tr>\n",
       "      <th>Male</th>\n",
       "      <td>15006.940000</td>\n",
       "      <td>12.027894</td>\n",
       "      <td>1.0000</td>\n",
       "    </tr>\n",
       "  </tbody>\n",
       "</table>\n",
       "</div>"
      ],
      "text/plain": [
       "          mean_spend                   \n",
       "                 max       mean     min\n",
       "gender                                 \n",
       "Female  14042.512281  11.837867  1.2625\n",
       "Male    15006.940000  12.027894  1.0000"
      ]
     },
     "execution_count": 86,
     "metadata": {},
     "output_type": "execute_result"
    }
   ],
   "source": [
    "instacart_high.groupby('gender').agg({'mean_spend': ['max', 'mean', 'min']})"
   ]
  },
  {
   "cell_type": "code",
   "execution_count": 87,
   "id": "5e3997fa",
   "metadata": {},
   "outputs": [
    {
     "data": {
      "text/html": [
       "<div>\n",
       "<style scoped>\n",
       "    .dataframe tbody tr th:only-of-type {\n",
       "        vertical-align: middle;\n",
       "    }\n",
       "\n",
       "    .dataframe tbody tr th {\n",
       "        vertical-align: top;\n",
       "    }\n",
       "\n",
       "    .dataframe thead tr th {\n",
       "        text-align: left;\n",
       "    }\n",
       "\n",
       "    .dataframe thead tr:last-of-type th {\n",
       "        text-align: right;\n",
       "    }\n",
       "</style>\n",
       "<table border=\"1\" class=\"dataframe\">\n",
       "  <thead>\n",
       "    <tr>\n",
       "      <th></th>\n",
       "      <th colspan=\"3\" halign=\"left\">total_spend</th>\n",
       "    </tr>\n",
       "    <tr>\n",
       "      <th></th>\n",
       "      <th>max</th>\n",
       "      <th>mean</th>\n",
       "      <th>min</th>\n",
       "    </tr>\n",
       "    <tr>\n",
       "      <th>gender</th>\n",
       "      <th></th>\n",
       "      <th></th>\n",
       "      <th></th>\n",
       "    </tr>\n",
       "  </thead>\n",
       "  <tbody>\n",
       "    <tr>\n",
       "      <th>Female</th>\n",
       "      <td>26394.9</td>\n",
       "      <td>3441.120215</td>\n",
       "      <td>10.1</td>\n",
       "    </tr>\n",
       "    <tr>\n",
       "      <th>Male</th>\n",
       "      <td>24307.1</td>\n",
       "      <td>3395.846853</td>\n",
       "      <td>5.0</td>\n",
       "    </tr>\n",
       "  </tbody>\n",
       "</table>\n",
       "</div>"
      ],
      "text/plain": [
       "       total_spend                   \n",
       "               max         mean   min\n",
       "gender                               \n",
       "Female     26394.9  3441.120215  10.1\n",
       "Male       24307.1  3395.846853   5.0"
      ]
     },
     "execution_count": 87,
     "metadata": {},
     "output_type": "execute_result"
    }
   ],
   "source": [
    "instacart_high.groupby('gender').agg({'total_spend': ['max', 'mean', 'min']})"
   ]
  },
  {
   "cell_type": "markdown",
   "id": "e503b6a5",
   "metadata": {},
   "source": [
    "On average women tend to place less expensive orders than men, however in total women spend more than men. We might assume that women tend to place the orders more frequently, which we can see in the first table of this point. "
   ]
  },
  {
   "cell_type": "markdown",
   "id": "6e9e9e52",
   "metadata": {},
   "source": [
    "## 7.3 Income"
   ]
  },
  {
   "cell_type": "markdown",
   "id": "3cfe0b0e",
   "metadata": {},
   "source": [
    "#### Usage frequency"
   ]
  },
  {
   "cell_type": "code",
   "execution_count": 88,
   "id": "7add32db",
   "metadata": {},
   "outputs": [
    {
     "data": {
      "text/html": [
       "<div>\n",
       "<style scoped>\n",
       "    .dataframe tbody tr th:only-of-type {\n",
       "        vertical-align: middle;\n",
       "    }\n",
       "\n",
       "    .dataframe tbody tr th {\n",
       "        vertical-align: top;\n",
       "    }\n",
       "\n",
       "    .dataframe thead tr th {\n",
       "        text-align: left;\n",
       "    }\n",
       "\n",
       "    .dataframe thead tr:last-of-type th {\n",
       "        text-align: right;\n",
       "    }\n",
       "</style>\n",
       "<table border=\"1\" class=\"dataframe\">\n",
       "  <thead>\n",
       "    <tr>\n",
       "      <th></th>\n",
       "      <th colspan=\"3\" halign=\"left\">median_order_frequency</th>\n",
       "    </tr>\n",
       "    <tr>\n",
       "      <th></th>\n",
       "      <th>max</th>\n",
       "      <th>mean</th>\n",
       "      <th>min</th>\n",
       "    </tr>\n",
       "    <tr>\n",
       "      <th>income_group</th>\n",
       "      <th></th>\n",
       "      <th></th>\n",
       "      <th></th>\n",
       "    </tr>\n",
       "  </thead>\n",
       "  <tbody>\n",
       "    <tr>\n",
       "      <th>Low income</th>\n",
       "      <td>30.0</td>\n",
       "      <td>10.478381</td>\n",
       "      <td>0.0</td>\n",
       "    </tr>\n",
       "    <tr>\n",
       "      <th>Middle income</th>\n",
       "      <td>30.0</td>\n",
       "      <td>9.900255</td>\n",
       "      <td>0.0</td>\n",
       "    </tr>\n",
       "    <tr>\n",
       "      <th>Upper income</th>\n",
       "      <td>30.0</td>\n",
       "      <td>9.763752</td>\n",
       "      <td>0.0</td>\n",
       "    </tr>\n",
       "  </tbody>\n",
       "</table>\n",
       "</div>"
      ],
      "text/plain": [
       "              median_order_frequency                \n",
       "                                 max       mean  min\n",
       "income_group                                        \n",
       "Low income                      30.0  10.478381  0.0\n",
       "Middle income                   30.0   9.900255  0.0\n",
       "Upper income                    30.0   9.763752  0.0"
      ]
     },
     "execution_count": 88,
     "metadata": {},
     "output_type": "execute_result"
    }
   ],
   "source": [
    "instacart_high.groupby('income_group').agg({'median_order_frequency': ['max', 'mean', 'min']})"
   ]
  },
  {
   "cell_type": "markdown",
   "id": "39b24a45",
   "metadata": {},
   "source": [
    "We can see a correlation between the income and order frequency: the lower the income, the less frequent are the orders on average."
   ]
  },
  {
   "cell_type": "markdown",
   "id": "0ee5f9ce",
   "metadata": {},
   "source": [
    "#### Expenditure"
   ]
  },
  {
   "cell_type": "code",
   "execution_count": 89,
   "id": "2b2524e6",
   "metadata": {},
   "outputs": [
    {
     "data": {
      "text/html": [
       "<div>\n",
       "<style scoped>\n",
       "    .dataframe tbody tr th:only-of-type {\n",
       "        vertical-align: middle;\n",
       "    }\n",
       "\n",
       "    .dataframe tbody tr th {\n",
       "        vertical-align: top;\n",
       "    }\n",
       "\n",
       "    .dataframe thead tr th {\n",
       "        text-align: left;\n",
       "    }\n",
       "\n",
       "    .dataframe thead tr:last-of-type th {\n",
       "        text-align: right;\n",
       "    }\n",
       "</style>\n",
       "<table border=\"1\" class=\"dataframe\">\n",
       "  <thead>\n",
       "    <tr>\n",
       "      <th></th>\n",
       "      <th colspan=\"3\" halign=\"left\">mean_spend</th>\n",
       "    </tr>\n",
       "    <tr>\n",
       "      <th></th>\n",
       "      <th>max</th>\n",
       "      <th>mean</th>\n",
       "      <th>min</th>\n",
       "    </tr>\n",
       "    <tr>\n",
       "      <th>income_group</th>\n",
       "      <th></th>\n",
       "      <th></th>\n",
       "      <th></th>\n",
       "    </tr>\n",
       "  </thead>\n",
       "  <tbody>\n",
       "    <tr>\n",
       "      <th>Low income</th>\n",
       "      <td>13.878571</td>\n",
       "      <td>6.766241</td>\n",
       "      <td>1.0</td>\n",
       "    </tr>\n",
       "    <tr>\n",
       "      <th>Middle income</th>\n",
       "      <td>14042.512281</td>\n",
       "      <td>9.601506</td>\n",
       "      <td>1.3</td>\n",
       "    </tr>\n",
       "    <tr>\n",
       "      <th>Upper income</th>\n",
       "      <td>15006.940000</td>\n",
       "      <td>39.869828</td>\n",
       "      <td>7.0</td>\n",
       "    </tr>\n",
       "  </tbody>\n",
       "</table>\n",
       "</div>"
      ],
      "text/plain": [
       "                 mean_spend                \n",
       "                        max       mean  min\n",
       "income_group                               \n",
       "Low income        13.878571   6.766241  1.0\n",
       "Middle income  14042.512281   9.601506  1.3\n",
       "Upper income   15006.940000  39.869828  7.0"
      ]
     },
     "execution_count": 89,
     "metadata": {},
     "output_type": "execute_result"
    }
   ],
   "source": [
    "instacart_high.groupby('income_group').agg({'mean_spend': ['max', 'mean', 'min']})"
   ]
  },
  {
   "cell_type": "code",
   "execution_count": 90,
   "id": "662d5ca6",
   "metadata": {},
   "outputs": [
    {
     "data": {
      "text/html": [
       "<div>\n",
       "<style scoped>\n",
       "    .dataframe tbody tr th:only-of-type {\n",
       "        vertical-align: middle;\n",
       "    }\n",
       "\n",
       "    .dataframe tbody tr th {\n",
       "        vertical-align: top;\n",
       "    }\n",
       "\n",
       "    .dataframe thead tr th {\n",
       "        text-align: left;\n",
       "    }\n",
       "\n",
       "    .dataframe thead tr:last-of-type th {\n",
       "        text-align: right;\n",
       "    }\n",
       "</style>\n",
       "<table border=\"1\" class=\"dataframe\">\n",
       "  <thead>\n",
       "    <tr>\n",
       "      <th></th>\n",
       "      <th colspan=\"3\" halign=\"left\">total_spend</th>\n",
       "    </tr>\n",
       "    <tr>\n",
       "      <th></th>\n",
       "      <th>max</th>\n",
       "      <th>mean</th>\n",
       "      <th>min</th>\n",
       "    </tr>\n",
       "    <tr>\n",
       "      <th>income_group</th>\n",
       "      <th></th>\n",
       "      <th></th>\n",
       "      <th></th>\n",
       "    </tr>\n",
       "  </thead>\n",
       "  <tbody>\n",
       "    <tr>\n",
       "      <th>Low income</th>\n",
       "      <td>24307.1</td>\n",
       "      <td>2582.847927</td>\n",
       "      <td>5.0</td>\n",
       "    </tr>\n",
       "    <tr>\n",
       "      <th>Middle income</th>\n",
       "      <td>26394.9</td>\n",
       "      <td>3530.239771</td>\n",
       "      <td>11.2</td>\n",
       "    </tr>\n",
       "    <tr>\n",
       "      <th>Upper income</th>\n",
       "      <td>17435.6</td>\n",
       "      <td>3542.058250</td>\n",
       "      <td>39.5</td>\n",
       "    </tr>\n",
       "  </tbody>\n",
       "</table>\n",
       "</div>"
      ],
      "text/plain": [
       "              total_spend                   \n",
       "                      max         mean   min\n",
       "income_group                                \n",
       "Low income        24307.1  2582.847927   5.0\n",
       "Middle income     26394.9  3530.239771  11.2\n",
       "Upper income      17435.6  3542.058250  39.5"
      ]
     },
     "execution_count": 90,
     "metadata": {},
     "output_type": "execute_result"
    }
   ],
   "source": [
    "instacart_high.groupby('income_group').agg({'total_spend': ['max', 'mean', 'min']})"
   ]
  },
  {
   "cell_type": "markdown",
   "id": "1cc41358",
   "metadata": {},
   "source": [
    "Similar correlation, but in the opposite direction can be observed in the spend by income group: average spend by order is low for the low income customers (6.77) and middle income (9.60), but quite high for the upper income group (39.87). The same is valid for the average total spend by customer: the lowest is for low income group (2'582.85), the highest are for the middle income (3'530.24) and upper income (3'542.06). The high average total spend by customer might be explained by a high total number of orders placed by the middle income group, which can be seen in the point 6.3."
   ]
  },
  {
   "cell_type": "markdown",
   "id": "add12089",
   "metadata": {},
   "source": [
    "## 7.4 Family status"
   ]
  },
  {
   "cell_type": "markdown",
   "id": "2a4adc35",
   "metadata": {},
   "source": [
    "#### Usage frequency"
   ]
  },
  {
   "cell_type": "code",
   "execution_count": 91,
   "id": "ad1ac359",
   "metadata": {},
   "outputs": [
    {
     "data": {
      "text/html": [
       "<div>\n",
       "<style scoped>\n",
       "    .dataframe tbody tr th:only-of-type {\n",
       "        vertical-align: middle;\n",
       "    }\n",
       "\n",
       "    .dataframe tbody tr th {\n",
       "        vertical-align: top;\n",
       "    }\n",
       "\n",
       "    .dataframe thead tr th {\n",
       "        text-align: left;\n",
       "    }\n",
       "\n",
       "    .dataframe thead tr:last-of-type th {\n",
       "        text-align: right;\n",
       "    }\n",
       "</style>\n",
       "<table border=\"1\" class=\"dataframe\">\n",
       "  <thead>\n",
       "    <tr>\n",
       "      <th></th>\n",
       "      <th colspan=\"3\" halign=\"left\">median_order_frequency</th>\n",
       "    </tr>\n",
       "    <tr>\n",
       "      <th></th>\n",
       "      <th>max</th>\n",
       "      <th>mean</th>\n",
       "      <th>min</th>\n",
       "    </tr>\n",
       "    <tr>\n",
       "      <th>family_status</th>\n",
       "      <th></th>\n",
       "      <th></th>\n",
       "      <th></th>\n",
       "    </tr>\n",
       "  </thead>\n",
       "  <tbody>\n",
       "    <tr>\n",
       "      <th>divorced/widowed</th>\n",
       "      <td>30.0</td>\n",
       "      <td>9.874549</td>\n",
       "      <td>0.0</td>\n",
       "    </tr>\n",
       "    <tr>\n",
       "      <th>living with parents and siblings</th>\n",
       "      <td>30.0</td>\n",
       "      <td>9.869971</td>\n",
       "      <td>0.0</td>\n",
       "    </tr>\n",
       "    <tr>\n",
       "      <th>married</th>\n",
       "      <td>30.0</td>\n",
       "      <td>9.970400</td>\n",
       "      <td>0.0</td>\n",
       "    </tr>\n",
       "    <tr>\n",
       "      <th>single</th>\n",
       "      <td>30.0</td>\n",
       "      <td>9.968773</td>\n",
       "      <td>0.0</td>\n",
       "    </tr>\n",
       "  </tbody>\n",
       "</table>\n",
       "</div>"
      ],
      "text/plain": [
       "                                 median_order_frequency               \n",
       "                                                    max      mean  min\n",
       "family_status                                                         \n",
       "divorced/widowed                                   30.0  9.874549  0.0\n",
       "living with parents and siblings                   30.0  9.869971  0.0\n",
       "married                                            30.0  9.970400  0.0\n",
       "single                                             30.0  9.968773  0.0"
      ]
     },
     "execution_count": 91,
     "metadata": {},
     "output_type": "execute_result"
    }
   ],
   "source": [
    "instacart_high.groupby('family_status').agg({'median_order_frequency': ['max', 'mean', 'min']})"
   ]
  },
  {
   "cell_type": "markdown",
   "id": "8acae71f",
   "metadata": {},
   "source": [
    "Customers living with partents and siblings (we can assume they are young adults) place the orders most frequently (every 9.87 days). The orders placed by customers with other family status are less frequent, but still on avarage every 10 days."
   ]
  },
  {
   "cell_type": "markdown",
   "id": "9c602771",
   "metadata": {},
   "source": [
    "#### Expenditure"
   ]
  },
  {
   "cell_type": "code",
   "execution_count": 92,
   "id": "e4208a34",
   "metadata": {},
   "outputs": [
    {
     "data": {
      "text/html": [
       "<div>\n",
       "<style scoped>\n",
       "    .dataframe tbody tr th:only-of-type {\n",
       "        vertical-align: middle;\n",
       "    }\n",
       "\n",
       "    .dataframe tbody tr th {\n",
       "        vertical-align: top;\n",
       "    }\n",
       "\n",
       "    .dataframe thead tr th {\n",
       "        text-align: left;\n",
       "    }\n",
       "\n",
       "    .dataframe thead tr:last-of-type th {\n",
       "        text-align: right;\n",
       "    }\n",
       "</style>\n",
       "<table border=\"1\" class=\"dataframe\">\n",
       "  <thead>\n",
       "    <tr>\n",
       "      <th></th>\n",
       "      <th colspan=\"3\" halign=\"left\">mean_spend</th>\n",
       "    </tr>\n",
       "    <tr>\n",
       "      <th></th>\n",
       "      <th>max</th>\n",
       "      <th>mean</th>\n",
       "      <th>min</th>\n",
       "    </tr>\n",
       "    <tr>\n",
       "      <th>family_status</th>\n",
       "      <th></th>\n",
       "      <th></th>\n",
       "      <th></th>\n",
       "    </tr>\n",
       "  </thead>\n",
       "  <tbody>\n",
       "    <tr>\n",
       "      <th>divorced/widowed</th>\n",
       "      <td>14042.512281</td>\n",
       "      <td>11.532741</td>\n",
       "      <td>1.308333</td>\n",
       "    </tr>\n",
       "    <tr>\n",
       "      <th>living with parents and siblings</th>\n",
       "      <td>10209.987755</td>\n",
       "      <td>10.890167</td>\n",
       "      <td>2.133333</td>\n",
       "    </tr>\n",
       "    <tr>\n",
       "      <th>married</th>\n",
       "      <td>7414.485185</td>\n",
       "      <td>11.944390</td>\n",
       "      <td>1.000000</td>\n",
       "    </tr>\n",
       "    <tr>\n",
       "      <th>single</th>\n",
       "      <td>15006.940000</td>\n",
       "      <td>12.398586</td>\n",
       "      <td>1.000000</td>\n",
       "    </tr>\n",
       "  </tbody>\n",
       "</table>\n",
       "</div>"
      ],
      "text/plain": [
       "                                    mean_spend                     \n",
       "                                           max       mean       min\n",
       "family_status                                                      \n",
       "divorced/widowed                  14042.512281  11.532741  1.308333\n",
       "living with parents and siblings  10209.987755  10.890167  2.133333\n",
       "married                            7414.485185  11.944390  1.000000\n",
       "single                            15006.940000  12.398586  1.000000"
      ]
     },
     "execution_count": 92,
     "metadata": {},
     "output_type": "execute_result"
    }
   ],
   "source": [
    "instacart_high.groupby('family_status').agg({'mean_spend': ['max', 'mean', 'min']})"
   ]
  },
  {
   "cell_type": "code",
   "execution_count": 93,
   "id": "9eb08783",
   "metadata": {},
   "outputs": [
    {
     "data": {
      "text/html": [
       "<div>\n",
       "<style scoped>\n",
       "    .dataframe tbody tr th:only-of-type {\n",
       "        vertical-align: middle;\n",
       "    }\n",
       "\n",
       "    .dataframe tbody tr th {\n",
       "        vertical-align: top;\n",
       "    }\n",
       "\n",
       "    .dataframe thead tr th {\n",
       "        text-align: left;\n",
       "    }\n",
       "\n",
       "    .dataframe thead tr:last-of-type th {\n",
       "        text-align: right;\n",
       "    }\n",
       "</style>\n",
       "<table border=\"1\" class=\"dataframe\">\n",
       "  <thead>\n",
       "    <tr>\n",
       "      <th></th>\n",
       "      <th colspan=\"3\" halign=\"left\">total_spend</th>\n",
       "    </tr>\n",
       "    <tr>\n",
       "      <th></th>\n",
       "      <th>max</th>\n",
       "      <th>mean</th>\n",
       "      <th>min</th>\n",
       "    </tr>\n",
       "    <tr>\n",
       "      <th>family_status</th>\n",
       "      <th></th>\n",
       "      <th></th>\n",
       "      <th></th>\n",
       "    </tr>\n",
       "  </thead>\n",
       "  <tbody>\n",
       "    <tr>\n",
       "      <th>divorced/widowed</th>\n",
       "      <td>24307.1</td>\n",
       "      <td>3461.330920</td>\n",
       "      <td>15.7</td>\n",
       "    </tr>\n",
       "    <tr>\n",
       "      <th>living with parents and siblings</th>\n",
       "      <td>16048.1</td>\n",
       "      <td>3459.618715</td>\n",
       "      <td>14.4</td>\n",
       "    </tr>\n",
       "    <tr>\n",
       "      <th>married</th>\n",
       "      <td>26394.9</td>\n",
       "      <td>3412.050028</td>\n",
       "      <td>6.8</td>\n",
       "    </tr>\n",
       "    <tr>\n",
       "      <th>single</th>\n",
       "      <td>20315.1</td>\n",
       "      <td>3410.806081</td>\n",
       "      <td>5.0</td>\n",
       "    </tr>\n",
       "  </tbody>\n",
       "</table>\n",
       "</div>"
      ],
      "text/plain": [
       "                                 total_spend                   \n",
       "                                         max         mean   min\n",
       "family_status                                                  \n",
       "divorced/widowed                     24307.1  3461.330920  15.7\n",
       "living with parents and siblings     16048.1  3459.618715  14.4\n",
       "married                              26394.9  3412.050028   6.8\n",
       "single                               20315.1  3410.806081   5.0"
      ]
     },
     "execution_count": 93,
     "metadata": {},
     "output_type": "execute_result"
    }
   ],
   "source": [
    "instacart_high.groupby('family_status').agg({'total_spend': ['max', 'mean', 'min']})"
   ]
  },
  {
   "cell_type": "markdown",
   "id": "2091c602",
   "metadata": {},
   "source": [
    "There is no significant difference between the customers with different family status in terms of average total spend per customer (there is a slight difference in average spend by order: from 10.89 for living with parents and siblings to 12.40 for single adults). The maximum total spend is the lowest for living with parents and siblings (16'048) and highest for married customers (26'395). All of this proves that the young adults who are still living with parents or siblings spend less per order and in total, since they are probably not the main person purchasing for the houshold. On the other hand, married customers spend the most in total for all the orders, while single people place more expensive orders on average."
   ]
  },
  {
   "cell_type": "markdown",
   "id": "4ecb95c7",
   "metadata": {},
   "source": [
    "## 7.5 Number of children"
   ]
  },
  {
   "cell_type": "markdown",
   "id": "5b992cf8",
   "metadata": {},
   "source": [
    "#### Usage frequency"
   ]
  },
  {
   "cell_type": "code",
   "execution_count": 94,
   "id": "32a42dcb",
   "metadata": {},
   "outputs": [
    {
     "data": {
      "text/html": [
       "<div>\n",
       "<style scoped>\n",
       "    .dataframe tbody tr th:only-of-type {\n",
       "        vertical-align: middle;\n",
       "    }\n",
       "\n",
       "    .dataframe tbody tr th {\n",
       "        vertical-align: top;\n",
       "    }\n",
       "\n",
       "    .dataframe thead tr th {\n",
       "        text-align: left;\n",
       "    }\n",
       "\n",
       "    .dataframe thead tr:last-of-type th {\n",
       "        text-align: right;\n",
       "    }\n",
       "</style>\n",
       "<table border=\"1\" class=\"dataframe\">\n",
       "  <thead>\n",
       "    <tr>\n",
       "      <th></th>\n",
       "      <th colspan=\"3\" halign=\"left\">median_order_frequency</th>\n",
       "    </tr>\n",
       "    <tr>\n",
       "      <th></th>\n",
       "      <th>max</th>\n",
       "      <th>mean</th>\n",
       "      <th>min</th>\n",
       "    </tr>\n",
       "    <tr>\n",
       "      <th>number_of_dependants</th>\n",
       "      <th></th>\n",
       "      <th></th>\n",
       "      <th></th>\n",
       "    </tr>\n",
       "  </thead>\n",
       "  <tbody>\n",
       "    <tr>\n",
       "      <th>0</th>\n",
       "      <td>30.0</td>\n",
       "      <td>9.936569</td>\n",
       "      <td>0.0</td>\n",
       "    </tr>\n",
       "    <tr>\n",
       "      <th>1</th>\n",
       "      <td>30.0</td>\n",
       "      <td>9.970035</td>\n",
       "      <td>0.0</td>\n",
       "    </tr>\n",
       "    <tr>\n",
       "      <th>2</th>\n",
       "      <td>30.0</td>\n",
       "      <td>9.972207</td>\n",
       "      <td>0.0</td>\n",
       "    </tr>\n",
       "    <tr>\n",
       "      <th>3</th>\n",
       "      <td>30.0</td>\n",
       "      <td>9.949826</td>\n",
       "      <td>0.0</td>\n",
       "    </tr>\n",
       "  </tbody>\n",
       "</table>\n",
       "</div>"
      ],
      "text/plain": [
       "                     median_order_frequency               \n",
       "                                        max      mean  min\n",
       "number_of_dependants                                      \n",
       "0                                      30.0  9.936569  0.0\n",
       "1                                      30.0  9.970035  0.0\n",
       "2                                      30.0  9.972207  0.0\n",
       "3                                      30.0  9.949826  0.0"
      ]
     },
     "execution_count": 94,
     "metadata": {},
     "output_type": "execute_result"
    }
   ],
   "source": [
    "instacart_high.groupby('number_of_dependants').agg({'median_order_frequency': ['max', 'mean', 'min']})"
   ]
  },
  {
   "cell_type": "markdown",
   "id": "e28478ea",
   "metadata": {},
   "source": [
    "There is no significant difference in the frequency the orders are placed by customers with or without children. The number of children doesn't have impact on the frequency either."
   ]
  },
  {
   "cell_type": "markdown",
   "id": "a2bf4b97",
   "metadata": {},
   "source": [
    "#### Expenditure"
   ]
  },
  {
   "cell_type": "code",
   "execution_count": 95,
   "id": "07c643a5",
   "metadata": {},
   "outputs": [
    {
     "data": {
      "text/html": [
       "<div>\n",
       "<style scoped>\n",
       "    .dataframe tbody tr th:only-of-type {\n",
       "        vertical-align: middle;\n",
       "    }\n",
       "\n",
       "    .dataframe tbody tr th {\n",
       "        vertical-align: top;\n",
       "    }\n",
       "\n",
       "    .dataframe thead tr th {\n",
       "        text-align: left;\n",
       "    }\n",
       "\n",
       "    .dataframe thead tr:last-of-type th {\n",
       "        text-align: right;\n",
       "    }\n",
       "</style>\n",
       "<table border=\"1\" class=\"dataframe\">\n",
       "  <thead>\n",
       "    <tr>\n",
       "      <th></th>\n",
       "      <th colspan=\"3\" halign=\"left\">mean_spend</th>\n",
       "    </tr>\n",
       "    <tr>\n",
       "      <th></th>\n",
       "      <th>max</th>\n",
       "      <th>mean</th>\n",
       "      <th>min</th>\n",
       "    </tr>\n",
       "    <tr>\n",
       "      <th>number_of_dependants</th>\n",
       "      <th></th>\n",
       "      <th></th>\n",
       "      <th></th>\n",
       "    </tr>\n",
       "  </thead>\n",
       "  <tbody>\n",
       "    <tr>\n",
       "      <th>0</th>\n",
       "      <td>15006.940000</td>\n",
       "      <td>12.102657</td>\n",
       "      <td>1.0000</td>\n",
       "    </tr>\n",
       "    <tr>\n",
       "      <th>1</th>\n",
       "      <td>6983.593023</td>\n",
       "      <td>11.555234</td>\n",
       "      <td>1.3000</td>\n",
       "    </tr>\n",
       "    <tr>\n",
       "      <th>2</th>\n",
       "      <td>6389.512766</td>\n",
       "      <td>12.284472</td>\n",
       "      <td>1.0000</td>\n",
       "    </tr>\n",
       "    <tr>\n",
       "      <th>3</th>\n",
       "      <td>10209.987755</td>\n",
       "      <td>11.791609</td>\n",
       "      <td>1.2625</td>\n",
       "    </tr>\n",
       "  </tbody>\n",
       "</table>\n",
       "</div>"
      ],
      "text/plain": [
       "                        mean_spend                   \n",
       "                               max       mean     min\n",
       "number_of_dependants                                 \n",
       "0                     15006.940000  12.102657  1.0000\n",
       "1                      6983.593023  11.555234  1.3000\n",
       "2                      6389.512766  12.284472  1.0000\n",
       "3                     10209.987755  11.791609  1.2625"
      ]
     },
     "execution_count": 95,
     "metadata": {},
     "output_type": "execute_result"
    }
   ],
   "source": [
    "instacart_high.groupby('number_of_dependants').agg({'mean_spend': ['max', 'mean', 'min']})"
   ]
  },
  {
   "cell_type": "code",
   "execution_count": 96,
   "id": "b10d06e8",
   "metadata": {},
   "outputs": [
    {
     "data": {
      "text/html": [
       "<div>\n",
       "<style scoped>\n",
       "    .dataframe tbody tr th:only-of-type {\n",
       "        vertical-align: middle;\n",
       "    }\n",
       "\n",
       "    .dataframe tbody tr th {\n",
       "        vertical-align: top;\n",
       "    }\n",
       "\n",
       "    .dataframe thead tr th {\n",
       "        text-align: left;\n",
       "    }\n",
       "\n",
       "    .dataframe thead tr:last-of-type th {\n",
       "        text-align: right;\n",
       "    }\n",
       "</style>\n",
       "<table border=\"1\" class=\"dataframe\">\n",
       "  <thead>\n",
       "    <tr>\n",
       "      <th></th>\n",
       "      <th colspan=\"3\" halign=\"left\">total_spend</th>\n",
       "    </tr>\n",
       "    <tr>\n",
       "      <th></th>\n",
       "      <th>max</th>\n",
       "      <th>mean</th>\n",
       "      <th>min</th>\n",
       "    </tr>\n",
       "    <tr>\n",
       "      <th>number_of_dependants</th>\n",
       "      <th></th>\n",
       "      <th></th>\n",
       "      <th></th>\n",
       "    </tr>\n",
       "  </thead>\n",
       "  <tbody>\n",
       "    <tr>\n",
       "      <th>0</th>\n",
       "      <td>24307.1</td>\n",
       "      <td>3428.074479</td>\n",
       "      <td>5.0</td>\n",
       "    </tr>\n",
       "    <tr>\n",
       "      <th>1</th>\n",
       "      <td>22696.9</td>\n",
       "      <td>3436.521743</td>\n",
       "      <td>6.8</td>\n",
       "    </tr>\n",
       "    <tr>\n",
       "      <th>2</th>\n",
       "      <td>26394.9</td>\n",
       "      <td>3387.963957</td>\n",
       "      <td>7.0</td>\n",
       "    </tr>\n",
       "    <tr>\n",
       "      <th>3</th>\n",
       "      <td>21509.2</td>\n",
       "      <td>3420.775841</td>\n",
       "      <td>10.1</td>\n",
       "    </tr>\n",
       "  </tbody>\n",
       "</table>\n",
       "</div>"
      ],
      "text/plain": [
       "                     total_spend                   \n",
       "                             max         mean   min\n",
       "number_of_dependants                               \n",
       "0                        24307.1  3428.074479   5.0\n",
       "1                        22696.9  3436.521743   6.8\n",
       "2                        26394.9  3387.963957   7.0\n",
       "3                        21509.2  3420.775841  10.1"
      ]
     },
     "execution_count": 96,
     "metadata": {},
     "output_type": "execute_result"
    }
   ],
   "source": [
    "instacart_high.groupby('number_of_dependants').agg({'total_spend': ['max', 'mean', 'min']})"
   ]
  },
  {
   "cell_type": "markdown",
   "id": "e378df80",
   "metadata": {},
   "source": [
    "The average total spend and average spend by order are not influenced by the number of children of the customers."
   ]
  },
  {
   "cell_type": "markdown",
   "id": "cb861677",
   "metadata": {},
   "source": [
    "## 7.6 Orders per time of day"
   ]
  },
  {
   "cell_type": "markdown",
   "id": "117b03c9",
   "metadata": {},
   "source": [
    "#### Usage frequency"
   ]
  },
  {
   "cell_type": "code",
   "execution_count": 97,
   "id": "5456fdea",
   "metadata": {},
   "outputs": [
    {
     "data": {
      "text/html": [
       "<div>\n",
       "<style scoped>\n",
       "    .dataframe tbody tr th:only-of-type {\n",
       "        vertical-align: middle;\n",
       "    }\n",
       "\n",
       "    .dataframe tbody tr th {\n",
       "        vertical-align: top;\n",
       "    }\n",
       "\n",
       "    .dataframe thead tr th {\n",
       "        text-align: left;\n",
       "    }\n",
       "\n",
       "    .dataframe thead tr:last-of-type th {\n",
       "        text-align: right;\n",
       "    }\n",
       "</style>\n",
       "<table border=\"1\" class=\"dataframe\">\n",
       "  <thead>\n",
       "    <tr>\n",
       "      <th></th>\n",
       "      <th colspan=\"3\" halign=\"left\">median_order_frequency</th>\n",
       "    </tr>\n",
       "    <tr>\n",
       "      <th></th>\n",
       "      <th>max</th>\n",
       "      <th>mean</th>\n",
       "      <th>min</th>\n",
       "    </tr>\n",
       "    <tr>\n",
       "      <th>order_time</th>\n",
       "      <th></th>\n",
       "      <th></th>\n",
       "      <th></th>\n",
       "    </tr>\n",
       "  </thead>\n",
       "  <tbody>\n",
       "    <tr>\n",
       "      <th>Afternoon</th>\n",
       "      <td>30.0</td>\n",
       "      <td>10.196369</td>\n",
       "      <td>0.0</td>\n",
       "    </tr>\n",
       "    <tr>\n",
       "      <th>Evening</th>\n",
       "      <td>30.0</td>\n",
       "      <td>10.158006</td>\n",
       "      <td>0.0</td>\n",
       "    </tr>\n",
       "    <tr>\n",
       "      <th>Morning</th>\n",
       "      <td>30.0</td>\n",
       "      <td>9.500778</td>\n",
       "      <td>0.0</td>\n",
       "    </tr>\n",
       "    <tr>\n",
       "      <th>Night</th>\n",
       "      <td>30.0</td>\n",
       "      <td>10.296523</td>\n",
       "      <td>0.0</td>\n",
       "    </tr>\n",
       "  </tbody>\n",
       "</table>\n",
       "</div>"
      ],
      "text/plain": [
       "           median_order_frequency                \n",
       "                              max       mean  min\n",
       "order_time                                       \n",
       "Afternoon                    30.0  10.196369  0.0\n",
       "Evening                      30.0  10.158006  0.0\n",
       "Morning                      30.0   9.500778  0.0\n",
       "Night                        30.0  10.296523  0.0"
      ]
     },
     "execution_count": 97,
     "metadata": {},
     "output_type": "execute_result"
    }
   ],
   "source": [
    "instacart_high.groupby('order_time').agg({'median_order_frequency': ['max', 'mean', 'min']})"
   ]
  },
  {
   "cell_type": "markdown",
   "id": "15d56e63",
   "metadata": {},
   "source": [
    "We can see that the customers who place their orders in the morning (6:00-11:59) place them most frequently (on average every 9.5 days). Customers placing their orders between 12:00(noon) and 5:59 tend to place their orders less frequently (on average between every 10.2 and 10.3 days)"
   ]
  },
  {
   "cell_type": "markdown",
   "id": "a4b0774c",
   "metadata": {},
   "source": [
    "#### Expenditure"
   ]
  },
  {
   "cell_type": "code",
   "execution_count": 98,
   "id": "ac34174e",
   "metadata": {},
   "outputs": [
    {
     "data": {
      "text/html": [
       "<div>\n",
       "<style scoped>\n",
       "    .dataframe tbody tr th:only-of-type {\n",
       "        vertical-align: middle;\n",
       "    }\n",
       "\n",
       "    .dataframe tbody tr th {\n",
       "        vertical-align: top;\n",
       "    }\n",
       "\n",
       "    .dataframe thead tr th {\n",
       "        text-align: left;\n",
       "    }\n",
       "\n",
       "    .dataframe thead tr:last-of-type th {\n",
       "        text-align: right;\n",
       "    }\n",
       "</style>\n",
       "<table border=\"1\" class=\"dataframe\">\n",
       "  <thead>\n",
       "    <tr>\n",
       "      <th></th>\n",
       "      <th colspan=\"3\" halign=\"left\">mean_spend</th>\n",
       "    </tr>\n",
       "    <tr>\n",
       "      <th></th>\n",
       "      <th>max</th>\n",
       "      <th>mean</th>\n",
       "      <th>min</th>\n",
       "    </tr>\n",
       "    <tr>\n",
       "      <th>order_time</th>\n",
       "      <th></th>\n",
       "      <th></th>\n",
       "      <th></th>\n",
       "    </tr>\n",
       "  </thead>\n",
       "  <tbody>\n",
       "    <tr>\n",
       "      <th>Afternoon</th>\n",
       "      <td>15006.940000</td>\n",
       "      <td>12.108784</td>\n",
       "      <td>1.0</td>\n",
       "    </tr>\n",
       "    <tr>\n",
       "      <th>Evening</th>\n",
       "      <td>15006.940000</td>\n",
       "      <td>11.459467</td>\n",
       "      <td>1.0</td>\n",
       "    </tr>\n",
       "    <tr>\n",
       "      <th>Morning</th>\n",
       "      <td>15006.940000</td>\n",
       "      <td>11.938239</td>\n",
       "      <td>1.0</td>\n",
       "    </tr>\n",
       "    <tr>\n",
       "      <th>Night</th>\n",
       "      <td>6390.138298</td>\n",
       "      <td>11.894366</td>\n",
       "      <td>1.3</td>\n",
       "    </tr>\n",
       "  </tbody>\n",
       "</table>\n",
       "</div>"
      ],
      "text/plain": [
       "              mean_spend                \n",
       "                     max       mean  min\n",
       "order_time                              \n",
       "Afternoon   15006.940000  12.108784  1.0\n",
       "Evening     15006.940000  11.459467  1.0\n",
       "Morning     15006.940000  11.938239  1.0\n",
       "Night        6390.138298  11.894366  1.3"
      ]
     },
     "execution_count": 98,
     "metadata": {},
     "output_type": "execute_result"
    }
   ],
   "source": [
    "instacart_high.groupby('order_time').agg({'mean_spend': ['max', 'mean', 'min']})"
   ]
  },
  {
   "cell_type": "code",
   "execution_count": 99,
   "id": "1c24db5e",
   "metadata": {},
   "outputs": [
    {
     "data": {
      "text/html": [
       "<div>\n",
       "<style scoped>\n",
       "    .dataframe tbody tr th:only-of-type {\n",
       "        vertical-align: middle;\n",
       "    }\n",
       "\n",
       "    .dataframe tbody tr th {\n",
       "        vertical-align: top;\n",
       "    }\n",
       "\n",
       "    .dataframe thead tr th {\n",
       "        text-align: left;\n",
       "    }\n",
       "\n",
       "    .dataframe thead tr:last-of-type th {\n",
       "        text-align: right;\n",
       "    }\n",
       "</style>\n",
       "<table border=\"1\" class=\"dataframe\">\n",
       "  <thead>\n",
       "    <tr>\n",
       "      <th></th>\n",
       "      <th colspan=\"3\" halign=\"left\">total_spend</th>\n",
       "    </tr>\n",
       "    <tr>\n",
       "      <th></th>\n",
       "      <th>max</th>\n",
       "      <th>mean</th>\n",
       "      <th>min</th>\n",
       "    </tr>\n",
       "    <tr>\n",
       "      <th>order_time</th>\n",
       "      <th></th>\n",
       "      <th></th>\n",
       "      <th></th>\n",
       "    </tr>\n",
       "  </thead>\n",
       "  <tbody>\n",
       "    <tr>\n",
       "      <th>Afternoon</th>\n",
       "      <td>26394.9</td>\n",
       "      <td>3316.687194</td>\n",
       "      <td>5.0</td>\n",
       "    </tr>\n",
       "    <tr>\n",
       "      <th>Evening</th>\n",
       "      <td>26394.9</td>\n",
       "      <td>3312.014555</td>\n",
       "      <td>5.0</td>\n",
       "    </tr>\n",
       "    <tr>\n",
       "      <th>Morning</th>\n",
       "      <td>26394.9</td>\n",
       "      <td>3632.185211</td>\n",
       "      <td>6.8</td>\n",
       "    </tr>\n",
       "    <tr>\n",
       "      <th>Night</th>\n",
       "      <td>26394.9</td>\n",
       "      <td>3107.965747</td>\n",
       "      <td>13.0</td>\n",
       "    </tr>\n",
       "  </tbody>\n",
       "</table>\n",
       "</div>"
      ],
      "text/plain": [
       "           total_spend                   \n",
       "                   max         mean   min\n",
       "order_time                               \n",
       "Afternoon      26394.9  3316.687194   5.0\n",
       "Evening        26394.9  3312.014555   5.0\n",
       "Morning        26394.9  3632.185211   6.8\n",
       "Night          26394.9  3107.965747  13.0"
      ]
     },
     "execution_count": 99,
     "metadata": {},
     "output_type": "execute_result"
    }
   ],
   "source": [
    "instacart_high.groupby('order_time').agg({'total_spend': ['max', 'mean', 'min']})"
   ]
  },
  {
   "cell_type": "markdown",
   "id": "62a9ed69",
   "metadata": {},
   "source": [
    "There is not much of a difference of average spend per order not average total spend by customers in term of the time the order is placed. We can observe an interesting thing: we see that the same customer who on average has a max order of 15'006 has placed their orders between (6:00 and 23:59), and also the same customer who has a total spend of 26'395 placed the orders in different times during the day and night."
   ]
  },
  {
   "cell_type": "markdown",
   "id": "1b7814a6",
   "metadata": {},
   "source": [
    "## 7.7 Orders per day of week"
   ]
  },
  {
   "cell_type": "markdown",
   "id": "2dcb8f06",
   "metadata": {},
   "source": [
    "#### Usage frequency"
   ]
  },
  {
   "cell_type": "code",
   "execution_count": 100,
   "id": "f45c50ed",
   "metadata": {},
   "outputs": [
    {
     "data": {
      "text/html": [
       "<div>\n",
       "<style scoped>\n",
       "    .dataframe tbody tr th:only-of-type {\n",
       "        vertical-align: middle;\n",
       "    }\n",
       "\n",
       "    .dataframe tbody tr th {\n",
       "        vertical-align: top;\n",
       "    }\n",
       "\n",
       "    .dataframe thead tr th {\n",
       "        text-align: left;\n",
       "    }\n",
       "\n",
       "    .dataframe thead tr:last-of-type th {\n",
       "        text-align: right;\n",
       "    }\n",
       "</style>\n",
       "<table border=\"1\" class=\"dataframe\">\n",
       "  <thead>\n",
       "    <tr>\n",
       "      <th></th>\n",
       "      <th colspan=\"3\" halign=\"left\">median_order_frequency</th>\n",
       "    </tr>\n",
       "    <tr>\n",
       "      <th></th>\n",
       "      <th>max</th>\n",
       "      <th>mean</th>\n",
       "      <th>min</th>\n",
       "    </tr>\n",
       "    <tr>\n",
       "      <th>week_day</th>\n",
       "      <th></th>\n",
       "      <th></th>\n",
       "      <th></th>\n",
       "    </tr>\n",
       "  </thead>\n",
       "  <tbody>\n",
       "    <tr>\n",
       "      <th>Weekday</th>\n",
       "      <td>30.0</td>\n",
       "      <td>9.833177</td>\n",
       "      <td>0.0</td>\n",
       "    </tr>\n",
       "    <tr>\n",
       "      <th>Weekend</th>\n",
       "      <td>30.0</td>\n",
       "      <td>10.172253</td>\n",
       "      <td>0.0</td>\n",
       "    </tr>\n",
       "  </tbody>\n",
       "</table>\n",
       "</div>"
      ],
      "text/plain": [
       "         median_order_frequency                \n",
       "                            max       mean  min\n",
       "week_day                                       \n",
       "Weekday                    30.0   9.833177  0.0\n",
       "Weekend                    30.0  10.172253  0.0"
      ]
     },
     "execution_count": 100,
     "metadata": {},
     "output_type": "execute_result"
    }
   ],
   "source": [
    "instacart_high.groupby('week_day').agg({'median_order_frequency': ['max', 'mean', 'min']})"
   ]
  },
  {
   "cell_type": "markdown",
   "id": "d96a097b",
   "metadata": {},
   "source": [
    "Customers who place their orders during the weekday tend to place their orders more frequently: on average every 9.8 days vs every 10.2 days on average when they are placed during the weekend."
   ]
  },
  {
   "cell_type": "markdown",
   "id": "55e88577",
   "metadata": {},
   "source": [
    "#### Expenditure"
   ]
  },
  {
   "cell_type": "code",
   "execution_count": 101,
   "id": "55e69bb7",
   "metadata": {},
   "outputs": [
    {
     "data": {
      "text/html": [
       "<div>\n",
       "<style scoped>\n",
       "    .dataframe tbody tr th:only-of-type {\n",
       "        vertical-align: middle;\n",
       "    }\n",
       "\n",
       "    .dataframe tbody tr th {\n",
       "        vertical-align: top;\n",
       "    }\n",
       "\n",
       "    .dataframe thead tr th {\n",
       "        text-align: left;\n",
       "    }\n",
       "\n",
       "    .dataframe thead tr:last-of-type th {\n",
       "        text-align: right;\n",
       "    }\n",
       "</style>\n",
       "<table border=\"1\" class=\"dataframe\">\n",
       "  <thead>\n",
       "    <tr>\n",
       "      <th></th>\n",
       "      <th colspan=\"3\" halign=\"left\">mean_spend</th>\n",
       "    </tr>\n",
       "    <tr>\n",
       "      <th></th>\n",
       "      <th>max</th>\n",
       "      <th>mean</th>\n",
       "      <th>min</th>\n",
       "    </tr>\n",
       "    <tr>\n",
       "      <th>week_day</th>\n",
       "      <th></th>\n",
       "      <th></th>\n",
       "      <th></th>\n",
       "    </tr>\n",
       "  </thead>\n",
       "  <tbody>\n",
       "    <tr>\n",
       "      <th>Weekday</th>\n",
       "      <td>15006.94</td>\n",
       "      <td>12.170708</td>\n",
       "      <td>1.0</td>\n",
       "    </tr>\n",
       "    <tr>\n",
       "      <th>Weekend</th>\n",
       "      <td>15006.94</td>\n",
       "      <td>11.521927</td>\n",
       "      <td>1.0</td>\n",
       "    </tr>\n",
       "  </tbody>\n",
       "</table>\n",
       "</div>"
      ],
      "text/plain": [
       "         mean_spend                \n",
       "                max       mean  min\n",
       "week_day                           \n",
       "Weekday    15006.94  12.170708  1.0\n",
       "Weekend    15006.94  11.521927  1.0"
      ]
     },
     "execution_count": 101,
     "metadata": {},
     "output_type": "execute_result"
    }
   ],
   "source": [
    "instacart_high.groupby('week_day').agg({'mean_spend': ['max', 'mean', 'min']})"
   ]
  },
  {
   "cell_type": "code",
   "execution_count": 102,
   "id": "982fa3d4",
   "metadata": {},
   "outputs": [
    {
     "data": {
      "text/html": [
       "<div>\n",
       "<style scoped>\n",
       "    .dataframe tbody tr th:only-of-type {\n",
       "        vertical-align: middle;\n",
       "    }\n",
       "\n",
       "    .dataframe tbody tr th {\n",
       "        vertical-align: top;\n",
       "    }\n",
       "\n",
       "    .dataframe thead tr th {\n",
       "        text-align: left;\n",
       "    }\n",
       "\n",
       "    .dataframe thead tr:last-of-type th {\n",
       "        text-align: right;\n",
       "    }\n",
       "</style>\n",
       "<table border=\"1\" class=\"dataframe\">\n",
       "  <thead>\n",
       "    <tr>\n",
       "      <th></th>\n",
       "      <th colspan=\"3\" halign=\"left\">total_spend</th>\n",
       "    </tr>\n",
       "    <tr>\n",
       "      <th></th>\n",
       "      <th>max</th>\n",
       "      <th>mean</th>\n",
       "      <th>min</th>\n",
       "    </tr>\n",
       "    <tr>\n",
       "      <th>week_day</th>\n",
       "      <th></th>\n",
       "      <th></th>\n",
       "      <th></th>\n",
       "    </tr>\n",
       "  </thead>\n",
       "  <tbody>\n",
       "    <tr>\n",
       "      <th>Weekday</th>\n",
       "      <td>26394.9</td>\n",
       "      <td>3422.230733</td>\n",
       "      <td>5.0</td>\n",
       "    </tr>\n",
       "    <tr>\n",
       "      <th>Weekend</th>\n",
       "      <td>26394.9</td>\n",
       "      <td>3411.563208</td>\n",
       "      <td>5.0</td>\n",
       "    </tr>\n",
       "  </tbody>\n",
       "</table>\n",
       "</div>"
      ],
      "text/plain": [
       "         total_spend                  \n",
       "                 max         mean  min\n",
       "week_day                              \n",
       "Weekday      26394.9  3422.230733  5.0\n",
       "Weekend      26394.9  3411.563208  5.0"
      ]
     },
     "execution_count": 102,
     "metadata": {},
     "output_type": "execute_result"
    }
   ],
   "source": [
    "instacart_high.groupby('week_day').agg({'total_spend': ['max', 'mean', 'min']})"
   ]
  },
  {
   "cell_type": "markdown",
   "id": "7f14d555",
   "metadata": {},
   "source": [
    "We see a slight difference between the average spend per order place on weekday (12.17) vs on weekend (11.52). The total spend by customer is very similar and does not depend on the day of the week.\n",
    "\n",
    "We can see a similarity to observation done in point 7.6. The customer who placed the highest average order and the customer who has the highest total spend have placed their orders on both weekdays and weekends."
   ]
  },
  {
   "cell_type": "markdown",
   "id": "7d01fbd4",
   "metadata": {},
   "source": [
    "## 7.8 Customer loyalty"
   ]
  },
  {
   "cell_type": "markdown",
   "id": "7b7c20ad",
   "metadata": {},
   "source": [
    "#### Usage frequency"
   ]
  },
  {
   "cell_type": "code",
   "execution_count": 103,
   "id": "3f13617d",
   "metadata": {},
   "outputs": [
    {
     "data": {
      "text/html": [
       "<div>\n",
       "<style scoped>\n",
       "    .dataframe tbody tr th:only-of-type {\n",
       "        vertical-align: middle;\n",
       "    }\n",
       "\n",
       "    .dataframe tbody tr th {\n",
       "        vertical-align: top;\n",
       "    }\n",
       "\n",
       "    .dataframe thead tr th {\n",
       "        text-align: left;\n",
       "    }\n",
       "\n",
       "    .dataframe thead tr:last-of-type th {\n",
       "        text-align: right;\n",
       "    }\n",
       "</style>\n",
       "<table border=\"1\" class=\"dataframe\">\n",
       "  <thead>\n",
       "    <tr>\n",
       "      <th></th>\n",
       "      <th colspan=\"3\" halign=\"left\">median_order_frequency</th>\n",
       "    </tr>\n",
       "    <tr>\n",
       "      <th></th>\n",
       "      <th>max</th>\n",
       "      <th>mean</th>\n",
       "      <th>min</th>\n",
       "    </tr>\n",
       "    <tr>\n",
       "      <th>loyalty_flag</th>\n",
       "      <th></th>\n",
       "      <th></th>\n",
       "      <th></th>\n",
       "    </tr>\n",
       "  </thead>\n",
       "  <tbody>\n",
       "    <tr>\n",
       "      <th>Loyal customer</th>\n",
       "      <td>14.0</td>\n",
       "      <td>5.170559</td>\n",
       "      <td>0.0</td>\n",
       "    </tr>\n",
       "    <tr>\n",
       "      <th>New customer</th>\n",
       "      <td>30.0</td>\n",
       "      <td>18.037059</td>\n",
       "      <td>0.0</td>\n",
       "    </tr>\n",
       "    <tr>\n",
       "      <th>Regular customer</th>\n",
       "      <td>30.0</td>\n",
       "      <td>10.612951</td>\n",
       "      <td>0.0</td>\n",
       "    </tr>\n",
       "  </tbody>\n",
       "</table>\n",
       "</div>"
      ],
      "text/plain": [
       "                 median_order_frequency                \n",
       "                                    max       mean  min\n",
       "loyalty_flag                                           \n",
       "Loyal customer                     14.0   5.170559  0.0\n",
       "New customer                       30.0  18.037059  0.0\n",
       "Regular customer                   30.0  10.612951  0.0"
      ]
     },
     "execution_count": 103,
     "metadata": {},
     "output_type": "execute_result"
    }
   ],
   "source": [
    "instacart_high.groupby('loyalty_flag').agg({'median_order_frequency': ['max', 'mean', 'min']})"
   ]
  },
  {
   "cell_type": "markdown",
   "id": "41b07a89",
   "metadata": {},
   "source": [
    "#### Expenditure"
   ]
  },
  {
   "cell_type": "code",
   "execution_count": 186,
   "id": "ea8a1880",
   "metadata": {},
   "outputs": [
    {
     "data": {
      "text/html": [
       "<div>\n",
       "<style scoped>\n",
       "    .dataframe tbody tr th:only-of-type {\n",
       "        vertical-align: middle;\n",
       "    }\n",
       "\n",
       "    .dataframe tbody tr th {\n",
       "        vertical-align: top;\n",
       "    }\n",
       "\n",
       "    .dataframe thead tr th {\n",
       "        text-align: left;\n",
       "    }\n",
       "\n",
       "    .dataframe thead tr:last-of-type th {\n",
       "        text-align: right;\n",
       "    }\n",
       "</style>\n",
       "<table border=\"1\" class=\"dataframe\">\n",
       "  <thead>\n",
       "    <tr>\n",
       "      <th></th>\n",
       "      <th colspan=\"3\" halign=\"left\">mean_spend</th>\n",
       "    </tr>\n",
       "    <tr>\n",
       "      <th></th>\n",
       "      <th>max</th>\n",
       "      <th>mean</th>\n",
       "      <th>min</th>\n",
       "    </tr>\n",
       "    <tr>\n",
       "      <th>loyalty_flag</th>\n",
       "      <th></th>\n",
       "      <th></th>\n",
       "      <th></th>\n",
       "    </tr>\n",
       "  </thead>\n",
       "  <tbody>\n",
       "    <tr>\n",
       "      <th>Loyal customer</th>\n",
       "      <td>8794.882427</td>\n",
       "      <td>10.386336</td>\n",
       "      <td>2.387671</td>\n",
       "    </tr>\n",
       "    <tr>\n",
       "      <th>New customer</th>\n",
       "      <td>15006.940000</td>\n",
       "      <td>13.387725</td>\n",
       "      <td>1.000000</td>\n",
       "    </tr>\n",
       "    <tr>\n",
       "      <th>Regular customer</th>\n",
       "      <td>4506.269204</td>\n",
       "      <td>12.495717</td>\n",
       "      <td>1.308333</td>\n",
       "    </tr>\n",
       "  </tbody>\n",
       "</table>\n",
       "</div>"
      ],
      "text/plain": [
       "                    mean_spend                     \n",
       "                           max       mean       min\n",
       "loyalty_flag                                       \n",
       "Loyal customer     8794.882427  10.386336  2.387671\n",
       "New customer      15006.940000  13.387725  1.000000\n",
       "Regular customer   4506.269204  12.495717  1.308333"
      ]
     },
     "execution_count": 186,
     "metadata": {},
     "output_type": "execute_result"
    }
   ],
   "source": [
    "instacart_high.groupby('loyalty_flag').agg({'mean_spend': ['max', 'mean', 'min']})"
   ]
  },
  {
   "cell_type": "code",
   "execution_count": 187,
   "id": "773c4df5",
   "metadata": {},
   "outputs": [
    {
     "data": {
      "text/html": [
       "<div>\n",
       "<style scoped>\n",
       "    .dataframe tbody tr th:only-of-type {\n",
       "        vertical-align: middle;\n",
       "    }\n",
       "\n",
       "    .dataframe tbody tr th {\n",
       "        vertical-align: top;\n",
       "    }\n",
       "\n",
       "    .dataframe thead tr th {\n",
       "        text-align: left;\n",
       "    }\n",
       "\n",
       "    .dataframe thead tr:last-of-type th {\n",
       "        text-align: right;\n",
       "    }\n",
       "</style>\n",
       "<table border=\"1\" class=\"dataframe\">\n",
       "  <thead>\n",
       "    <tr>\n",
       "      <th></th>\n",
       "      <th colspan=\"3\" halign=\"left\">total_spend</th>\n",
       "    </tr>\n",
       "    <tr>\n",
       "      <th></th>\n",
       "      <th>max</th>\n",
       "      <th>mean</th>\n",
       "      <th>min</th>\n",
       "    </tr>\n",
       "    <tr>\n",
       "      <th>loyalty_flag</th>\n",
       "      <th></th>\n",
       "      <th></th>\n",
       "      <th></th>\n",
       "    </tr>\n",
       "  </thead>\n",
       "  <tbody>\n",
       "    <tr>\n",
       "      <th>Loyal customer</th>\n",
       "      <td>26394.9</td>\n",
       "      <td>6153.840807</td>\n",
       "      <td>156.0</td>\n",
       "    </tr>\n",
       "    <tr>\n",
       "      <th>New customer</th>\n",
       "      <td>3920.4</td>\n",
       "      <td>785.446264</td>\n",
       "      <td>5.0</td>\n",
       "    </tr>\n",
       "    <tr>\n",
       "      <th>Regular customer</th>\n",
       "      <td>12186.6</td>\n",
       "      <td>2443.027952</td>\n",
       "      <td>15.7</td>\n",
       "    </tr>\n",
       "  </tbody>\n",
       "</table>\n",
       "</div>"
      ],
      "text/plain": [
       "                 total_spend                    \n",
       "                         max         mean    min\n",
       "loyalty_flag                                    \n",
       "Loyal customer       26394.9  6153.840807  156.0\n",
       "New customer          3920.4   785.446264    5.0\n",
       "Regular customer     12186.6  2443.027952   15.7"
      ]
     },
     "execution_count": 187,
     "metadata": {},
     "output_type": "execute_result"
    }
   ],
   "source": [
    "instacart_high.groupby('loyalty_flag').agg({'total_spend': ['max', 'mean', 'min']})"
   ]
  },
  {
   "cell_type": "code",
   "execution_count": 189,
   "id": "e2de25db",
   "metadata": {},
   "outputs": [
    {
     "data": {
      "text/plain": [
       "Regular customer    15876776\n",
       "Loyal customer      10284093\n",
       "New customer         4803695\n",
       "Name: loyalty_flag, dtype: int64"
      ]
     },
     "execution_count": 189,
     "metadata": {},
     "output_type": "execute_result"
    }
   ],
   "source": [
    "instacart_high['loyalty_flag'].value_counts(dropna = False)"
   ]
  },
  {
   "cell_type": "code",
   "execution_count": 190,
   "id": "c2c1505c",
   "metadata": {},
   "outputs": [
    {
     "data": {
      "text/plain": [
       "Regular customer    0.512740\n",
       "Loyal customer      0.332125\n",
       "New customer        0.155135\n",
       "Name: loyalty_flag, dtype: float64"
      ]
     },
     "execution_count": 190,
     "metadata": {},
     "output_type": "execute_result"
    }
   ],
   "source": [
    "instacart_high['loyalty_flag'].value_counts(dropna = False, normalize = True)"
   ]
  },
  {
   "cell_type": "markdown",
   "id": "75eab0e4",
   "metadata": {},
   "source": [
    "# 08. Customer profiles vs regions and departments"
   ]
  },
  {
   "cell_type": "markdown",
   "id": "9eaab160",
   "metadata": {},
   "source": [
    "## 8.1 Customer profiles vs regions"
   ]
  },
  {
   "cell_type": "markdown",
   "id": "8693f570",
   "metadata": {},
   "source": [
    "#### Age"
   ]
  },
  {
   "cell_type": "code",
   "execution_count": 104,
   "id": "b9806792",
   "metadata": {},
   "outputs": [],
   "source": [
    "crosstab_age_region = pd.crosstab(instacart_high['age_group'], instacart_high['region'], dropna = False)"
   ]
  },
  {
   "cell_type": "code",
   "execution_count": 105,
   "id": "dadcf891",
   "metadata": {},
   "outputs": [
    {
     "data": {
      "text/html": [
       "<div>\n",
       "<style scoped>\n",
       "    .dataframe tbody tr th:only-of-type {\n",
       "        vertical-align: middle;\n",
       "    }\n",
       "\n",
       "    .dataframe tbody tr th {\n",
       "        vertical-align: top;\n",
       "    }\n",
       "\n",
       "    .dataframe thead th {\n",
       "        text-align: right;\n",
       "    }\n",
       "</style>\n",
       "<table border=\"1\" class=\"dataframe\">\n",
       "  <thead>\n",
       "    <tr style=\"text-align: right;\">\n",
       "      <th>region</th>\n",
       "      <th>Midwest</th>\n",
       "      <th>North East</th>\n",
       "      <th>South</th>\n",
       "      <th>West</th>\n",
       "    </tr>\n",
       "    <tr>\n",
       "      <th>age_group</th>\n",
       "      <th></th>\n",
       "      <th></th>\n",
       "      <th></th>\n",
       "      <th></th>\n",
       "    </tr>\n",
       "  </thead>\n",
       "  <tbody>\n",
       "    <tr>\n",
       "      <th>Boomers (59-77)</th>\n",
       "      <td>2112556</td>\n",
       "      <td>1631005</td>\n",
       "      <td>3013242</td>\n",
       "      <td>2340363</td>\n",
       "    </tr>\n",
       "    <tr>\n",
       "      <th>Gen X (43-58)</th>\n",
       "      <td>1870948</td>\n",
       "      <td>1380454</td>\n",
       "      <td>2548678</td>\n",
       "      <td>2024482</td>\n",
       "    </tr>\n",
       "    <tr>\n",
       "      <th>Gen Z (18-26)</th>\n",
       "      <td>1003754</td>\n",
       "      <td>763847</td>\n",
       "      <td>1489920</td>\n",
       "      <td>1096889</td>\n",
       "    </tr>\n",
       "    <tr>\n",
       "      <th>Millennials (27-42)</th>\n",
       "      <td>1818698</td>\n",
       "      <td>1343954</td>\n",
       "      <td>2599552</td>\n",
       "      <td>1968169</td>\n",
       "    </tr>\n",
       "    <tr>\n",
       "      <th>Post War (78-81)</th>\n",
       "      <td>455557</td>\n",
       "      <td>345425</td>\n",
       "      <td>659747</td>\n",
       "      <td>497324</td>\n",
       "    </tr>\n",
       "  </tbody>\n",
       "</table>\n",
       "</div>"
      ],
      "text/plain": [
       "region               Midwest  North East    South     West\n",
       "age_group                                                 \n",
       "Boomers (59-77)      2112556     1631005  3013242  2340363\n",
       "Gen X (43-58)        1870948     1380454  2548678  2024482\n",
       "Gen Z (18-26)        1003754      763847  1489920  1096889\n",
       "Millennials (27-42)  1818698     1343954  2599552  1968169\n",
       "Post War (78-81)      455557      345425   659747   497324"
      ]
     },
     "execution_count": 105,
     "metadata": {},
     "output_type": "execute_result"
    }
   ],
   "source": [
    "crosstab_age_region"
   ]
  },
  {
   "cell_type": "code",
   "execution_count": 106,
   "id": "0de7543c",
   "metadata": {},
   "outputs": [
    {
     "data": {
      "image/png": "[encoded data removed]",
      "text/plain": [
       "<Figure size 640x480 with 1 Axes>"
      ]
     },
     "metadata": {},
     "output_type": "display_data"
    }
   ],
   "source": [
    "bar_age_region = crosstab_age_region.plot.bar(color = ['lightblue','cornflowerblue', 'royalblue', 'navy'])"
   ]
  },
  {
   "cell_type": "code",
   "execution_count": 107,
   "id": "16801a4b",
   "metadata": {},
   "outputs": [],
   "source": [
    "# Saving the chart as an image file:\n",
    "bar_age_region.figure.savefig(os.path.join(path, '04 Analysis','Visualizations', 'bar_age_region.png'))"
   ]
  },
  {
   "cell_type": "markdown",
   "id": "31d76a9e",
   "metadata": {},
   "source": [
    "#### Gender"
   ]
  },
  {
   "cell_type": "code",
   "execution_count": 108,
   "id": "ae1a3717",
   "metadata": {},
   "outputs": [],
   "source": [
    "crosstab_gender_region = pd.crosstab(instacart_high['gender'], instacart_high['region'], dropna = False)"
   ]
  },
  {
   "cell_type": "code",
   "execution_count": 109,
   "id": "c670b15f",
   "metadata": {},
   "outputs": [
    {
     "data": {
      "text/html": [
       "<div>\n",
       "<style scoped>\n",
       "    .dataframe tbody tr th:only-of-type {\n",
       "        vertical-align: middle;\n",
       "    }\n",
       "\n",
       "    .dataframe tbody tr th {\n",
       "        vertical-align: top;\n",
       "    }\n",
       "\n",
       "    .dataframe thead th {\n",
       "        text-align: right;\n",
       "    }\n",
       "</style>\n",
       "<table border=\"1\" class=\"dataframe\">\n",
       "  <thead>\n",
       "    <tr style=\"text-align: right;\">\n",
       "      <th>region</th>\n",
       "      <th>Midwest</th>\n",
       "      <th>North East</th>\n",
       "      <th>South</th>\n",
       "      <th>West</th>\n",
       "    </tr>\n",
       "    <tr>\n",
       "      <th>gender</th>\n",
       "      <th></th>\n",
       "      <th></th>\n",
       "      <th></th>\n",
       "      <th></th>\n",
       "    </tr>\n",
       "  </thead>\n",
       "  <tbody>\n",
       "    <tr>\n",
       "      <th>Female</th>\n",
       "      <td>3637482</td>\n",
       "      <td>2639666</td>\n",
       "      <td>5137028</td>\n",
       "      <td>3963648</td>\n",
       "    </tr>\n",
       "    <tr>\n",
       "      <th>Male</th>\n",
       "      <td>3624031</td>\n",
       "      <td>2825019</td>\n",
       "      <td>5174111</td>\n",
       "      <td>3963579</td>\n",
       "    </tr>\n",
       "  </tbody>\n",
       "</table>\n",
       "</div>"
      ],
      "text/plain": [
       "region  Midwest  North East    South     West\n",
       "gender                                       \n",
       "Female  3637482     2639666  5137028  3963648\n",
       "Male    3624031     2825019  5174111  3963579"
      ]
     },
     "execution_count": 109,
     "metadata": {},
     "output_type": "execute_result"
    }
   ],
   "source": [
    "crosstab_gender_region"
   ]
  },
  {
   "cell_type": "code",
   "execution_count": 110,
   "id": "42c4a6b2",
   "metadata": {},
   "outputs": [
    {
     "data": {
      "image/png": "[encoded data removed]",
      "text/plain": [
       "<Figure size 640x480 with 1 Axes>"
      ]
     },
     "metadata": {},
     "output_type": "display_data"
    }
   ],
   "source": [
    "bar_gender_region = crosstab_gender_region.plot.bar(color = ['lightblue','cornflowerblue', 'royalblue', 'navy'])"
   ]
  },
  {
   "cell_type": "code",
   "execution_count": 111,
   "id": "d9e47d09",
   "metadata": {},
   "outputs": [],
   "source": [
    "# Saving the chart as an image file:\n",
    "bar_gender_region.figure.savefig(os.path.join(path, '04 Analysis','Visualizations', 'bar_gender_region.png'))"
   ]
  },
  {
   "cell_type": "markdown",
   "id": "a4befcad",
   "metadata": {},
   "source": [
    "#### Income"
   ]
  },
  {
   "cell_type": "code",
   "execution_count": 112,
   "id": "345a5bca",
   "metadata": {},
   "outputs": [],
   "source": [
    "crosstab_income_region = pd.crosstab(instacart_high['income_group'], instacart_high['region'], dropna = False)"
   ]
  },
  {
   "cell_type": "code",
   "execution_count": 113,
   "id": "fe82db10",
   "metadata": {},
   "outputs": [
    {
     "data": {
      "text/html": [
       "<div>\n",
       "<style scoped>\n",
       "    .dataframe tbody tr th:only-of-type {\n",
       "        vertical-align: middle;\n",
       "    }\n",
       "\n",
       "    .dataframe tbody tr th {\n",
       "        vertical-align: top;\n",
       "    }\n",
       "\n",
       "    .dataframe thead th {\n",
       "        text-align: right;\n",
       "    }\n",
       "</style>\n",
       "<table border=\"1\" class=\"dataframe\">\n",
       "  <thead>\n",
       "    <tr style=\"text-align: right;\">\n",
       "      <th>region</th>\n",
       "      <th>Midwest</th>\n",
       "      <th>North East</th>\n",
       "      <th>South</th>\n",
       "      <th>West</th>\n",
       "    </tr>\n",
       "    <tr>\n",
       "      <th>income_group</th>\n",
       "      <th></th>\n",
       "      <th></th>\n",
       "      <th></th>\n",
       "      <th></th>\n",
       "    </tr>\n",
       "  </thead>\n",
       "  <tbody>\n",
       "    <tr>\n",
       "      <th>Low income</th>\n",
       "      <td>864462</td>\n",
       "      <td>648484</td>\n",
       "      <td>1257064</td>\n",
       "      <td>921698</td>\n",
       "    </tr>\n",
       "    <tr>\n",
       "      <th>Middle income</th>\n",
       "      <td>5761821</td>\n",
       "      <td>4340366</td>\n",
       "      <td>8134024</td>\n",
       "      <td>6305182</td>\n",
       "    </tr>\n",
       "    <tr>\n",
       "      <th>Upper income</th>\n",
       "      <td>635230</td>\n",
       "      <td>475835</td>\n",
       "      <td>920051</td>\n",
       "      <td>700347</td>\n",
       "    </tr>\n",
       "  </tbody>\n",
       "</table>\n",
       "</div>"
      ],
      "text/plain": [
       "region         Midwest  North East    South     West\n",
       "income_group                                        \n",
       "Low income      864462      648484  1257064   921698\n",
       "Middle income  5761821     4340366  8134024  6305182\n",
       "Upper income    635230      475835   920051   700347"
      ]
     },
     "execution_count": 113,
     "metadata": {},
     "output_type": "execute_result"
    }
   ],
   "source": [
    "crosstab_income_region"
   ]
  },
  {
   "cell_type": "code",
   "execution_count": 114,
   "id": "f99f7400",
   "metadata": {},
   "outputs": [
    {
     "data": {
      "image/png": "[encoded data removed]",
      "text/plain": [
       "<Figure size 640x480 with 1 Axes>"
      ]
     },
     "metadata": {},
     "output_type": "display_data"
    }
   ],
   "source": [
    "bar_income_region = crosstab_income_region.plot.bar(color = ['lightblue','cornflowerblue', 'royalblue', 'navy'])"
   ]
  },
  {
   "cell_type": "code",
   "execution_count": 115,
   "id": "bd560ae1",
   "metadata": {},
   "outputs": [],
   "source": [
    "# Saving the chart as an image file:\n",
    "bar_income_region.figure.savefig(os.path.join(path, '04 Analysis','Visualizations', 'bar_income_region.png'))"
   ]
  },
  {
   "cell_type": "markdown",
   "id": "ce68b8ec",
   "metadata": {},
   "source": [
    "#### Family status"
   ]
  },
  {
   "cell_type": "code",
   "execution_count": 116,
   "id": "90e382c9",
   "metadata": {},
   "outputs": [],
   "source": [
    "crosstab_family_region = pd.crosstab(instacart_high['family_status'], instacart_high['region'], dropna = False)"
   ]
  },
  {
   "cell_type": "code",
   "execution_count": 117,
   "id": "d9bf08c0",
   "metadata": {},
   "outputs": [
    {
     "data": {
      "text/html": [
       "<div>\n",
       "<style scoped>\n",
       "    .dataframe tbody tr th:only-of-type {\n",
       "        vertical-align: middle;\n",
       "    }\n",
       "\n",
       "    .dataframe tbody tr th {\n",
       "        vertical-align: top;\n",
       "    }\n",
       "\n",
       "    .dataframe thead th {\n",
       "        text-align: right;\n",
       "    }\n",
       "</style>\n",
       "<table border=\"1\" class=\"dataframe\">\n",
       "  <thead>\n",
       "    <tr style=\"text-align: right;\">\n",
       "      <th>region</th>\n",
       "      <th>Midwest</th>\n",
       "      <th>North East</th>\n",
       "      <th>South</th>\n",
       "      <th>West</th>\n",
       "    </tr>\n",
       "    <tr>\n",
       "      <th>family_status</th>\n",
       "      <th></th>\n",
       "      <th></th>\n",
       "      <th></th>\n",
       "      <th></th>\n",
       "    </tr>\n",
       "  </thead>\n",
       "  <tbody>\n",
       "    <tr>\n",
       "      <th>divorced/widowed</th>\n",
       "      <td>617198</td>\n",
       "      <td>478767</td>\n",
       "      <td>877314</td>\n",
       "      <td>671992</td>\n",
       "    </tr>\n",
       "    <tr>\n",
       "      <th>living with parents and siblings</th>\n",
       "      <td>351435</td>\n",
       "      <td>256430</td>\n",
       "      <td>505457</td>\n",
       "      <td>367850</td>\n",
       "    </tr>\n",
       "    <tr>\n",
       "      <th>married</th>\n",
       "      <td>5087262</td>\n",
       "      <td>3853773</td>\n",
       "      <td>7223749</td>\n",
       "      <td>5578927</td>\n",
       "    </tr>\n",
       "    <tr>\n",
       "      <th>single</th>\n",
       "      <td>1205618</td>\n",
       "      <td>875715</td>\n",
       "      <td>1704619</td>\n",
       "      <td>1308458</td>\n",
       "    </tr>\n",
       "  </tbody>\n",
       "</table>\n",
       "</div>"
      ],
      "text/plain": [
       "region                            Midwest  North East    South     West\n",
       "family_status                                                          \n",
       "divorced/widowed                   617198      478767   877314   671992\n",
       "living with parents and siblings   351435      256430   505457   367850\n",
       "married                           5087262     3853773  7223749  5578927\n",
       "single                            1205618      875715  1704619  1308458"
      ]
     },
     "execution_count": 117,
     "metadata": {},
     "output_type": "execute_result"
    }
   ],
   "source": [
    "crosstab_family_region"
   ]
  },
  {
   "cell_type": "code",
   "execution_count": 118,
   "id": "eeba7966",
   "metadata": {},
   "outputs": [
    {
     "data": {
      "image/png": "[encoded data removed]",
      "text/plain": [
       "<Figure size 640x480 with 1 Axes>"
      ]
     },
     "metadata": {},
     "output_type": "display_data"
    }
   ],
   "source": [
    "bar_family_region = crosstab_family_region.plot.bar(color = ['lightblue','cornflowerblue', 'royalblue', 'navy'])"
   ]
  },
  {
   "cell_type": "code",
   "execution_count": 119,
   "id": "9f7699ec",
   "metadata": {},
   "outputs": [],
   "source": [
    "# Saving the chart as an image file:\n",
    "bar_family_region.figure.savefig(os.path.join(path, '04 Analysis','Visualizations', 'bar_family_region.png'))"
   ]
  },
  {
   "cell_type": "markdown",
   "id": "52321f95",
   "metadata": {},
   "source": [
    "#### Number of children"
   ]
  },
  {
   "cell_type": "code",
   "execution_count": 120,
   "id": "53ac3e98",
   "metadata": {},
   "outputs": [],
   "source": [
    "crosstab_children_region = pd.crosstab(instacart_high['number_of_dependants'], instacart_high['region'], dropna = False)"
   ]
  },
  {
   "cell_type": "code",
   "execution_count": 121,
   "id": "0069aaa6",
   "metadata": {},
   "outputs": [
    {
     "data": {
      "text/html": [
       "<div>\n",
       "<style scoped>\n",
       "    .dataframe tbody tr th:only-of-type {\n",
       "        vertical-align: middle;\n",
       "    }\n",
       "\n",
       "    .dataframe tbody tr th {\n",
       "        vertical-align: top;\n",
       "    }\n",
       "\n",
       "    .dataframe thead th {\n",
       "        text-align: right;\n",
       "    }\n",
       "</style>\n",
       "<table border=\"1\" class=\"dataframe\">\n",
       "  <thead>\n",
       "    <tr style=\"text-align: right;\">\n",
       "      <th>region</th>\n",
       "      <th>Midwest</th>\n",
       "      <th>North East</th>\n",
       "      <th>South</th>\n",
       "      <th>West</th>\n",
       "    </tr>\n",
       "    <tr>\n",
       "      <th>number_of_dependants</th>\n",
       "      <th></th>\n",
       "      <th></th>\n",
       "      <th></th>\n",
       "      <th></th>\n",
       "    </tr>\n",
       "  </thead>\n",
       "  <tbody>\n",
       "    <tr>\n",
       "      <th>0</th>\n",
       "      <td>1822816</td>\n",
       "      <td>1354482</td>\n",
       "      <td>2581933</td>\n",
       "      <td>1980450</td>\n",
       "    </tr>\n",
       "    <tr>\n",
       "      <th>1</th>\n",
       "      <td>1841417</td>\n",
       "      <td>1377009</td>\n",
       "      <td>2539625</td>\n",
       "      <td>1961055</td>\n",
       "    </tr>\n",
       "    <tr>\n",
       "      <th>2</th>\n",
       "      <td>1809994</td>\n",
       "      <td>1351961</td>\n",
       "      <td>2603717</td>\n",
       "      <td>1967589</td>\n",
       "    </tr>\n",
       "    <tr>\n",
       "      <th>3</th>\n",
       "      <td>1787286</td>\n",
       "      <td>1381233</td>\n",
       "      <td>2585864</td>\n",
       "      <td>2018133</td>\n",
       "    </tr>\n",
       "  </tbody>\n",
       "</table>\n",
       "</div>"
      ],
      "text/plain": [
       "region                Midwest  North East    South     West\n",
       "number_of_dependants                                       \n",
       "0                     1822816     1354482  2581933  1980450\n",
       "1                     1841417     1377009  2539625  1961055\n",
       "2                     1809994     1351961  2603717  1967589\n",
       "3                     1787286     1381233  2585864  2018133"
      ]
     },
     "execution_count": 121,
     "metadata": {},
     "output_type": "execute_result"
    }
   ],
   "source": [
    "crosstab_children_region"
   ]
  },
  {
   "cell_type": "code",
   "execution_count": 122,
   "id": "7ed0e0f9",
   "metadata": {},
   "outputs": [
    {
     "data": {
      "image/png": "[encoded data removed]",
      "text/plain": [
       "<Figure size 640x480 with 1 Axes>"
      ]
     },
     "metadata": {},
     "output_type": "display_data"
    }
   ],
   "source": [
    "bar_children_region = crosstab_children_region.plot.bar(color = ['lightblue','cornflowerblue', 'royalblue', 'navy'])"
   ]
  },
  {
   "cell_type": "code",
   "execution_count": 123,
   "id": "6a765227",
   "metadata": {},
   "outputs": [],
   "source": [
    "# Saving the chart as an image file:\n",
    "bar_children_region.figure.savefig(os.path.join(path, '04 Analysis','Visualizations', 'bar_children_region.png'))"
   ]
  },
  {
   "cell_type": "markdown",
   "id": "4cb5f49d",
   "metadata": {},
   "source": [
    "#### Orders by time of day"
   ]
  },
  {
   "cell_type": "code",
   "execution_count": 124,
   "id": "ed3ad975",
   "metadata": {},
   "outputs": [],
   "source": [
    "crosstab_time_region = pd.crosstab(instacart_high['order_time'], instacart_high['region'], dropna = False)"
   ]
  },
  {
   "cell_type": "code",
   "execution_count": 125,
   "id": "005d5a13",
   "metadata": {},
   "outputs": [
    {
     "data": {
      "text/html": [
       "<div>\n",
       "<style scoped>\n",
       "    .dataframe tbody tr th:only-of-type {\n",
       "        vertical-align: middle;\n",
       "    }\n",
       "\n",
       "    .dataframe tbody tr th {\n",
       "        vertical-align: top;\n",
       "    }\n",
       "\n",
       "    .dataframe thead th {\n",
       "        text-align: right;\n",
       "    }\n",
       "</style>\n",
       "<table border=\"1\" class=\"dataframe\">\n",
       "  <thead>\n",
       "    <tr style=\"text-align: right;\">\n",
       "      <th>region</th>\n",
       "      <th>Midwest</th>\n",
       "      <th>North East</th>\n",
       "      <th>South</th>\n",
       "      <th>West</th>\n",
       "    </tr>\n",
       "    <tr>\n",
       "      <th>order_time</th>\n",
       "      <th></th>\n",
       "      <th></th>\n",
       "      <th></th>\n",
       "      <th></th>\n",
       "    </tr>\n",
       "  </thead>\n",
       "  <tbody>\n",
       "    <tr>\n",
       "      <th>Afternoon</th>\n",
       "      <td>3404066</td>\n",
       "      <td>2568358</td>\n",
       "      <td>4820769</td>\n",
       "      <td>3741773</td>\n",
       "    </tr>\n",
       "    <tr>\n",
       "      <th>Evening</th>\n",
       "      <td>1284980</td>\n",
       "      <td>957797</td>\n",
       "      <td>1811980</td>\n",
       "      <td>1375939</td>\n",
       "    </tr>\n",
       "    <tr>\n",
       "      <th>Morning</th>\n",
       "      <td>2439886</td>\n",
       "      <td>1836940</td>\n",
       "      <td>3488880</td>\n",
       "      <td>2665865</td>\n",
       "    </tr>\n",
       "    <tr>\n",
       "      <th>Night</th>\n",
       "      <td>132581</td>\n",
       "      <td>101590</td>\n",
       "      <td>189510</td>\n",
       "      <td>143650</td>\n",
       "    </tr>\n",
       "  </tbody>\n",
       "</table>\n",
       "</div>"
      ],
      "text/plain": [
       "region      Midwest  North East    South     West\n",
       "order_time                                       \n",
       "Afternoon   3404066     2568358  4820769  3741773\n",
       "Evening     1284980      957797  1811980  1375939\n",
       "Morning     2439886     1836940  3488880  2665865\n",
       "Night        132581      101590   189510   143650"
      ]
     },
     "execution_count": 125,
     "metadata": {},
     "output_type": "execute_result"
    }
   ],
   "source": [
    "crosstab_time_region"
   ]
  },
  {
   "cell_type": "code",
   "execution_count": 126,
   "id": "a8de71ed",
   "metadata": {},
   "outputs": [
    {
     "data": {
      "image/png": "[encoded data removed]",
      "text/plain": [
       "<Figure size 640x480 with 1 Axes>"
      ]
     },
     "metadata": {},
     "output_type": "display_data"
    }
   ],
   "source": [
    "bar_time_region = crosstab_time_region.plot.bar(color = ['lightblue','cornflowerblue', 'royalblue', 'navy'])"
   ]
  },
  {
   "cell_type": "code",
   "execution_count": 127,
   "id": "bfffb6b0",
   "metadata": {},
   "outputs": [],
   "source": [
    "# Saving the chart as an image file:\n",
    "bar_time_region.figure.savefig(os.path.join(path, '04 Analysis','Visualizations', 'bar_time_region.png'))"
   ]
  },
  {
   "cell_type": "markdown",
   "id": "33eb4886",
   "metadata": {},
   "source": [
    "#### Orders by week day"
   ]
  },
  {
   "cell_type": "code",
   "execution_count": 128,
   "id": "91ac4c15",
   "metadata": {},
   "outputs": [],
   "source": [
    "crosstab_week_day_region = pd.crosstab(instacart_high['week_day'], instacart_high['region'], dropna = False)"
   ]
  },
  {
   "cell_type": "code",
   "execution_count": 129,
   "id": "6bf0281a",
   "metadata": {},
   "outputs": [
    {
     "data": {
      "text/html": [
       "<div>\n",
       "<style scoped>\n",
       "    .dataframe tbody tr th:only-of-type {\n",
       "        vertical-align: middle;\n",
       "    }\n",
       "\n",
       "    .dataframe tbody tr th {\n",
       "        vertical-align: top;\n",
       "    }\n",
       "\n",
       "    .dataframe thead th {\n",
       "        text-align: right;\n",
       "    }\n",
       "</style>\n",
       "<table border=\"1\" class=\"dataframe\">\n",
       "  <thead>\n",
       "    <tr style=\"text-align: right;\">\n",
       "      <th>region</th>\n",
       "      <th>Midwest</th>\n",
       "      <th>North East</th>\n",
       "      <th>South</th>\n",
       "      <th>West</th>\n",
       "    </tr>\n",
       "    <tr>\n",
       "      <th>week_day</th>\n",
       "      <th></th>\n",
       "      <th></th>\n",
       "      <th></th>\n",
       "      <th></th>\n",
       "    </tr>\n",
       "  </thead>\n",
       "  <tbody>\n",
       "    <tr>\n",
       "      <th>Weekday</th>\n",
       "      <td>4607669</td>\n",
       "      <td>3466655</td>\n",
       "      <td>6547439</td>\n",
       "      <td>5022505</td>\n",
       "    </tr>\n",
       "    <tr>\n",
       "      <th>Weekend</th>\n",
       "      <td>2653844</td>\n",
       "      <td>1998030</td>\n",
       "      <td>3763700</td>\n",
       "      <td>2904722</td>\n",
       "    </tr>\n",
       "  </tbody>\n",
       "</table>\n",
       "</div>"
      ],
      "text/plain": [
       "region    Midwest  North East    South     West\n",
       "week_day                                       \n",
       "Weekday   4607669     3466655  6547439  5022505\n",
       "Weekend   2653844     1998030  3763700  2904722"
      ]
     },
     "execution_count": 129,
     "metadata": {},
     "output_type": "execute_result"
    }
   ],
   "source": [
    "crosstab_week_day_region"
   ]
  },
  {
   "cell_type": "code",
   "execution_count": 130,
   "id": "7ee456d7",
   "metadata": {},
   "outputs": [
    {
     "data": {
      "image/png": "[encoded data removed]",
      "text/plain": [
       "<Figure size 640x480 with 1 Axes>"
      ]
     },
     "metadata": {},
     "output_type": "display_data"
    }
   ],
   "source": [
    "bar_day_region = crosstab_week_day_region.plot.bar(color = ['lightblue','cornflowerblue', 'royalblue', 'navy'])"
   ]
  },
  {
   "cell_type": "code",
   "execution_count": 131,
   "id": "960ff8d6",
   "metadata": {},
   "outputs": [],
   "source": [
    "# Saving the chart as an image file:\n",
    "bar_day_region.figure.savefig(os.path.join(path, '04 Analysis','Visualizations', 'bar_day_region.png'))"
   ]
  },
  {
   "cell_type": "markdown",
   "id": "07df5702",
   "metadata": {},
   "source": [
    "## 8.2 Customer profiles vs departments"
   ]
  },
  {
   "cell_type": "markdown",
   "id": "4e6fa2b2",
   "metadata": {},
   "source": [
    "#### Applying department name to the instacart dataframe"
   ]
  },
  {
   "cell_type": "code",
   "execution_count": 132,
   "id": "e33cab12",
   "metadata": {},
   "outputs": [
    {
     "data": {
      "text/html": [
       "<div>\n",
       "<style scoped>\n",
       "    .dataframe tbody tr th:only-of-type {\n",
       "        vertical-align: middle;\n",
       "    }\n",
       "\n",
       "    .dataframe tbody tr th {\n",
       "        vertical-align: top;\n",
       "    }\n",
       "\n",
       "    .dataframe thead th {\n",
       "        text-align: right;\n",
       "    }\n",
       "</style>\n",
       "<table border=\"1\" class=\"dataframe\">\n",
       "  <thead>\n",
       "    <tr style=\"text-align: right;\">\n",
       "      <th></th>\n",
       "      <th>department_id</th>\n",
       "      <th>department</th>\n",
       "    </tr>\n",
       "  </thead>\n",
       "  <tbody>\n",
       "    <tr>\n",
       "      <th>0</th>\n",
       "      <td>1</td>\n",
       "      <td>frozen</td>\n",
       "    </tr>\n",
       "    <tr>\n",
       "      <th>1</th>\n",
       "      <td>2</td>\n",
       "      <td>other</td>\n",
       "    </tr>\n",
       "    <tr>\n",
       "      <th>2</th>\n",
       "      <td>3</td>\n",
       "      <td>bakery</td>\n",
       "    </tr>\n",
       "    <tr>\n",
       "      <th>3</th>\n",
       "      <td>4</td>\n",
       "      <td>produce</td>\n",
       "    </tr>\n",
       "    <tr>\n",
       "      <th>4</th>\n",
       "      <td>5</td>\n",
       "      <td>alcohol</td>\n",
       "    </tr>\n",
       "    <tr>\n",
       "      <th>5</th>\n",
       "      <td>6</td>\n",
       "      <td>international</td>\n",
       "    </tr>\n",
       "    <tr>\n",
       "      <th>6</th>\n",
       "      <td>7</td>\n",
       "      <td>beverages</td>\n",
       "    </tr>\n",
       "    <tr>\n",
       "      <th>7</th>\n",
       "      <td>8</td>\n",
       "      <td>pets</td>\n",
       "    </tr>\n",
       "    <tr>\n",
       "      <th>8</th>\n",
       "      <td>9</td>\n",
       "      <td>dry goods pasta</td>\n",
       "    </tr>\n",
       "    <tr>\n",
       "      <th>9</th>\n",
       "      <td>10</td>\n",
       "      <td>bulk</td>\n",
       "    </tr>\n",
       "    <tr>\n",
       "      <th>10</th>\n",
       "      <td>11</td>\n",
       "      <td>personal care</td>\n",
       "    </tr>\n",
       "    <tr>\n",
       "      <th>11</th>\n",
       "      <td>12</td>\n",
       "      <td>meat seafood</td>\n",
       "    </tr>\n",
       "    <tr>\n",
       "      <th>12</th>\n",
       "      <td>13</td>\n",
       "      <td>pantry</td>\n",
       "    </tr>\n",
       "    <tr>\n",
       "      <th>13</th>\n",
       "      <td>14</td>\n",
       "      <td>breakfast</td>\n",
       "    </tr>\n",
       "    <tr>\n",
       "      <th>14</th>\n",
       "      <td>15</td>\n",
       "      <td>canned goods</td>\n",
       "    </tr>\n",
       "    <tr>\n",
       "      <th>15</th>\n",
       "      <td>16</td>\n",
       "      <td>dairy eggs</td>\n",
       "    </tr>\n",
       "    <tr>\n",
       "      <th>16</th>\n",
       "      <td>17</td>\n",
       "      <td>household</td>\n",
       "    </tr>\n",
       "    <tr>\n",
       "      <th>17</th>\n",
       "      <td>18</td>\n",
       "      <td>babies</td>\n",
       "    </tr>\n",
       "    <tr>\n",
       "      <th>18</th>\n",
       "      <td>19</td>\n",
       "      <td>snacks</td>\n",
       "    </tr>\n",
       "    <tr>\n",
       "      <th>19</th>\n",
       "      <td>20</td>\n",
       "      <td>deli</td>\n",
       "    </tr>\n",
       "    <tr>\n",
       "      <th>20</th>\n",
       "      <td>21</td>\n",
       "      <td>missing</td>\n",
       "    </tr>\n",
       "  </tbody>\n",
       "</table>\n",
       "</div>"
      ],
      "text/plain": [
       "    department_id       department\n",
       "0               1           frozen\n",
       "1               2            other\n",
       "2               3           bakery\n",
       "3               4          produce\n",
       "4               5          alcohol\n",
       "5               6    international\n",
       "6               7        beverages\n",
       "7               8             pets\n",
       "8               9  dry goods pasta\n",
       "9              10             bulk\n",
       "10             11    personal care\n",
       "11             12     meat seafood\n",
       "12             13           pantry\n",
       "13             14        breakfast\n",
       "14             15     canned goods\n",
       "15             16       dairy eggs\n",
       "16             17        household\n",
       "17             18           babies\n",
       "18             19           snacks\n",
       "19             20             deli\n",
       "20             21          missing"
      ]
     },
     "execution_count": 132,
     "metadata": {},
     "output_type": "execute_result"
    }
   ],
   "source": [
    "deps"
   ]
  },
  {
   "cell_type": "code",
   "execution_count": 133,
   "id": "46694943",
   "metadata": {},
   "outputs": [
    {
     "name": "stderr",
     "output_type": "stream",
     "text": [
      "C:\\Users\\henri\\AppData\\Local\\Temp\\ipykernel_13820\\233607382.py:2: SettingWithCopyWarning: \n",
      "A value is trying to be set on a copy of a slice from a DataFrame.\n",
      "Try using .loc[row_indexer,col_indexer] = value instead\n",
      "\n",
      "See the caveats in the documentation: https://pandas.pydata.org/pandas-docs/stable/user_guide/indexing.html#returning-a-view-versus-a-copy\n",
      "  instacart_high.loc[instacart_high['department_id'] == 1, 'department'] = 'frozen'\n"
     ]
    }
   ],
   "source": [
    "# Creating flags for the department name\n",
    "instacart_high.loc[instacart_high['department_id'] == 1, 'department'] = 'frozen'"
   ]
  },
  {
   "cell_type": "code",
   "execution_count": 134,
   "id": "a3e325e9",
   "metadata": {},
   "outputs": [],
   "source": [
    "instacart_high.loc[instacart_high['department_id'] == 2, 'department'] = 'other'"
   ]
  },
  {
   "cell_type": "code",
   "execution_count": 135,
   "id": "5f0cbd99",
   "metadata": {},
   "outputs": [],
   "source": [
    "instacart_high.loc[instacart_high['department_id'] == 3, 'department'] = 'bakery'"
   ]
  },
  {
   "cell_type": "code",
   "execution_count": 136,
   "id": "1e6e38e0",
   "metadata": {},
   "outputs": [],
   "source": [
    "instacart_high.loc[instacart_high['department_id'] == 4, 'department'] = 'produce'"
   ]
  },
  {
   "cell_type": "code",
   "execution_count": 137,
   "id": "d0601a32",
   "metadata": {},
   "outputs": [],
   "source": [
    "instacart_high.loc[instacart_high['department_id'] == 5, 'department'] = 'alcohol'"
   ]
  },
  {
   "cell_type": "code",
   "execution_count": 138,
   "id": "66c50bc5",
   "metadata": {},
   "outputs": [],
   "source": [
    "instacart_high.loc[instacart_high['department_id'] == 6, 'department'] = 'international'"
   ]
  },
  {
   "cell_type": "code",
   "execution_count": 139,
   "id": "b90b384b",
   "metadata": {},
   "outputs": [],
   "source": [
    "instacart_high.loc[instacart_high['department_id'] == 7, 'department'] = 'beverages'"
   ]
  },
  {
   "cell_type": "code",
   "execution_count": 140,
   "id": "7b4671c2",
   "metadata": {},
   "outputs": [],
   "source": [
    "instacart_high.loc[instacart_high['department_id'] == 8, 'department'] = 'pets'"
   ]
  },
  {
   "cell_type": "code",
   "execution_count": 141,
   "id": "79a2bf81",
   "metadata": {},
   "outputs": [],
   "source": [
    "instacart_high.loc[instacart_high['department_id'] == 9, 'department'] = 'dry goods pasta'"
   ]
  },
  {
   "cell_type": "code",
   "execution_count": 142,
   "id": "bde3c16b",
   "metadata": {},
   "outputs": [],
   "source": [
    "instacart_high.loc[instacart_high['department_id'] == 10, 'department'] = 'bulk'"
   ]
  },
  {
   "cell_type": "code",
   "execution_count": 143,
   "id": "d364635e",
   "metadata": {},
   "outputs": [],
   "source": [
    "instacart_high.loc[instacart_high['department_id'] == 11, 'department'] = 'personal care'"
   ]
  },
  {
   "cell_type": "code",
   "execution_count": 144,
   "id": "8e7df532",
   "metadata": {},
   "outputs": [],
   "source": [
    "instacart_high.loc[instacart_high['department_id'] == 12, 'department'] = 'meat seafood'"
   ]
  },
  {
   "cell_type": "code",
   "execution_count": 145,
   "id": "20f1824d",
   "metadata": {},
   "outputs": [],
   "source": [
    "instacart_high.loc[instacart_high['department_id'] == 13, 'department'] = 'pantry'"
   ]
  },
  {
   "cell_type": "code",
   "execution_count": 146,
   "id": "13296846",
   "metadata": {},
   "outputs": [],
   "source": [
    "instacart_high.loc[instacart_high['department_id'] == 14, 'department'] = 'breakfast'"
   ]
  },
  {
   "cell_type": "code",
   "execution_count": 147,
   "id": "6f0cb134",
   "metadata": {},
   "outputs": [],
   "source": [
    "instacart_high.loc[instacart_high['department_id'] == 15, 'department'] = 'canned goods'"
   ]
  },
  {
   "cell_type": "code",
   "execution_count": 148,
   "id": "1b334c5b",
   "metadata": {},
   "outputs": [],
   "source": [
    "instacart_high.loc[instacart_high['department_id'] == 16, 'department'] = 'dairy eggs'"
   ]
  },
  {
   "cell_type": "code",
   "execution_count": 149,
   "id": "daf79b8d",
   "metadata": {},
   "outputs": [],
   "source": [
    "instacart_high.loc[instacart_high['department_id'] == 17, 'department'] = 'houshold'"
   ]
  },
  {
   "cell_type": "code",
   "execution_count": 150,
   "id": "bad3949e",
   "metadata": {},
   "outputs": [],
   "source": [
    "instacart_high.loc[instacart_high['department_id'] == 18, 'department'] = 'babies'"
   ]
  },
  {
   "cell_type": "code",
   "execution_count": 151,
   "id": "807edc49",
   "metadata": {},
   "outputs": [],
   "source": [
    "instacart_high.loc[instacart_high['department_id'] == 19, 'department'] = 'snacks'"
   ]
  },
  {
   "cell_type": "code",
   "execution_count": 152,
   "id": "482cdc31",
   "metadata": {},
   "outputs": [],
   "source": [
    "instacart_high.loc[instacart_high['department_id'] == 20, 'department'] = 'deli'"
   ]
  },
  {
   "cell_type": "code",
   "execution_count": 153,
   "id": "5214e39c",
   "metadata": {},
   "outputs": [],
   "source": [
    "instacart_high.loc[instacart_high['department_id'] == 21, 'department'] = 'missing'"
   ]
  },
  {
   "cell_type": "code",
   "execution_count": 154,
   "id": "e16b8970",
   "metadata": {},
   "outputs": [
    {
     "data": {
      "text/plain": [
       "produce            9079273\n",
       "dairy eggs         5177182\n",
       "snacks             2766406\n",
       "beverages          2571901\n",
       "frozen             2121731\n",
       "pantry             1782705\n",
       "bakery             1120828\n",
       "canned goods       1012074\n",
       "deli               1003834\n",
       "dry goods pasta     822136\n",
       "houshold            699857\n",
       "meat seafood        674781\n",
       "breakfast           670850\n",
       "personal care       424306\n",
       "babies              410392\n",
       "international       255991\n",
       "alcohol             144627\n",
       "pets                 93060\n",
       "missing              64768\n",
       "other                34411\n",
       "bulk                 33451\n",
       "Name: department, dtype: int64"
      ]
     },
     "execution_count": 154,
     "metadata": {},
     "output_type": "execute_result"
    }
   ],
   "source": [
    "instacart_high['department'].value_counts(dropna = False)"
   ]
  },
  {
   "cell_type": "markdown",
   "id": "d7288900",
   "metadata": {},
   "source": [
    "#### Age"
   ]
  },
  {
   "cell_type": "code",
   "execution_count": 155,
   "id": "0e8de1a6",
   "metadata": {},
   "outputs": [],
   "source": [
    "crosstab_age_department = pd.crosstab(instacart_high['department'], instacart_high['age_group'], dropna = False)"
   ]
  },
  {
   "cell_type": "code",
   "execution_count": 156,
   "id": "054533f5",
   "metadata": {},
   "outputs": [
    {
     "data": {
      "text/html": [
       "<div>\n",
       "<style scoped>\n",
       "    .dataframe tbody tr th:only-of-type {\n",
       "        vertical-align: middle;\n",
       "    }\n",
       "\n",
       "    .dataframe tbody tr th {\n",
       "        vertical-align: top;\n",
       "    }\n",
       "\n",
       "    .dataframe thead th {\n",
       "        text-align: right;\n",
       "    }\n",
       "</style>\n",
       "<table border=\"1\" class=\"dataframe\">\n",
       "  <thead>\n",
       "    <tr style=\"text-align: right;\">\n",
       "      <th>age_group</th>\n",
       "      <th>Boomers (59-77)</th>\n",
       "      <th>Gen X (43-58)</th>\n",
       "      <th>Gen Z (18-26)</th>\n",
       "      <th>Millennials (27-42)</th>\n",
       "      <th>Post War (78-81)</th>\n",
       "    </tr>\n",
       "    <tr>\n",
       "      <th>department</th>\n",
       "      <th></th>\n",
       "      <th></th>\n",
       "      <th></th>\n",
       "      <th></th>\n",
       "      <th></th>\n",
       "    </tr>\n",
       "  </thead>\n",
       "  <tbody>\n",
       "    <tr>\n",
       "      <th>alcohol</th>\n",
       "      <td>41724</td>\n",
       "      <td>36640</td>\n",
       "      <td>21691</td>\n",
       "      <td>36091</td>\n",
       "      <td>8481</td>\n",
       "    </tr>\n",
       "    <tr>\n",
       "      <th>babies</th>\n",
       "      <td>119302</td>\n",
       "      <td>105821</td>\n",
       "      <td>58819</td>\n",
       "      <td>101443</td>\n",
       "      <td>25007</td>\n",
       "    </tr>\n",
       "    <tr>\n",
       "      <th>bakery</th>\n",
       "      <td>328906</td>\n",
       "      <td>284382</td>\n",
       "      <td>157905</td>\n",
       "      <td>279078</td>\n",
       "      <td>70557</td>\n",
       "    </tr>\n",
       "    <tr>\n",
       "      <th>beverages</th>\n",
       "      <td>763038</td>\n",
       "      <td>653470</td>\n",
       "      <td>358982</td>\n",
       "      <td>634092</td>\n",
       "      <td>162319</td>\n",
       "    </tr>\n",
       "    <tr>\n",
       "      <th>breakfast</th>\n",
       "      <td>195344</td>\n",
       "      <td>170650</td>\n",
       "      <td>95999</td>\n",
       "      <td>166643</td>\n",
       "      <td>42214</td>\n",
       "    </tr>\n",
       "    <tr>\n",
       "      <th>bulk</th>\n",
       "      <td>9656</td>\n",
       "      <td>8387</td>\n",
       "      <td>4831</td>\n",
       "      <td>8345</td>\n",
       "      <td>2232</td>\n",
       "    </tr>\n",
       "    <tr>\n",
       "      <th>canned goods</th>\n",
       "      <td>296173</td>\n",
       "      <td>255469</td>\n",
       "      <td>142815</td>\n",
       "      <td>253524</td>\n",
       "      <td>64093</td>\n",
       "    </tr>\n",
       "    <tr>\n",
       "      <th>dairy eggs</th>\n",
       "      <td>1520143</td>\n",
       "      <td>1303151</td>\n",
       "      <td>731462</td>\n",
       "      <td>1299316</td>\n",
       "      <td>323110</td>\n",
       "    </tr>\n",
       "    <tr>\n",
       "      <th>deli</th>\n",
       "      <td>296379</td>\n",
       "      <td>251948</td>\n",
       "      <td>141042</td>\n",
       "      <td>251512</td>\n",
       "      <td>62953</td>\n",
       "    </tr>\n",
       "    <tr>\n",
       "      <th>dry goods pasta</th>\n",
       "      <td>241067</td>\n",
       "      <td>208192</td>\n",
       "      <td>116729</td>\n",
       "      <td>204166</td>\n",
       "      <td>51982</td>\n",
       "    </tr>\n",
       "    <tr>\n",
       "      <th>frozen</th>\n",
       "      <td>626106</td>\n",
       "      <td>537598</td>\n",
       "      <td>297483</td>\n",
       "      <td>525210</td>\n",
       "      <td>135334</td>\n",
       "    </tr>\n",
       "    <tr>\n",
       "      <th>houshold</th>\n",
       "      <td>206420</td>\n",
       "      <td>177021</td>\n",
       "      <td>97419</td>\n",
       "      <td>174409</td>\n",
       "      <td>44588</td>\n",
       "    </tr>\n",
       "    <tr>\n",
       "      <th>international</th>\n",
       "      <td>74409</td>\n",
       "      <td>64460</td>\n",
       "      <td>36523</td>\n",
       "      <td>64384</td>\n",
       "      <td>16215</td>\n",
       "    </tr>\n",
       "    <tr>\n",
       "      <th>meat seafood</th>\n",
       "      <td>199126</td>\n",
       "      <td>170153</td>\n",
       "      <td>94928</td>\n",
       "      <td>166598</td>\n",
       "      <td>43976</td>\n",
       "    </tr>\n",
       "    <tr>\n",
       "      <th>missing</th>\n",
       "      <td>18897</td>\n",
       "      <td>16307</td>\n",
       "      <td>9446</td>\n",
       "      <td>16110</td>\n",
       "      <td>4008</td>\n",
       "    </tr>\n",
       "    <tr>\n",
       "      <th>other</th>\n",
       "      <td>10030</td>\n",
       "      <td>8691</td>\n",
       "      <td>5041</td>\n",
       "      <td>8555</td>\n",
       "      <td>2094</td>\n",
       "    </tr>\n",
       "    <tr>\n",
       "      <th>pantry</th>\n",
       "      <td>526164</td>\n",
       "      <td>451638</td>\n",
       "      <td>250436</td>\n",
       "      <td>442407</td>\n",
       "      <td>112060</td>\n",
       "    </tr>\n",
       "    <tr>\n",
       "      <th>personal care</th>\n",
       "      <td>124375</td>\n",
       "      <td>108636</td>\n",
       "      <td>59699</td>\n",
       "      <td>105172</td>\n",
       "      <td>26424</td>\n",
       "    </tr>\n",
       "    <tr>\n",
       "      <th>pets</th>\n",
       "      <td>27187</td>\n",
       "      <td>23529</td>\n",
       "      <td>14036</td>\n",
       "      <td>22286</td>\n",
       "      <td>6022</td>\n",
       "    </tr>\n",
       "    <tr>\n",
       "      <th>produce</th>\n",
       "      <td>2665001</td>\n",
       "      <td>2287541</td>\n",
       "      <td>1270468</td>\n",
       "      <td>2277567</td>\n",
       "      <td>578696</td>\n",
       "    </tr>\n",
       "    <tr>\n",
       "      <th>snacks</th>\n",
       "      <td>807719</td>\n",
       "      <td>700878</td>\n",
       "      <td>388656</td>\n",
       "      <td>693465</td>\n",
       "      <td>175688</td>\n",
       "    </tr>\n",
       "  </tbody>\n",
       "</table>\n",
       "</div>"
      ],
      "text/plain": [
       "age_group        Boomers (59-77)  Gen X (43-58)  Gen Z (18-26)  \\\n",
       "department                                                       \n",
       "alcohol                    41724          36640          21691   \n",
       "babies                    119302         105821          58819   \n",
       "bakery                    328906         284382         157905   \n",
       "beverages                 763038         653470         358982   \n",
       "breakfast                 195344         170650          95999   \n",
       "bulk                        9656           8387           4831   \n",
       "canned goods              296173         255469         142815   \n",
       "dairy eggs               1520143        1303151         731462   \n",
       "deli                      296379         251948         141042   \n",
       "dry goods pasta           241067         208192         116729   \n",
       "frozen                    626106         537598         297483   \n",
       "houshold                  206420         177021          97419   \n",
       "international              74409          64460          36523   \n",
       "meat seafood              199126         170153          94928   \n",
       "missing                    18897          16307           9446   \n",
       "other                      10030           8691           5041   \n",
       "pantry                    526164         451638         250436   \n",
       "personal care             124375         108636          59699   \n",
       "pets                       27187          23529          14036   \n",
       "produce                  2665001        2287541        1270468   \n",
       "snacks                    807719         700878         388656   \n",
       "\n",
       "age_group        Millennials (27-42)  Post War (78-81)  \n",
       "department                                              \n",
       "alcohol                        36091              8481  \n",
       "babies                        101443             25007  \n",
       "bakery                        279078             70557  \n",
       "beverages                     634092            162319  \n",
       "breakfast                     166643             42214  \n",
       "bulk                            8345              2232  \n",
       "canned goods                  253524             64093  \n",
       "dairy eggs                   1299316            323110  \n",
       "deli                          251512             62953  \n",
       "dry goods pasta               204166             51982  \n",
       "frozen                        525210            135334  \n",
       "houshold                      174409             44588  \n",
       "international                  64384             16215  \n",
       "meat seafood                  166598             43976  \n",
       "missing                        16110              4008  \n",
       "other                           8555              2094  \n",
       "pantry                        442407            112060  \n",
       "personal care                 105172             26424  \n",
       "pets                           22286              6022  \n",
       "produce                      2277567            578696  \n",
       "snacks                        693465            175688  "
      ]
     },
     "execution_count": 156,
     "metadata": {},
     "output_type": "execute_result"
    }
   ],
   "source": [
    "crosstab_age_department"
   ]
  },
  {
   "cell_type": "code",
   "execution_count": 157,
   "id": "162f8e66",
   "metadata": {},
   "outputs": [
    {
     "data": {
      "image/png": "[encoded data removed]",
      "text/plain": [
       "<Figure size 640x480 with 1 Axes>"
      ]
     },
     "metadata": {},
     "output_type": "display_data"
    }
   ],
   "source": [
    "bar_age_dept = crosstab_age_department.plot.barh()"
   ]
  },
  {
   "cell_type": "markdown",
   "id": "54c8399e",
   "metadata": {},
   "source": [
    "We see that the produce and dairy/eggs departments are the two most popular ones, especially among the Baby Boomers, Gen X and Millennials generations."
   ]
  },
  {
   "cell_type": "code",
   "execution_count": 158,
   "id": "ed0d2051",
   "metadata": {},
   "outputs": [],
   "source": [
    "# Saving the chart as an image file:\n",
    "bar_age_dept.figure.savefig(os.path.join(path, '04 Analysis','Visualizations', 'bar_age_dept.png'))"
   ]
  },
  {
   "cell_type": "markdown",
   "id": "71496a42",
   "metadata": {},
   "source": [
    "#### Gender"
   ]
  },
  {
   "cell_type": "code",
   "execution_count": 159,
   "id": "5d48c614",
   "metadata": {},
   "outputs": [],
   "source": [
    "crosstab_dept_gender = pd.crosstab(instacart_high['department'], instacart_high['gender'], dropna = False)"
   ]
  },
  {
   "cell_type": "code",
   "execution_count": 160,
   "id": "5897e7f4",
   "metadata": {},
   "outputs": [
    {
     "data": {
      "text/html": [
       "<div>\n",
       "<style scoped>\n",
       "    .dataframe tbody tr th:only-of-type {\n",
       "        vertical-align: middle;\n",
       "    }\n",
       "\n",
       "    .dataframe tbody tr th {\n",
       "        vertical-align: top;\n",
       "    }\n",
       "\n",
       "    .dataframe thead th {\n",
       "        text-align: right;\n",
       "    }\n",
       "</style>\n",
       "<table border=\"1\" class=\"dataframe\">\n",
       "  <thead>\n",
       "    <tr style=\"text-align: right;\">\n",
       "      <th>gender</th>\n",
       "      <th>Female</th>\n",
       "      <th>Male</th>\n",
       "    </tr>\n",
       "    <tr>\n",
       "      <th>department</th>\n",
       "      <th></th>\n",
       "      <th></th>\n",
       "    </tr>\n",
       "  </thead>\n",
       "  <tbody>\n",
       "    <tr>\n",
       "      <th>alcohol</th>\n",
       "      <td>74844</td>\n",
       "      <td>69783</td>\n",
       "    </tr>\n",
       "    <tr>\n",
       "      <th>babies</th>\n",
       "      <td>200641</td>\n",
       "      <td>209751</td>\n",
       "    </tr>\n",
       "    <tr>\n",
       "      <th>bakery</th>\n",
       "      <td>559143</td>\n",
       "      <td>561685</td>\n",
       "    </tr>\n",
       "    <tr>\n",
       "      <th>beverages</th>\n",
       "      <td>1280384</td>\n",
       "      <td>1291517</td>\n",
       "    </tr>\n",
       "    <tr>\n",
       "      <th>breakfast</th>\n",
       "      <td>334473</td>\n",
       "      <td>336377</td>\n",
       "    </tr>\n",
       "    <tr>\n",
       "      <th>bulk</th>\n",
       "      <td>16742</td>\n",
       "      <td>16709</td>\n",
       "    </tr>\n",
       "    <tr>\n",
       "      <th>canned goods</th>\n",
       "      <td>498501</td>\n",
       "      <td>513573</td>\n",
       "    </tr>\n",
       "    <tr>\n",
       "      <th>dairy eggs</th>\n",
       "      <td>2574661</td>\n",
       "      <td>2602521</td>\n",
       "    </tr>\n",
       "    <tr>\n",
       "      <th>deli</th>\n",
       "      <td>499243</td>\n",
       "      <td>504591</td>\n",
       "    </tr>\n",
       "    <tr>\n",
       "      <th>dry goods pasta</th>\n",
       "      <td>408099</td>\n",
       "      <td>414037</td>\n",
       "    </tr>\n",
       "    <tr>\n",
       "      <th>frozen</th>\n",
       "      <td>1052479</td>\n",
       "      <td>1069252</td>\n",
       "    </tr>\n",
       "    <tr>\n",
       "      <th>houshold</th>\n",
       "      <td>348932</td>\n",
       "      <td>350925</td>\n",
       "    </tr>\n",
       "    <tr>\n",
       "      <th>international</th>\n",
       "      <td>126628</td>\n",
       "      <td>129363</td>\n",
       "    </tr>\n",
       "    <tr>\n",
       "      <th>meat seafood</th>\n",
       "      <td>333484</td>\n",
       "      <td>341297</td>\n",
       "    </tr>\n",
       "    <tr>\n",
       "      <th>missing</th>\n",
       "      <td>31884</td>\n",
       "      <td>32884</td>\n",
       "    </tr>\n",
       "    <tr>\n",
       "      <th>other</th>\n",
       "      <td>17155</td>\n",
       "      <td>17256</td>\n",
       "    </tr>\n",
       "    <tr>\n",
       "      <th>pantry</th>\n",
       "      <td>884109</td>\n",
       "      <td>898596</td>\n",
       "    </tr>\n",
       "    <tr>\n",
       "      <th>personal care</th>\n",
       "      <td>211924</td>\n",
       "      <td>212382</td>\n",
       "    </tr>\n",
       "    <tr>\n",
       "      <th>pets</th>\n",
       "      <td>45367</td>\n",
       "      <td>47693</td>\n",
       "    </tr>\n",
       "    <tr>\n",
       "      <th>produce</th>\n",
       "      <td>4501275</td>\n",
       "      <td>4577998</td>\n",
       "    </tr>\n",
       "    <tr>\n",
       "      <th>snacks</th>\n",
       "      <td>1377856</td>\n",
       "      <td>1388550</td>\n",
       "    </tr>\n",
       "  </tbody>\n",
       "</table>\n",
       "</div>"
      ],
      "text/plain": [
       "gender            Female     Male\n",
       "department                       \n",
       "alcohol            74844    69783\n",
       "babies            200641   209751\n",
       "bakery            559143   561685\n",
       "beverages        1280384  1291517\n",
       "breakfast         334473   336377\n",
       "bulk               16742    16709\n",
       "canned goods      498501   513573\n",
       "dairy eggs       2574661  2602521\n",
       "deli              499243   504591\n",
       "dry goods pasta   408099   414037\n",
       "frozen           1052479  1069252\n",
       "houshold          348932   350925\n",
       "international     126628   129363\n",
       "meat seafood      333484   341297\n",
       "missing            31884    32884\n",
       "other              17155    17256\n",
       "pantry            884109   898596\n",
       "personal care     211924   212382\n",
       "pets               45367    47693\n",
       "produce          4501275  4577998\n",
       "snacks           1377856  1388550"
      ]
     },
     "execution_count": 160,
     "metadata": {},
     "output_type": "execute_result"
    }
   ],
   "source": [
    "crosstab_dept_gender"
   ]
  },
  {
   "cell_type": "code",
   "execution_count": 161,
   "id": "893fd7b4",
   "metadata": {},
   "outputs": [
    {
     "data": {
      "image/png": "[encoded data removed]",
      "text/plain": [
       "<Figure size 640x480 with 1 Axes>"
      ]
     },
     "metadata": {},
     "output_type": "display_data"
    }
   ],
   "source": [
    "bar_dept_gender = crosstab_dept_gender.plot.barh()"
   ]
  },
  {
   "cell_type": "code",
   "execution_count": 162,
   "id": "4471fd71",
   "metadata": {},
   "outputs": [],
   "source": [
    "# Saving the chart as an image file:\n",
    "bar_dept_gender.figure.savefig(os.path.join(path, '04 Analysis','Visualizations', 'bar_dept_gender.png'))"
   ]
  },
  {
   "cell_type": "markdown",
   "id": "97b28775",
   "metadata": {},
   "source": [
    "#### Income"
   ]
  },
  {
   "cell_type": "code",
   "execution_count": 163,
   "id": "e53e0331",
   "metadata": {},
   "outputs": [],
   "source": [
    "crosstab_dept_income = pd.crosstab(instacart_high['department'], instacart_high['income_group'], dropna = False)"
   ]
  },
  {
   "cell_type": "code",
   "execution_count": 164,
   "id": "fd69929d",
   "metadata": {},
   "outputs": [
    {
     "data": {
      "text/html": [
       "<div>\n",
       "<style scoped>\n",
       "    .dataframe tbody tr th:only-of-type {\n",
       "        vertical-align: middle;\n",
       "    }\n",
       "\n",
       "    .dataframe tbody tr th {\n",
       "        vertical-align: top;\n",
       "    }\n",
       "\n",
       "    .dataframe thead th {\n",
       "        text-align: right;\n",
       "    }\n",
       "</style>\n",
       "<table border=\"1\" class=\"dataframe\">\n",
       "  <thead>\n",
       "    <tr style=\"text-align: right;\">\n",
       "      <th>income_group</th>\n",
       "      <th>Low income</th>\n",
       "      <th>Middle income</th>\n",
       "      <th>Upper income</th>\n",
       "    </tr>\n",
       "    <tr>\n",
       "      <th>department</th>\n",
       "      <th></th>\n",
       "      <th></th>\n",
       "      <th></th>\n",
       "    </tr>\n",
       "  </thead>\n",
       "  <tbody>\n",
       "    <tr>\n",
       "      <th>alcohol</th>\n",
       "      <td>19346</td>\n",
       "      <td>106810</td>\n",
       "      <td>18471</td>\n",
       "    </tr>\n",
       "    <tr>\n",
       "      <th>babies</th>\n",
       "      <td>34026</td>\n",
       "      <td>339345</td>\n",
       "      <td>37021</td>\n",
       "    </tr>\n",
       "    <tr>\n",
       "      <th>bakery</th>\n",
       "      <td>118157</td>\n",
       "      <td>896199</td>\n",
       "      <td>106472</td>\n",
       "    </tr>\n",
       "    <tr>\n",
       "      <th>beverages</th>\n",
       "      <td>413096</td>\n",
       "      <td>1936487</td>\n",
       "      <td>222318</td>\n",
       "    </tr>\n",
       "    <tr>\n",
       "      <th>breakfast</th>\n",
       "      <td>99160</td>\n",
       "      <td>514064</td>\n",
       "      <td>57626</td>\n",
       "    </tr>\n",
       "    <tr>\n",
       "      <th>bulk</th>\n",
       "      <td>5060</td>\n",
       "      <td>25988</td>\n",
       "      <td>2403</td>\n",
       "    </tr>\n",
       "    <tr>\n",
       "      <th>canned goods</th>\n",
       "      <td>88560</td>\n",
       "      <td>829791</td>\n",
       "      <td>93723</td>\n",
       "    </tr>\n",
       "    <tr>\n",
       "      <th>dairy eggs</th>\n",
       "      <td>555091</td>\n",
       "      <td>4159097</td>\n",
       "      <td>462994</td>\n",
       "    </tr>\n",
       "    <tr>\n",
       "      <th>deli</th>\n",
       "      <td>116835</td>\n",
       "      <td>798206</td>\n",
       "      <td>88793</td>\n",
       "    </tr>\n",
       "    <tr>\n",
       "      <th>dry goods pasta</th>\n",
       "      <td>72665</td>\n",
       "      <td>674210</td>\n",
       "      <td>75261</td>\n",
       "    </tr>\n",
       "    <tr>\n",
       "      <th>frozen</th>\n",
       "      <td>237009</td>\n",
       "      <td>1689828</td>\n",
       "      <td>194894</td>\n",
       "    </tr>\n",
       "    <tr>\n",
       "      <th>houshold</th>\n",
       "      <td>94423</td>\n",
       "      <td>539021</td>\n",
       "      <td>66413</td>\n",
       "    </tr>\n",
       "    <tr>\n",
       "      <th>international</th>\n",
       "      <td>23973</td>\n",
       "      <td>208931</td>\n",
       "      <td>23087</td>\n",
       "    </tr>\n",
       "    <tr>\n",
       "      <th>meat seafood</th>\n",
       "      <td>39506</td>\n",
       "      <td>570855</td>\n",
       "      <td>64420</td>\n",
       "    </tr>\n",
       "    <tr>\n",
       "      <th>missing</th>\n",
       "      <td>7210</td>\n",
       "      <td>51874</td>\n",
       "      <td>5684</td>\n",
       "    </tr>\n",
       "    <tr>\n",
       "      <th>other</th>\n",
       "      <td>4229</td>\n",
       "      <td>27010</td>\n",
       "      <td>3172</td>\n",
       "    </tr>\n",
       "    <tr>\n",
       "      <th>pantry</th>\n",
       "      <td>183673</td>\n",
       "      <td>1435899</td>\n",
       "      <td>163133</td>\n",
       "    </tr>\n",
       "    <tr>\n",
       "      <th>personal care</th>\n",
       "      <td>52136</td>\n",
       "      <td>334294</td>\n",
       "      <td>37876</td>\n",
       "    </tr>\n",
       "    <tr>\n",
       "      <th>pets</th>\n",
       "      <td>9550</td>\n",
       "      <td>73971</td>\n",
       "      <td>9539</td>\n",
       "    </tr>\n",
       "    <tr>\n",
       "      <th>produce</th>\n",
       "      <td>918925</td>\n",
       "      <td>7375950</td>\n",
       "      <td>784398</td>\n",
       "    </tr>\n",
       "    <tr>\n",
       "      <th>snacks</th>\n",
       "      <td>599078</td>\n",
       "      <td>1953563</td>\n",
       "      <td>213765</td>\n",
       "    </tr>\n",
       "  </tbody>\n",
       "</table>\n",
       "</div>"
      ],
      "text/plain": [
       "income_group     Low income  Middle income  Upper income\n",
       "department                                              \n",
       "alcohol               19346         106810         18471\n",
       "babies                34026         339345         37021\n",
       "bakery               118157         896199        106472\n",
       "beverages            413096        1936487        222318\n",
       "breakfast             99160         514064         57626\n",
       "bulk                   5060          25988          2403\n",
       "canned goods          88560         829791         93723\n",
       "dairy eggs           555091        4159097        462994\n",
       "deli                 116835         798206         88793\n",
       "dry goods pasta       72665         674210         75261\n",
       "frozen               237009        1689828        194894\n",
       "houshold              94423         539021         66413\n",
       "international         23973         208931         23087\n",
       "meat seafood          39506         570855         64420\n",
       "missing                7210          51874          5684\n",
       "other                  4229          27010          3172\n",
       "pantry               183673        1435899        163133\n",
       "personal care         52136         334294         37876\n",
       "pets                   9550          73971          9539\n",
       "produce              918925        7375950        784398\n",
       "snacks               599078        1953563        213765"
      ]
     },
     "execution_count": 164,
     "metadata": {},
     "output_type": "execute_result"
    }
   ],
   "source": [
    "crosstab_dept_income"
   ]
  },
  {
   "cell_type": "code",
   "execution_count": 165,
   "id": "5b7a52f7",
   "metadata": {},
   "outputs": [
    {
     "data": {
      "image/png": "[encoded data removed]",
      "text/plain": [
       "<Figure size 640x480 with 1 Axes>"
      ]
     },
     "metadata": {},
     "output_type": "display_data"
    }
   ],
   "source": [
    "bar_dept_income = crosstab_dept_income.plot.barh()"
   ]
  },
  {
   "cell_type": "code",
   "execution_count": 166,
   "id": "c539055a",
   "metadata": {},
   "outputs": [],
   "source": [
    "# Saving the chart as an image file:\n",
    "bar_dept_income.figure.savefig(os.path.join(path, '04 Analysis','Visualizations', 'bar_dept_income.png'))"
   ]
  },
  {
   "cell_type": "markdown",
   "id": "54f8a9ce",
   "metadata": {},
   "source": [
    "#### Family status"
   ]
  },
  {
   "cell_type": "code",
   "execution_count": 167,
   "id": "a18dfb2f",
   "metadata": {},
   "outputs": [],
   "source": [
    "crosstab_dept_family = pd.crosstab(instacart_high['department'], instacart_high['family_status'], dropna = False)"
   ]
  },
  {
   "cell_type": "code",
   "execution_count": 168,
   "id": "ea742dc4",
   "metadata": {},
   "outputs": [
    {
     "data": {
      "text/html": [
       "<div>\n",
       "<style scoped>\n",
       "    .dataframe tbody tr th:only-of-type {\n",
       "        vertical-align: middle;\n",
       "    }\n",
       "\n",
       "    .dataframe tbody tr th {\n",
       "        vertical-align: top;\n",
       "    }\n",
       "\n",
       "    .dataframe thead th {\n",
       "        text-align: right;\n",
       "    }\n",
       "</style>\n",
       "<table border=\"1\" class=\"dataframe\">\n",
       "  <thead>\n",
       "    <tr style=\"text-align: right;\">\n",
       "      <th>family_status</th>\n",
       "      <th>divorced/widowed</th>\n",
       "      <th>living with parents and siblings</th>\n",
       "      <th>married</th>\n",
       "      <th>single</th>\n",
       "    </tr>\n",
       "    <tr>\n",
       "      <th>department</th>\n",
       "      <th></th>\n",
       "      <th></th>\n",
       "      <th></th>\n",
       "      <th></th>\n",
       "    </tr>\n",
       "  </thead>\n",
       "  <tbody>\n",
       "    <tr>\n",
       "      <th>alcohol</th>\n",
       "      <td>11859</td>\n",
       "      <td>8379</td>\n",
       "      <td>99421</td>\n",
       "      <td>24968</td>\n",
       "    </tr>\n",
       "    <tr>\n",
       "      <th>babies</th>\n",
       "      <td>34351</td>\n",
       "      <td>19381</td>\n",
       "      <td>287683</td>\n",
       "      <td>68977</td>\n",
       "    </tr>\n",
       "    <tr>\n",
       "      <th>bakery</th>\n",
       "      <td>95735</td>\n",
       "      <td>53684</td>\n",
       "      <td>785749</td>\n",
       "      <td>185660</td>\n",
       "    </tr>\n",
       "    <tr>\n",
       "      <th>beverages</th>\n",
       "      <td>220879</td>\n",
       "      <td>119107</td>\n",
       "      <td>1807453</td>\n",
       "      <td>424462</td>\n",
       "    </tr>\n",
       "    <tr>\n",
       "      <th>breakfast</th>\n",
       "      <td>56590</td>\n",
       "      <td>33198</td>\n",
       "      <td>471220</td>\n",
       "      <td>109842</td>\n",
       "    </tr>\n",
       "    <tr>\n",
       "      <th>bulk</th>\n",
       "      <td>2676</td>\n",
       "      <td>1633</td>\n",
       "      <td>23818</td>\n",
       "      <td>5324</td>\n",
       "    </tr>\n",
       "    <tr>\n",
       "      <th>canned goods</th>\n",
       "      <td>84268</td>\n",
       "      <td>48477</td>\n",
       "      <td>712577</td>\n",
       "      <td>166752</td>\n",
       "    </tr>\n",
       "    <tr>\n",
       "      <th>dairy eggs</th>\n",
       "      <td>442602</td>\n",
       "      <td>250207</td>\n",
       "      <td>3632599</td>\n",
       "      <td>851774</td>\n",
       "    </tr>\n",
       "    <tr>\n",
       "      <th>deli</th>\n",
       "      <td>86749</td>\n",
       "      <td>48119</td>\n",
       "      <td>702333</td>\n",
       "      <td>166633</td>\n",
       "    </tr>\n",
       "    <tr>\n",
       "      <th>dry goods pasta</th>\n",
       "      <td>70251</td>\n",
       "      <td>39542</td>\n",
       "      <td>578298</td>\n",
       "      <td>134045</td>\n",
       "    </tr>\n",
       "    <tr>\n",
       "      <th>frozen</th>\n",
       "      <td>183957</td>\n",
       "      <td>102993</td>\n",
       "      <td>1489390</td>\n",
       "      <td>345391</td>\n",
       "    </tr>\n",
       "    <tr>\n",
       "      <th>houshold</th>\n",
       "      <td>58446</td>\n",
       "      <td>33349</td>\n",
       "      <td>495150</td>\n",
       "      <td>112912</td>\n",
       "    </tr>\n",
       "    <tr>\n",
       "      <th>international</th>\n",
       "      <td>21814</td>\n",
       "      <td>12394</td>\n",
       "      <td>179136</td>\n",
       "      <td>42647</td>\n",
       "    </tr>\n",
       "    <tr>\n",
       "      <th>meat seafood</th>\n",
       "      <td>57621</td>\n",
       "      <td>32344</td>\n",
       "      <td>476559</td>\n",
       "      <td>108257</td>\n",
       "    </tr>\n",
       "    <tr>\n",
       "      <th>missing</th>\n",
       "      <td>5064</td>\n",
       "      <td>3317</td>\n",
       "      <td>45516</td>\n",
       "      <td>10871</td>\n",
       "    </tr>\n",
       "    <tr>\n",
       "      <th>other</th>\n",
       "      <td>2842</td>\n",
       "      <td>1815</td>\n",
       "      <td>23882</td>\n",
       "      <td>5872</td>\n",
       "    </tr>\n",
       "    <tr>\n",
       "      <th>pantry</th>\n",
       "      <td>151891</td>\n",
       "      <td>85845</td>\n",
       "      <td>1252956</td>\n",
       "      <td>292013</td>\n",
       "    </tr>\n",
       "    <tr>\n",
       "      <th>personal care</th>\n",
       "      <td>36313</td>\n",
       "      <td>20201</td>\n",
       "      <td>297900</td>\n",
       "      <td>69892</td>\n",
       "    </tr>\n",
       "    <tr>\n",
       "      <th>pets</th>\n",
       "      <td>8025</td>\n",
       "      <td>5338</td>\n",
       "      <td>64120</td>\n",
       "      <td>15577</td>\n",
       "    </tr>\n",
       "    <tr>\n",
       "      <th>produce</th>\n",
       "      <td>777094</td>\n",
       "      <td>430539</td>\n",
       "      <td>6373293</td>\n",
       "      <td>1498347</td>\n",
       "    </tr>\n",
       "    <tr>\n",
       "      <th>snacks</th>\n",
       "      <td>236244</td>\n",
       "      <td>131310</td>\n",
       "      <td>1944658</td>\n",
       "      <td>454194</td>\n",
       "    </tr>\n",
       "  </tbody>\n",
       "</table>\n",
       "</div>"
      ],
      "text/plain": [
       "family_status    divorced/widowed  living with parents and siblings  married  \\\n",
       "department                                                                     \n",
       "alcohol                     11859                              8379    99421   \n",
       "babies                      34351                             19381   287683   \n",
       "bakery                      95735                             53684   785749   \n",
       "beverages                  220879                            119107  1807453   \n",
       "breakfast                   56590                             33198   471220   \n",
       "bulk                         2676                              1633    23818   \n",
       "canned goods                84268                             48477   712577   \n",
       "dairy eggs                 442602                            250207  3632599   \n",
       "deli                        86749                             48119   702333   \n",
       "dry goods pasta             70251                             39542   578298   \n",
       "frozen                     183957                            102993  1489390   \n",
       "houshold                    58446                             33349   495150   \n",
       "international               21814                             12394   179136   \n",
       "meat seafood                57621                             32344   476559   \n",
       "missing                      5064                              3317    45516   \n",
       "other                        2842                              1815    23882   \n",
       "pantry                     151891                             85845  1252956   \n",
       "personal care               36313                             20201   297900   \n",
       "pets                         8025                              5338    64120   \n",
       "produce                    777094                            430539  6373293   \n",
       "snacks                     236244                            131310  1944658   \n",
       "\n",
       "family_status     single  \n",
       "department                \n",
       "alcohol            24968  \n",
       "babies             68977  \n",
       "bakery            185660  \n",
       "beverages         424462  \n",
       "breakfast         109842  \n",
       "bulk                5324  \n",
       "canned goods      166752  \n",
       "dairy eggs        851774  \n",
       "deli              166633  \n",
       "dry goods pasta   134045  \n",
       "frozen            345391  \n",
       "houshold          112912  \n",
       "international      42647  \n",
       "meat seafood      108257  \n",
       "missing            10871  \n",
       "other               5872  \n",
       "pantry            292013  \n",
       "personal care      69892  \n",
       "pets               15577  \n",
       "produce          1498347  \n",
       "snacks            454194  "
      ]
     },
     "execution_count": 168,
     "metadata": {},
     "output_type": "execute_result"
    }
   ],
   "source": [
    "crosstab_dept_family"
   ]
  },
  {
   "cell_type": "code",
   "execution_count": 169,
   "id": "28b76c05",
   "metadata": {},
   "outputs": [
    {
     "data": {
      "image/png": "[encoded data removed]",
      "text/plain": [
       "<Figure size 640x480 with 1 Axes>"
      ]
     },
     "metadata": {},
     "output_type": "display_data"
    }
   ],
   "source": [
    "bar_dept_family = crosstab_dept_family.plot.barh()"
   ]
  },
  {
   "cell_type": "code",
   "execution_count": 170,
   "id": "e823b6e9",
   "metadata": {},
   "outputs": [],
   "source": [
    "# Saving the chart as an image file:\n",
    "bar_dept_family.figure.savefig(os.path.join(path, '04 Analysis','Visualizations', 'bar_dept_family.png'))"
   ]
  },
  {
   "cell_type": "markdown",
   "id": "7c09e707",
   "metadata": {},
   "source": [
    "#### Number of children"
   ]
  },
  {
   "cell_type": "code",
   "execution_count": 171,
   "id": "c1b186a9",
   "metadata": {},
   "outputs": [],
   "source": [
    "crosstab_dept_children = pd.crosstab(instacart_high['department'], instacart_high['number_of_dependants'], dropna = False)"
   ]
  },
  {
   "cell_type": "code",
   "execution_count": 172,
   "id": "a36eb437",
   "metadata": {},
   "outputs": [
    {
     "data": {
      "text/html": [
       "<div>\n",
       "<style scoped>\n",
       "    .dataframe tbody tr th:only-of-type {\n",
       "        vertical-align: middle;\n",
       "    }\n",
       "\n",
       "    .dataframe tbody tr th {\n",
       "        vertical-align: top;\n",
       "    }\n",
       "\n",
       "    .dataframe thead th {\n",
       "        text-align: right;\n",
       "    }\n",
       "</style>\n",
       "<table border=\"1\" class=\"dataframe\">\n",
       "  <thead>\n",
       "    <tr style=\"text-align: right;\">\n",
       "      <th>number_of_dependants</th>\n",
       "      <th>0</th>\n",
       "      <th>1</th>\n",
       "      <th>2</th>\n",
       "      <th>3</th>\n",
       "    </tr>\n",
       "    <tr>\n",
       "      <th>department</th>\n",
       "      <th></th>\n",
       "      <th></th>\n",
       "      <th></th>\n",
       "      <th></th>\n",
       "    </tr>\n",
       "  </thead>\n",
       "  <tbody>\n",
       "    <tr>\n",
       "      <th>alcohol</th>\n",
       "      <td>36827</td>\n",
       "      <td>35799</td>\n",
       "      <td>34668</td>\n",
       "      <td>37333</td>\n",
       "    </tr>\n",
       "    <tr>\n",
       "      <th>babies</th>\n",
       "      <td>103328</td>\n",
       "      <td>99905</td>\n",
       "      <td>104574</td>\n",
       "      <td>102585</td>\n",
       "    </tr>\n",
       "    <tr>\n",
       "      <th>bakery</th>\n",
       "      <td>281395</td>\n",
       "      <td>280390</td>\n",
       "      <td>279221</td>\n",
       "      <td>279822</td>\n",
       "    </tr>\n",
       "    <tr>\n",
       "      <th>beverages</th>\n",
       "      <td>645341</td>\n",
       "      <td>638747</td>\n",
       "      <td>646886</td>\n",
       "      <td>640927</td>\n",
       "    </tr>\n",
       "    <tr>\n",
       "      <th>breakfast</th>\n",
       "      <td>166432</td>\n",
       "      <td>169242</td>\n",
       "      <td>167854</td>\n",
       "      <td>167322</td>\n",
       "    </tr>\n",
       "    <tr>\n",
       "      <th>bulk</th>\n",
       "      <td>8000</td>\n",
       "      <td>8573</td>\n",
       "      <td>8475</td>\n",
       "      <td>8403</td>\n",
       "    </tr>\n",
       "    <tr>\n",
       "      <th>canned goods</th>\n",
       "      <td>251020</td>\n",
       "      <td>253013</td>\n",
       "      <td>252716</td>\n",
       "      <td>255325</td>\n",
       "    </tr>\n",
       "    <tr>\n",
       "      <th>dairy eggs</th>\n",
       "      <td>1294376</td>\n",
       "      <td>1297659</td>\n",
       "      <td>1288883</td>\n",
       "      <td>1296264</td>\n",
       "    </tr>\n",
       "    <tr>\n",
       "      <th>deli</th>\n",
       "      <td>253382</td>\n",
       "      <td>247893</td>\n",
       "      <td>249967</td>\n",
       "      <td>252592</td>\n",
       "    </tr>\n",
       "    <tr>\n",
       "      <th>dry goods pasta</th>\n",
       "      <td>204296</td>\n",
       "      <td>204798</td>\n",
       "      <td>204630</td>\n",
       "      <td>208412</td>\n",
       "    </tr>\n",
       "    <tr>\n",
       "      <th>frozen</th>\n",
       "      <td>529348</td>\n",
       "      <td>525949</td>\n",
       "      <td>534026</td>\n",
       "      <td>532408</td>\n",
       "    </tr>\n",
       "    <tr>\n",
       "      <th>houshold</th>\n",
       "      <td>171358</td>\n",
       "      <td>175708</td>\n",
       "      <td>176507</td>\n",
       "      <td>176284</td>\n",
       "    </tr>\n",
       "    <tr>\n",
       "      <th>international</th>\n",
       "      <td>64461</td>\n",
       "      <td>64753</td>\n",
       "      <td>63304</td>\n",
       "      <td>63473</td>\n",
       "    </tr>\n",
       "    <tr>\n",
       "      <th>meat seafood</th>\n",
       "      <td>165878</td>\n",
       "      <td>169256</td>\n",
       "      <td>168224</td>\n",
       "      <td>171423</td>\n",
       "    </tr>\n",
       "    <tr>\n",
       "      <th>missing</th>\n",
       "      <td>15935</td>\n",
       "      <td>16013</td>\n",
       "      <td>16385</td>\n",
       "      <td>16435</td>\n",
       "    </tr>\n",
       "    <tr>\n",
       "      <th>other</th>\n",
       "      <td>8714</td>\n",
       "      <td>8720</td>\n",
       "      <td>8600</td>\n",
       "      <td>8377</td>\n",
       "    </tr>\n",
       "    <tr>\n",
       "      <th>pantry</th>\n",
       "      <td>443904</td>\n",
       "      <td>446087</td>\n",
       "      <td>446558</td>\n",
       "      <td>446156</td>\n",
       "    </tr>\n",
       "    <tr>\n",
       "      <th>personal care</th>\n",
       "      <td>106205</td>\n",
       "      <td>105971</td>\n",
       "      <td>105815</td>\n",
       "      <td>106315</td>\n",
       "    </tr>\n",
       "    <tr>\n",
       "      <th>pets</th>\n",
       "      <td>23602</td>\n",
       "      <td>23815</td>\n",
       "      <td>22501</td>\n",
       "      <td>23142</td>\n",
       "    </tr>\n",
       "    <tr>\n",
       "      <th>produce</th>\n",
       "      <td>2275441</td>\n",
       "      <td>2258458</td>\n",
       "      <td>2257655</td>\n",
       "      <td>2287719</td>\n",
       "    </tr>\n",
       "    <tr>\n",
       "      <th>snacks</th>\n",
       "      <td>690438</td>\n",
       "      <td>688357</td>\n",
       "      <td>695812</td>\n",
       "      <td>691799</td>\n",
       "    </tr>\n",
       "  </tbody>\n",
       "</table>\n",
       "</div>"
      ],
      "text/plain": [
       "number_of_dependants        0        1        2        3\n",
       "department                                              \n",
       "alcohol                 36827    35799    34668    37333\n",
       "babies                 103328    99905   104574   102585\n",
       "bakery                 281395   280390   279221   279822\n",
       "beverages              645341   638747   646886   640927\n",
       "breakfast              166432   169242   167854   167322\n",
       "bulk                     8000     8573     8475     8403\n",
       "canned goods           251020   253013   252716   255325\n",
       "dairy eggs            1294376  1297659  1288883  1296264\n",
       "deli                   253382   247893   249967   252592\n",
       "dry goods pasta        204296   204798   204630   208412\n",
       "frozen                 529348   525949   534026   532408\n",
       "houshold               171358   175708   176507   176284\n",
       "international           64461    64753    63304    63473\n",
       "meat seafood           165878   169256   168224   171423\n",
       "missing                 15935    16013    16385    16435\n",
       "other                    8714     8720     8600     8377\n",
       "pantry                 443904   446087   446558   446156\n",
       "personal care          106205   105971   105815   106315\n",
       "pets                    23602    23815    22501    23142\n",
       "produce               2275441  2258458  2257655  2287719\n",
       "snacks                 690438   688357   695812   691799"
      ]
     },
     "execution_count": 172,
     "metadata": {},
     "output_type": "execute_result"
    }
   ],
   "source": [
    "crosstab_dept_children"
   ]
  },
  {
   "cell_type": "code",
   "execution_count": 173,
   "id": "08f7ae39",
   "metadata": {},
   "outputs": [
    {
     "data": {
      "image/png": "[encoded data removed]",
      "text/plain": [
       "<Figure size 640x480 with 1 Axes>"
      ]
     },
     "metadata": {},
     "output_type": "display_data"
    }
   ],
   "source": [
    "bar_dept_children = crosstab_dept_children.plot.barh()"
   ]
  },
  {
   "cell_type": "code",
   "execution_count": 174,
   "id": "87b2f92b",
   "metadata": {},
   "outputs": [],
   "source": [
    "# Saving the chart as an image file:\n",
    "bar_dept_children.figure.savefig(os.path.join(path, '04 Analysis','Visualizations', 'bar_dept_children.png'))"
   ]
  },
  {
   "cell_type": "markdown",
   "id": "79bdc348",
   "metadata": {},
   "source": [
    "#### Orders by time of day"
   ]
  },
  {
   "cell_type": "code",
   "execution_count": 175,
   "id": "3a58da3d",
   "metadata": {},
   "outputs": [],
   "source": [
    "crosstab_dept_time = pd.crosstab(instacart_high['department'], instacart_high['order_time'], dropna = False)"
   ]
  },
  {
   "cell_type": "code",
   "execution_count": 176,
   "id": "2b2bb347",
   "metadata": {},
   "outputs": [
    {
     "data": {
      "text/html": [
       "<div>\n",
       "<style scoped>\n",
       "    .dataframe tbody tr th:only-of-type {\n",
       "        vertical-align: middle;\n",
       "    }\n",
       "\n",
       "    .dataframe tbody tr th {\n",
       "        vertical-align: top;\n",
       "    }\n",
       "\n",
       "    .dataframe thead th {\n",
       "        text-align: right;\n",
       "    }\n",
       "</style>\n",
       "<table border=\"1\" class=\"dataframe\">\n",
       "  <thead>\n",
       "    <tr style=\"text-align: right;\">\n",
       "      <th>order_time</th>\n",
       "      <th>Afternoon</th>\n",
       "      <th>Evening</th>\n",
       "      <th>Morning</th>\n",
       "      <th>Night</th>\n",
       "    </tr>\n",
       "    <tr>\n",
       "      <th>department</th>\n",
       "      <th></th>\n",
       "      <th></th>\n",
       "      <th></th>\n",
       "      <th></th>\n",
       "    </tr>\n",
       "  </thead>\n",
       "  <tbody>\n",
       "    <tr>\n",
       "      <th>alcohol</th>\n",
       "      <td>78928</td>\n",
       "      <td>20826</td>\n",
       "      <td>43257</td>\n",
       "      <td>1616</td>\n",
       "    </tr>\n",
       "    <tr>\n",
       "      <th>babies</th>\n",
       "      <td>178926</td>\n",
       "      <td>78755</td>\n",
       "      <td>146626</td>\n",
       "      <td>6085</td>\n",
       "    </tr>\n",
       "    <tr>\n",
       "      <th>bakery</th>\n",
       "      <td>532290</td>\n",
       "      <td>191037</td>\n",
       "      <td>378160</td>\n",
       "      <td>19341</td>\n",
       "    </tr>\n",
       "    <tr>\n",
       "      <th>beverages</th>\n",
       "      <td>1201018</td>\n",
       "      <td>427315</td>\n",
       "      <td>895348</td>\n",
       "      <td>48220</td>\n",
       "    </tr>\n",
       "    <tr>\n",
       "      <th>breakfast</th>\n",
       "      <td>302724</td>\n",
       "      <td>117432</td>\n",
       "      <td>239163</td>\n",
       "      <td>11531</td>\n",
       "    </tr>\n",
       "    <tr>\n",
       "      <th>bulk</th>\n",
       "      <td>15306</td>\n",
       "      <td>6090</td>\n",
       "      <td>11474</td>\n",
       "      <td>581</td>\n",
       "    </tr>\n",
       "    <tr>\n",
       "      <th>canned goods</th>\n",
       "      <td>488131</td>\n",
       "      <td>173481</td>\n",
       "      <td>331655</td>\n",
       "      <td>18807</td>\n",
       "    </tr>\n",
       "    <tr>\n",
       "      <th>dairy eggs</th>\n",
       "      <td>2384347</td>\n",
       "      <td>902200</td>\n",
       "      <td>1801298</td>\n",
       "      <td>89337</td>\n",
       "    </tr>\n",
       "    <tr>\n",
       "      <th>deli</th>\n",
       "      <td>480356</td>\n",
       "      <td>175379</td>\n",
       "      <td>330132</td>\n",
       "      <td>17967</td>\n",
       "    </tr>\n",
       "    <tr>\n",
       "      <th>dry goods pasta</th>\n",
       "      <td>398716</td>\n",
       "      <td>146899</td>\n",
       "      <td>261734</td>\n",
       "      <td>14787</td>\n",
       "    </tr>\n",
       "    <tr>\n",
       "      <th>frozen</th>\n",
       "      <td>1025432</td>\n",
       "      <td>409289</td>\n",
       "      <td>644658</td>\n",
       "      <td>42352</td>\n",
       "    </tr>\n",
       "    <tr>\n",
       "      <th>houshold</th>\n",
       "      <td>322254</td>\n",
       "      <td>123375</td>\n",
       "      <td>239920</td>\n",
       "      <td>14308</td>\n",
       "    </tr>\n",
       "    <tr>\n",
       "      <th>international</th>\n",
       "      <td>124900</td>\n",
       "      <td>44352</td>\n",
       "      <td>81843</td>\n",
       "      <td>4896</td>\n",
       "    </tr>\n",
       "    <tr>\n",
       "      <th>meat seafood</th>\n",
       "      <td>325436</td>\n",
       "      <td>116988</td>\n",
       "      <td>220179</td>\n",
       "      <td>12178</td>\n",
       "    </tr>\n",
       "    <tr>\n",
       "      <th>missing</th>\n",
       "      <td>30193</td>\n",
       "      <td>11810</td>\n",
       "      <td>21349</td>\n",
       "      <td>1416</td>\n",
       "    </tr>\n",
       "    <tr>\n",
       "      <th>other</th>\n",
       "      <td>16425</td>\n",
       "      <td>6189</td>\n",
       "      <td>11095</td>\n",
       "      <td>702</td>\n",
       "    </tr>\n",
       "    <tr>\n",
       "      <th>pantry</th>\n",
       "      <td>848241</td>\n",
       "      <td>313786</td>\n",
       "      <td>585761</td>\n",
       "      <td>34917</td>\n",
       "    </tr>\n",
       "    <tr>\n",
       "      <th>personal care</th>\n",
       "      <td>196867</td>\n",
       "      <td>79773</td>\n",
       "      <td>138330</td>\n",
       "      <td>9336</td>\n",
       "    </tr>\n",
       "    <tr>\n",
       "      <th>pets</th>\n",
       "      <td>45030</td>\n",
       "      <td>17493</td>\n",
       "      <td>28409</td>\n",
       "      <td>2128</td>\n",
       "    </tr>\n",
       "    <tr>\n",
       "      <th>produce</th>\n",
       "      <td>4240471</td>\n",
       "      <td>1607123</td>\n",
       "      <td>3059958</td>\n",
       "      <td>171721</td>\n",
       "    </tr>\n",
       "    <tr>\n",
       "      <th>snacks</th>\n",
       "      <td>1298975</td>\n",
       "      <td>461104</td>\n",
       "      <td>961222</td>\n",
       "      <td>45105</td>\n",
       "    </tr>\n",
       "  </tbody>\n",
       "</table>\n",
       "</div>"
      ],
      "text/plain": [
       "order_time       Afternoon  Evening  Morning   Night\n",
       "department                                          \n",
       "alcohol              78928    20826    43257    1616\n",
       "babies              178926    78755   146626    6085\n",
       "bakery              532290   191037   378160   19341\n",
       "beverages          1201018   427315   895348   48220\n",
       "breakfast           302724   117432   239163   11531\n",
       "bulk                 15306     6090    11474     581\n",
       "canned goods        488131   173481   331655   18807\n",
       "dairy eggs         2384347   902200  1801298   89337\n",
       "deli                480356   175379   330132   17967\n",
       "dry goods pasta     398716   146899   261734   14787\n",
       "frozen             1025432   409289   644658   42352\n",
       "houshold            322254   123375   239920   14308\n",
       "international       124900    44352    81843    4896\n",
       "meat seafood        325436   116988   220179   12178\n",
       "missing              30193    11810    21349    1416\n",
       "other                16425     6189    11095     702\n",
       "pantry              848241   313786   585761   34917\n",
       "personal care       196867    79773   138330    9336\n",
       "pets                 45030    17493    28409    2128\n",
       "produce            4240471  1607123  3059958  171721\n",
       "snacks             1298975   461104   961222   45105"
      ]
     },
     "execution_count": 176,
     "metadata": {},
     "output_type": "execute_result"
    }
   ],
   "source": [
    "crosstab_dept_time"
   ]
  },
  {
   "cell_type": "code",
   "execution_count": 177,
   "id": "4a03c8bc",
   "metadata": {},
   "outputs": [
    {
     "data": {
      "image/png": "[encoded data removed]",
      "text/plain": [
       "<Figure size 640x480 with 1 Axes>"
      ]
     },
     "metadata": {},
     "output_type": "display_data"
    }
   ],
   "source": [
    "bar_dept_time = crosstab_dept_time.plot.barh()"
   ]
  },
  {
   "cell_type": "code",
   "execution_count": 178,
   "id": "9b56a553",
   "metadata": {},
   "outputs": [],
   "source": [
    "# Saving the chart as an image file:\n",
    "bar_dept_time.figure.savefig(os.path.join(path, '04 Analysis','Visualizations', 'bar_dept_time.png'))"
   ]
  },
  {
   "cell_type": "markdown",
   "id": "65527823",
   "metadata": {},
   "source": [
    "#### Orders by week day"
   ]
  },
  {
   "cell_type": "code",
   "execution_count": 179,
   "id": "79005bc9",
   "metadata": {},
   "outputs": [],
   "source": [
    "crosstab_dept_day = pd.crosstab(instacart_high['department'], instacart_high['week_day'], dropna = False)"
   ]
  },
  {
   "cell_type": "code",
   "execution_count": 180,
   "id": "b3e56195",
   "metadata": {},
   "outputs": [
    {
     "data": {
      "text/html": [
       "<div>\n",
       "<style scoped>\n",
       "    .dataframe tbody tr th:only-of-type {\n",
       "        vertical-align: middle;\n",
       "    }\n",
       "\n",
       "    .dataframe tbody tr th {\n",
       "        vertical-align: top;\n",
       "    }\n",
       "\n",
       "    .dataframe thead th {\n",
       "        text-align: right;\n",
       "    }\n",
       "</style>\n",
       "<table border=\"1\" class=\"dataframe\">\n",
       "  <thead>\n",
       "    <tr style=\"text-align: right;\">\n",
       "      <th>week_day</th>\n",
       "      <th>Weekday</th>\n",
       "      <th>Weekend</th>\n",
       "    </tr>\n",
       "    <tr>\n",
       "      <th>department</th>\n",
       "      <th></th>\n",
       "      <th></th>\n",
       "    </tr>\n",
       "  </thead>\n",
       "  <tbody>\n",
       "    <tr>\n",
       "      <th>alcohol</th>\n",
       "      <td>109051</td>\n",
       "      <td>35576</td>\n",
       "    </tr>\n",
       "    <tr>\n",
       "      <th>babies</th>\n",
       "      <td>260774</td>\n",
       "      <td>149618</td>\n",
       "    </tr>\n",
       "    <tr>\n",
       "      <th>bakery</th>\n",
       "      <td>711743</td>\n",
       "      <td>409085</td>\n",
       "    </tr>\n",
       "    <tr>\n",
       "      <th>beverages</th>\n",
       "      <td>1696857</td>\n",
       "      <td>875044</td>\n",
       "    </tr>\n",
       "    <tr>\n",
       "      <th>breakfast</th>\n",
       "      <td>428751</td>\n",
       "      <td>242099</td>\n",
       "    </tr>\n",
       "    <tr>\n",
       "      <th>bulk</th>\n",
       "      <td>21393</td>\n",
       "      <td>12058</td>\n",
       "    </tr>\n",
       "    <tr>\n",
       "      <th>canned goods</th>\n",
       "      <td>625838</td>\n",
       "      <td>386236</td>\n",
       "    </tr>\n",
       "    <tr>\n",
       "      <th>dairy eggs</th>\n",
       "      <td>3289485</td>\n",
       "      <td>1887697</td>\n",
       "    </tr>\n",
       "    <tr>\n",
       "      <th>deli</th>\n",
       "      <td>627795</td>\n",
       "      <td>376039</td>\n",
       "    </tr>\n",
       "    <tr>\n",
       "      <th>dry goods pasta</th>\n",
       "      <td>509426</td>\n",
       "      <td>312710</td>\n",
       "    </tr>\n",
       "    <tr>\n",
       "      <th>frozen</th>\n",
       "      <td>1363816</td>\n",
       "      <td>757915</td>\n",
       "    </tr>\n",
       "    <tr>\n",
       "      <th>houshold</th>\n",
       "      <td>465639</td>\n",
       "      <td>234218</td>\n",
       "    </tr>\n",
       "    <tr>\n",
       "      <th>international</th>\n",
       "      <td>158926</td>\n",
       "      <td>97065</td>\n",
       "    </tr>\n",
       "    <tr>\n",
       "      <th>meat seafood</th>\n",
       "      <td>417530</td>\n",
       "      <td>257251</td>\n",
       "    </tr>\n",
       "    <tr>\n",
       "      <th>missing</th>\n",
       "      <td>41803</td>\n",
       "      <td>22965</td>\n",
       "    </tr>\n",
       "    <tr>\n",
       "      <th>other</th>\n",
       "      <td>22985</td>\n",
       "      <td>11426</td>\n",
       "    </tr>\n",
       "    <tr>\n",
       "      <th>pantry</th>\n",
       "      <td>1159334</td>\n",
       "      <td>623371</td>\n",
       "    </tr>\n",
       "    <tr>\n",
       "      <th>personal care</th>\n",
       "      <td>279607</td>\n",
       "      <td>144699</td>\n",
       "    </tr>\n",
       "    <tr>\n",
       "      <th>pets</th>\n",
       "      <td>62952</td>\n",
       "      <td>30108</td>\n",
       "    </tr>\n",
       "    <tr>\n",
       "      <th>produce</th>\n",
       "      <td>5601683</td>\n",
       "      <td>3477590</td>\n",
       "    </tr>\n",
       "    <tr>\n",
       "      <th>snacks</th>\n",
       "      <td>1788880</td>\n",
       "      <td>977526</td>\n",
       "    </tr>\n",
       "  </tbody>\n",
       "</table>\n",
       "</div>"
      ],
      "text/plain": [
       "week_day         Weekday  Weekend\n",
       "department                       \n",
       "alcohol           109051    35576\n",
       "babies            260774   149618\n",
       "bakery            711743   409085\n",
       "beverages        1696857   875044\n",
       "breakfast         428751   242099\n",
       "bulk               21393    12058\n",
       "canned goods      625838   386236\n",
       "dairy eggs       3289485  1887697\n",
       "deli              627795   376039\n",
       "dry goods pasta   509426   312710\n",
       "frozen           1363816   757915\n",
       "houshold          465639   234218\n",
       "international     158926    97065\n",
       "meat seafood      417530   257251\n",
       "missing            41803    22965\n",
       "other              22985    11426\n",
       "pantry           1159334   623371\n",
       "personal care     279607   144699\n",
       "pets               62952    30108\n",
       "produce          5601683  3477590\n",
       "snacks           1788880   977526"
      ]
     },
     "execution_count": 180,
     "metadata": {},
     "output_type": "execute_result"
    }
   ],
   "source": [
    "crosstab_dept_day"
   ]
  },
  {
   "cell_type": "code",
   "execution_count": 181,
   "id": "9a86f576",
   "metadata": {},
   "outputs": [
    {
     "data": {
      "image/png": "[encoded data removed]",
      "text/plain": [
       "<Figure size 640x480 with 1 Axes>"
      ]
     },
     "metadata": {},
     "output_type": "display_data"
    }
   ],
   "source": [
    "bar_dept_day = crosstab_dept_day.plot.barh()"
   ]
  },
  {
   "cell_type": "code",
   "execution_count": 182,
   "id": "85e35532",
   "metadata": {},
   "outputs": [],
   "source": [
    "# Saving the chart as an image file:\n",
    "bar_dept_day.figure.savefig(os.path.join(path, '04 Analysis','Visualizations', 'bar_dept_day.png'))"
   ]
  },
  {
   "cell_type": "markdown",
   "id": "e25c6a7e",
   "metadata": {},
   "source": [
    "# 09. Exporting the dataframe"
   ]
  },
  {
   "cell_type": "code",
   "execution_count": 183,
   "id": "cbf11e3f",
   "metadata": {},
   "outputs": [
    {
     "data": {
      "text/html": [
       "<div>\n",
       "<style scoped>\n",
       "    .dataframe tbody tr th:only-of-type {\n",
       "        vertical-align: middle;\n",
       "    }\n",
       "\n",
       "    .dataframe tbody tr th {\n",
       "        vertical-align: top;\n",
       "    }\n",
       "\n",
       "    .dataframe thead th {\n",
       "        text-align: right;\n",
       "    }\n",
       "</style>\n",
       "<table border=\"1\" class=\"dataframe\">\n",
       "  <thead>\n",
       "    <tr style=\"text-align: right;\">\n",
       "      <th></th>\n",
       "      <th>order_id</th>\n",
       "      <th>user_id</th>\n",
       "      <th>order_number</th>\n",
       "      <th>orders_day_of_week</th>\n",
       "      <th>order_hour_of_day</th>\n",
       "      <th>days_since_previous_order</th>\n",
       "      <th>product_id</th>\n",
       "      <th>add_to_cart_order</th>\n",
       "      <th>reordered</th>\n",
       "      <th>product_name</th>\n",
       "      <th>...</th>\n",
       "      <th>income</th>\n",
       "      <th>_merge</th>\n",
       "      <th>region</th>\n",
       "      <th>activity_flag</th>\n",
       "      <th>age_group</th>\n",
       "      <th>income_group</th>\n",
       "      <th>order_time</th>\n",
       "      <th>week_day</th>\n",
       "      <th>total_spend</th>\n",
       "      <th>department</th>\n",
       "    </tr>\n",
       "  </thead>\n",
       "  <tbody>\n",
       "    <tr>\n",
       "      <th>0</th>\n",
       "      <td>2539329</td>\n",
       "      <td>1</td>\n",
       "      <td>1</td>\n",
       "      <td>2</td>\n",
       "      <td>8</td>\n",
       "      <td>NaN</td>\n",
       "      <td>196</td>\n",
       "      <td>1</td>\n",
       "      <td>0</td>\n",
       "      <td>Soda</td>\n",
       "      <td>...</td>\n",
       "      <td>40423</td>\n",
       "      <td>both</td>\n",
       "      <td>South</td>\n",
       "      <td>High activity customer</td>\n",
       "      <td>Millennials (27-42)</td>\n",
       "      <td>Low income</td>\n",
       "      <td>Morning</td>\n",
       "      <td>Weekday</td>\n",
       "      <td>375.7</td>\n",
       "      <td>beverages</td>\n",
       "    </tr>\n",
       "    <tr>\n",
       "      <th>1</th>\n",
       "      <td>2398795</td>\n",
       "      <td>1</td>\n",
       "      <td>2</td>\n",
       "      <td>3</td>\n",
       "      <td>7</td>\n",
       "      <td>15.0</td>\n",
       "      <td>196</td>\n",
       "      <td>1</td>\n",
       "      <td>1</td>\n",
       "      <td>Soda</td>\n",
       "      <td>...</td>\n",
       "      <td>40423</td>\n",
       "      <td>both</td>\n",
       "      <td>South</td>\n",
       "      <td>High activity customer</td>\n",
       "      <td>Millennials (27-42)</td>\n",
       "      <td>Low income</td>\n",
       "      <td>Morning</td>\n",
       "      <td>Weekday</td>\n",
       "      <td>375.7</td>\n",
       "      <td>beverages</td>\n",
       "    </tr>\n",
       "    <tr>\n",
       "      <th>2</th>\n",
       "      <td>473747</td>\n",
       "      <td>1</td>\n",
       "      <td>3</td>\n",
       "      <td>3</td>\n",
       "      <td>12</td>\n",
       "      <td>21.0</td>\n",
       "      <td>196</td>\n",
       "      <td>1</td>\n",
       "      <td>1</td>\n",
       "      <td>Soda</td>\n",
       "      <td>...</td>\n",
       "      <td>40423</td>\n",
       "      <td>both</td>\n",
       "      <td>South</td>\n",
       "      <td>High activity customer</td>\n",
       "      <td>Millennials (27-42)</td>\n",
       "      <td>Low income</td>\n",
       "      <td>Afternoon</td>\n",
       "      <td>Weekday</td>\n",
       "      <td>375.7</td>\n",
       "      <td>beverages</td>\n",
       "    </tr>\n",
       "    <tr>\n",
       "      <th>3</th>\n",
       "      <td>2254736</td>\n",
       "      <td>1</td>\n",
       "      <td>4</td>\n",
       "      <td>4</td>\n",
       "      <td>7</td>\n",
       "      <td>29.0</td>\n",
       "      <td>196</td>\n",
       "      <td>1</td>\n",
       "      <td>1</td>\n",
       "      <td>Soda</td>\n",
       "      <td>...</td>\n",
       "      <td>40423</td>\n",
       "      <td>both</td>\n",
       "      <td>South</td>\n",
       "      <td>High activity customer</td>\n",
       "      <td>Millennials (27-42)</td>\n",
       "      <td>Low income</td>\n",
       "      <td>Morning</td>\n",
       "      <td>Weekday</td>\n",
       "      <td>375.7</td>\n",
       "      <td>beverages</td>\n",
       "    </tr>\n",
       "    <tr>\n",
       "      <th>4</th>\n",
       "      <td>431534</td>\n",
       "      <td>1</td>\n",
       "      <td>5</td>\n",
       "      <td>4</td>\n",
       "      <td>15</td>\n",
       "      <td>28.0</td>\n",
       "      <td>196</td>\n",
       "      <td>1</td>\n",
       "      <td>1</td>\n",
       "      <td>Soda</td>\n",
       "      <td>...</td>\n",
       "      <td>40423</td>\n",
       "      <td>both</td>\n",
       "      <td>South</td>\n",
       "      <td>High activity customer</td>\n",
       "      <td>Millennials (27-42)</td>\n",
       "      <td>Low income</td>\n",
       "      <td>Afternoon</td>\n",
       "      <td>Weekday</td>\n",
       "      <td>375.7</td>\n",
       "      <td>beverages</td>\n",
       "    </tr>\n",
       "  </tbody>\n",
       "</table>\n",
       "<p>5 rows × 39 columns</p>\n",
       "</div>"
      ],
      "text/plain": [
       "  order_id user_id  order_number  orders_day_of_week  order_hour_of_day  \\\n",
       "0  2539329       1             1                   2                  8   \n",
       "1  2398795       1             2                   3                  7   \n",
       "2   473747       1             3                   3                 12   \n",
       "3  2254736       1             4                   4                  7   \n",
       "4   431534       1             5                   4                 15   \n",
       "\n",
       "   days_since_previous_order  product_id  add_to_cart_order  reordered  \\\n",
       "0                        NaN         196                  1          0   \n",
       "1                       15.0         196                  1          1   \n",
       "2                       21.0         196                  1          1   \n",
       "3                       29.0         196                  1          1   \n",
       "4                       28.0         196                  1          1   \n",
       "\n",
       "  product_name  ...  income  _merge  region           activity_flag  \\\n",
       "0         Soda  ...   40423    both   South  High activity customer   \n",
       "1         Soda  ...   40423    both   South  High activity customer   \n",
       "2         Soda  ...   40423    both   South  High activity customer   \n",
       "3         Soda  ...   40423    both   South  High activity customer   \n",
       "4         Soda  ...   40423    both   South  High activity customer   \n",
       "\n",
       "             age_group income_group order_time  week_day total_spend  \\\n",
       "0  Millennials (27-42)   Low income    Morning   Weekday       375.7   \n",
       "1  Millennials (27-42)   Low income    Morning   Weekday       375.7   \n",
       "2  Millennials (27-42)   Low income  Afternoon   Weekday       375.7   \n",
       "3  Millennials (27-42)   Low income    Morning   Weekday       375.7   \n",
       "4  Millennials (27-42)   Low income  Afternoon   Weekday       375.7   \n",
       "\n",
       "   department  \n",
       "0   beverages  \n",
       "1   beverages  \n",
       "2   beverages  \n",
       "3   beverages  \n",
       "4   beverages  \n",
       "\n",
       "[5 rows x 39 columns]"
      ]
     },
     "execution_count": 183,
     "metadata": {},
     "output_type": "execute_result"
    }
   ],
   "source": [
    "# Checking first 5 rows of the df:\n",
    "instacart_high.head()"
   ]
  },
  {
   "cell_type": "code",
   "execution_count": 184,
   "id": "f5603861",
   "metadata": {},
   "outputs": [
    {
     "data": {
      "text/plain": [
       "(30964564, 39)"
      ]
     },
     "execution_count": 184,
     "metadata": {},
     "output_type": "execute_result"
    }
   ],
   "source": [
    "# Checking the shape of the df:\n",
    "instacart_high.shape"
   ]
  },
  {
   "cell_type": "code",
   "execution_count": 185,
   "id": "680f1a70",
   "metadata": {},
   "outputs": [],
   "source": [
    "# Exporting merged dataframe to pickle:\n",
    "instacart_high.to_pickle(os.path.join(path, '02 Data', 'Prepared Data', 'instacart_for_reporting.pkl'))"
   ]
  },
  {
   "cell_type": "code",
   "execution_count": null,
   "id": "812f084d",
   "metadata": {},
   "outputs": [],
   "source": []
  }
 ],
 "metadata": {
  "kernelspec": {
   "display_name": "Python 3 (ipykernel)",
   "language": "python",
   "name": "python3"
  },
  "language_info": {
   "codemirror_mode": {
    "name": "ipython",
    "version": 3
   },
   "file_extension": ".py",
   "mimetype": "text/x-python",
   "name": "python",
   "nbconvert_exporter": "python",
   "pygments_lexer": "ipython3",
   "version": "3.10.9"
  }
 },
 "nbformat": 4,
 "nbformat_minor": 5
}
