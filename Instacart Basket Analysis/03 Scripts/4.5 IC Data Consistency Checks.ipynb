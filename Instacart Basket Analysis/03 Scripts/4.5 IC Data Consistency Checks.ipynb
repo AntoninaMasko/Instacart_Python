{
 "cells": [
  {
   "cell_type": "markdown",
   "id": "57f437e3",
   "metadata": {},
   "source": [
    "# Table of content"
   ]
  },
  {
   "cell_type": "markdown",
   "id": "e6374353",
   "metadata": {},
   "source": [
    "01. Importing libraries"
   ]
  },
  {
   "cell_type": "markdown",
   "id": "2c2e129e",
   "metadata": {},
   "source": [
    "2. Importing data\n",
    "\n",
    "        Importing products dataset\n",
    "        Importing orders dataset"
   ]
  },
  {
   "cell_type": "markdown",
   "id": "898afa30",
   "metadata": {},
   "source": [
    "3. Mixed-type data"
   ]
  },
  {
   "cell_type": "markdown",
   "id": "f0bc2353",
   "metadata": {},
   "source": [
    "4. Missing values\n",
    "\n",
    "        Finding missing values\n",
    "        Addressing missing values"
   ]
  },
  {
   "cell_type": "markdown",
   "id": "1a5101e2",
   "metadata": {},
   "source": [
    "5. Duplicates\n",
    "\n",
    "        Finding duplicates\n",
    "        Addressing duplicates"
   ]
  },
  {
   "cell_type": "markdown",
   "id": "df3db81e",
   "metadata": {},
   "source": [
    "6. Task"
   ]
  },
  {
   "cell_type": "markdown",
   "id": "1ad2e6fc",
   "metadata": {},
   "source": [
    "# 01. Importing libraries"
   ]
  },
  {
   "cell_type": "code",
   "execution_count": 1,
   "id": "81f8582f",
   "metadata": {},
   "outputs": [],
   "source": [
    "# Importing libraries\n",
    "import pandas as pd\n",
    "import numpy as np\n",
    "import os"
   ]
  },
  {
   "cell_type": "markdown",
   "id": "404a9c61",
   "metadata": {},
   "source": [
    "# 02. Importing data"
   ]
  },
  {
   "cell_type": "code",
   "execution_count": 2,
   "id": "2a6fa301",
   "metadata": {},
   "outputs": [],
   "source": [
    "# Creating shortcut path\n",
    "path = path = r'C:\\Users\\henri\\Documents\\Tonia\\Learning\\CarrrerFoundry\\Data Immersion\\Achievement 4\\Instacart Basket Analysis'"
   ]
  },
  {
   "cell_type": "code",
   "execution_count": 3,
   "id": "37ec7557",
   "metadata": {},
   "outputs": [
    {
     "data": {
      "text/plain": [
       "'C:\\\\Users\\\\henri\\\\Documents\\\\Tonia\\\\Learning\\\\CarrrerFoundry\\\\Data Immersion\\\\Achievement 4\\\\Instacart Basket Analysis'"
      ]
     },
     "execution_count": 3,
     "metadata": {},
     "output_type": "execute_result"
    }
   ],
   "source": [
    "path"
   ]
  },
  {
   "cell_type": "markdown",
   "id": "3b2e987f",
   "metadata": {},
   "source": [
    "## Importing products dataset"
   ]
  },
  {
   "cell_type": "code",
   "execution_count": 4,
   "id": "abb5129c",
   "metadata": {},
   "outputs": [],
   "source": [
    "# Importing products.csv\n",
    "df_prods = pd.read_csv(os.path.join(path, '02 Data', 'Original Data', 'products.csv'), index_col = False)"
   ]
  },
  {
   "cell_type": "code",
   "execution_count": 5,
   "id": "0874ff3a",
   "metadata": {},
   "outputs": [
    {
     "data": {
      "text/html": [
       "<div>\n",
       "<style scoped>\n",
       "    .dataframe tbody tr th:only-of-type {\n",
       "        vertical-align: middle;\n",
       "    }\n",
       "\n",
       "    .dataframe tbody tr th {\n",
       "        vertical-align: top;\n",
       "    }\n",
       "\n",
       "    .dataframe thead th {\n",
       "        text-align: right;\n",
       "    }\n",
       "</style>\n",
       "<table border=\"1\" class=\"dataframe\">\n",
       "  <thead>\n",
       "    <tr style=\"text-align: right;\">\n",
       "      <th></th>\n",
       "      <th>product_id</th>\n",
       "      <th>product_name</th>\n",
       "      <th>aisle_id</th>\n",
       "      <th>department_id</th>\n",
       "      <th>prices</th>\n",
       "    </tr>\n",
       "  </thead>\n",
       "  <tbody>\n",
       "    <tr>\n",
       "      <th>0</th>\n",
       "      <td>1</td>\n",
       "      <td>Chocolate Sandwich Cookies</td>\n",
       "      <td>61</td>\n",
       "      <td>19</td>\n",
       "      <td>5.8</td>\n",
       "    </tr>\n",
       "    <tr>\n",
       "      <th>1</th>\n",
       "      <td>2</td>\n",
       "      <td>All-Seasons Salt</td>\n",
       "      <td>104</td>\n",
       "      <td>13</td>\n",
       "      <td>9.3</td>\n",
       "    </tr>\n",
       "    <tr>\n",
       "      <th>2</th>\n",
       "      <td>3</td>\n",
       "      <td>Robust Golden Unsweetened Oolong Tea</td>\n",
       "      <td>94</td>\n",
       "      <td>7</td>\n",
       "      <td>4.5</td>\n",
       "    </tr>\n",
       "    <tr>\n",
       "      <th>3</th>\n",
       "      <td>4</td>\n",
       "      <td>Smart Ones Classic Favorites Mini Rigatoni Wit...</td>\n",
       "      <td>38</td>\n",
       "      <td>1</td>\n",
       "      <td>10.5</td>\n",
       "    </tr>\n",
       "    <tr>\n",
       "      <th>4</th>\n",
       "      <td>5</td>\n",
       "      <td>Green Chile Anytime Sauce</td>\n",
       "      <td>5</td>\n",
       "      <td>13</td>\n",
       "      <td>4.3</td>\n",
       "    </tr>\n",
       "  </tbody>\n",
       "</table>\n",
       "</div>"
      ],
      "text/plain": [
       "   product_id                                       product_name  aisle_id  \\\n",
       "0           1                         Chocolate Sandwich Cookies        61   \n",
       "1           2                                   All-Seasons Salt       104   \n",
       "2           3               Robust Golden Unsweetened Oolong Tea        94   \n",
       "3           4  Smart Ones Classic Favorites Mini Rigatoni Wit...        38   \n",
       "4           5                          Green Chile Anytime Sauce         5   \n",
       "\n",
       "   department_id  prices  \n",
       "0             19     5.8  \n",
       "1             13     9.3  \n",
       "2              7     4.5  \n",
       "3              1    10.5  \n",
       "4             13     4.3  "
      ]
     },
     "execution_count": 5,
     "metadata": {},
     "output_type": "execute_result"
    }
   ],
   "source": [
    "df_prods.head()"
   ]
  },
  {
   "cell_type": "markdown",
   "id": "d280afa4",
   "metadata": {},
   "source": [
    "## Importing orders dataset"
   ]
  },
  {
   "cell_type": "code",
   "execution_count": 6,
   "id": "ba127aac",
   "metadata": {},
   "outputs": [],
   "source": [
    "# Importing orders_wrangled.csv\n",
    "df_ords = pd.read_csv(os.path.join(path, '02 Data', 'Prepared Data', 'orders_wrangled.csv'), index_col = False)"
   ]
  },
  {
   "cell_type": "code",
   "execution_count": 7,
   "id": "df7c127f",
   "metadata": {},
   "outputs": [
    {
     "data": {
      "text/html": [
       "<div>\n",
       "<style scoped>\n",
       "    .dataframe tbody tr th:only-of-type {\n",
       "        vertical-align: middle;\n",
       "    }\n",
       "\n",
       "    .dataframe tbody tr th {\n",
       "        vertical-align: top;\n",
       "    }\n",
       "\n",
       "    .dataframe thead th {\n",
       "        text-align: right;\n",
       "    }\n",
       "</style>\n",
       "<table border=\"1\" class=\"dataframe\">\n",
       "  <thead>\n",
       "    <tr style=\"text-align: right;\">\n",
       "      <th></th>\n",
       "      <th>Unnamed: 0</th>\n",
       "      <th>order_id</th>\n",
       "      <th>user_id</th>\n",
       "      <th>order_number</th>\n",
       "      <th>orders_day_of_week</th>\n",
       "      <th>order_hour_of_day</th>\n",
       "      <th>days_since_previous_order</th>\n",
       "    </tr>\n",
       "  </thead>\n",
       "  <tbody>\n",
       "    <tr>\n",
       "      <th>0</th>\n",
       "      <td>0</td>\n",
       "      <td>2539329</td>\n",
       "      <td>1</td>\n",
       "      <td>1</td>\n",
       "      <td>2</td>\n",
       "      <td>8</td>\n",
       "      <td>NaN</td>\n",
       "    </tr>\n",
       "    <tr>\n",
       "      <th>1</th>\n",
       "      <td>1</td>\n",
       "      <td>2398795</td>\n",
       "      <td>1</td>\n",
       "      <td>2</td>\n",
       "      <td>3</td>\n",
       "      <td>7</td>\n",
       "      <td>15.0</td>\n",
       "    </tr>\n",
       "    <tr>\n",
       "      <th>2</th>\n",
       "      <td>2</td>\n",
       "      <td>473747</td>\n",
       "      <td>1</td>\n",
       "      <td>3</td>\n",
       "      <td>3</td>\n",
       "      <td>12</td>\n",
       "      <td>21.0</td>\n",
       "    </tr>\n",
       "    <tr>\n",
       "      <th>3</th>\n",
       "      <td>3</td>\n",
       "      <td>2254736</td>\n",
       "      <td>1</td>\n",
       "      <td>4</td>\n",
       "      <td>4</td>\n",
       "      <td>7</td>\n",
       "      <td>29.0</td>\n",
       "    </tr>\n",
       "    <tr>\n",
       "      <th>4</th>\n",
       "      <td>4</td>\n",
       "      <td>431534</td>\n",
       "      <td>1</td>\n",
       "      <td>5</td>\n",
       "      <td>4</td>\n",
       "      <td>15</td>\n",
       "      <td>28.0</td>\n",
       "    </tr>\n",
       "  </tbody>\n",
       "</table>\n",
       "</div>"
      ],
      "text/plain": [
       "   Unnamed: 0  order_id  user_id  order_number  orders_day_of_week  \\\n",
       "0           0   2539329        1             1                   2   \n",
       "1           1   2398795        1             2                   3   \n",
       "2           2    473747        1             3                   3   \n",
       "3           3   2254736        1             4                   4   \n",
       "4           4    431534        1             5                   4   \n",
       "\n",
       "   order_hour_of_day  days_since_previous_order  \n",
       "0                  8                        NaN  \n",
       "1                  7                       15.0  \n",
       "2                 12                       21.0  \n",
       "3                  7                       29.0  \n",
       "4                 15                       28.0  "
      ]
     },
     "execution_count": 7,
     "metadata": {},
     "output_type": "execute_result"
    }
   ],
   "source": [
    "df_ords.head()"
   ]
  },
  {
   "cell_type": "code",
   "execution_count": 8,
   "id": "66064fd9",
   "metadata": {},
   "outputs": [
    {
     "data": {
      "text/plain": [
       "Unnamed: 0                     int64\n",
       "order_id                       int64\n",
       "user_id                        int64\n",
       "order_number                   int64\n",
       "orders_day_of_week             int64\n",
       "order_hour_of_day              int64\n",
       "days_since_previous_order    float64\n",
       "dtype: object"
      ]
     },
     "execution_count": 8,
     "metadata": {},
     "output_type": "execute_result"
    }
   ],
   "source": [
    "df_ords.dtypes"
   ]
  },
  {
   "cell_type": "code",
   "execution_count": 9,
   "id": "914fc444",
   "metadata": {},
   "outputs": [],
   "source": [
    "# Dropping column \"Unnamed\":\n",
    "df_ords = df_ords.drop(columns = ['Unnamed: 0'])"
   ]
  },
  {
   "cell_type": "code",
   "execution_count": 10,
   "id": "261fc0bd",
   "metadata": {},
   "outputs": [
    {
     "data": {
      "text/html": [
       "<div>\n",
       "<style scoped>\n",
       "    .dataframe tbody tr th:only-of-type {\n",
       "        vertical-align: middle;\n",
       "    }\n",
       "\n",
       "    .dataframe tbody tr th {\n",
       "        vertical-align: top;\n",
       "    }\n",
       "\n",
       "    .dataframe thead th {\n",
       "        text-align: right;\n",
       "    }\n",
       "</style>\n",
       "<table border=\"1\" class=\"dataframe\">\n",
       "  <thead>\n",
       "    <tr style=\"text-align: right;\">\n",
       "      <th></th>\n",
       "      <th>order_id</th>\n",
       "      <th>user_id</th>\n",
       "      <th>order_number</th>\n",
       "      <th>orders_day_of_week</th>\n",
       "      <th>order_hour_of_day</th>\n",
       "      <th>days_since_previous_order</th>\n",
       "    </tr>\n",
       "  </thead>\n",
       "  <tbody>\n",
       "    <tr>\n",
       "      <th>0</th>\n",
       "      <td>2539329</td>\n",
       "      <td>1</td>\n",
       "      <td>1</td>\n",
       "      <td>2</td>\n",
       "      <td>8</td>\n",
       "      <td>NaN</td>\n",
       "    </tr>\n",
       "    <tr>\n",
       "      <th>1</th>\n",
       "      <td>2398795</td>\n",
       "      <td>1</td>\n",
       "      <td>2</td>\n",
       "      <td>3</td>\n",
       "      <td>7</td>\n",
       "      <td>15.0</td>\n",
       "    </tr>\n",
       "    <tr>\n",
       "      <th>2</th>\n",
       "      <td>473747</td>\n",
       "      <td>1</td>\n",
       "      <td>3</td>\n",
       "      <td>3</td>\n",
       "      <td>12</td>\n",
       "      <td>21.0</td>\n",
       "    </tr>\n",
       "    <tr>\n",
       "      <th>3</th>\n",
       "      <td>2254736</td>\n",
       "      <td>1</td>\n",
       "      <td>4</td>\n",
       "      <td>4</td>\n",
       "      <td>7</td>\n",
       "      <td>29.0</td>\n",
       "    </tr>\n",
       "    <tr>\n",
       "      <th>4</th>\n",
       "      <td>431534</td>\n",
       "      <td>1</td>\n",
       "      <td>5</td>\n",
       "      <td>4</td>\n",
       "      <td>15</td>\n",
       "      <td>28.0</td>\n",
       "    </tr>\n",
       "  </tbody>\n",
       "</table>\n",
       "</div>"
      ],
      "text/plain": [
       "   order_id  user_id  order_number  orders_day_of_week  order_hour_of_day  \\\n",
       "0   2539329        1             1                   2                  8   \n",
       "1   2398795        1             2                   3                  7   \n",
       "2    473747        1             3                   3                 12   \n",
       "3   2254736        1             4                   4                  7   \n",
       "4    431534        1             5                   4                 15   \n",
       "\n",
       "   days_since_previous_order  \n",
       "0                        NaN  \n",
       "1                       15.0  \n",
       "2                       21.0  \n",
       "3                       29.0  \n",
       "4                       28.0  "
      ]
     },
     "execution_count": 10,
     "metadata": {},
     "output_type": "execute_result"
    }
   ],
   "source": [
    "df_ords.head()"
   ]
  },
  {
   "cell_type": "code",
   "execution_count": 11,
   "id": "aca06b02",
   "metadata": {},
   "outputs": [],
   "source": [
    "# Changing \"order_id\" and \"user_id\" data type in orders dataframe\n",
    "df_ords['order_id'] = df_ords['order_id'].astype('str')\n",
    "df_ords['user_id'] = df_ords['user_id'].astype('str')"
   ]
  },
  {
   "cell_type": "code",
   "execution_count": 12,
   "id": "8c34b8f9",
   "metadata": {},
   "outputs": [
    {
     "data": {
      "text/plain": [
       "order_id                      object\n",
       "user_id                       object\n",
       "order_number                   int64\n",
       "orders_day_of_week             int64\n",
       "order_hour_of_day              int64\n",
       "days_since_previous_order    float64\n",
       "dtype: object"
      ]
     },
     "execution_count": 12,
     "metadata": {},
     "output_type": "execute_result"
    }
   ],
   "source": [
    "df_ords.dtypes"
   ]
  },
  {
   "cell_type": "code",
   "execution_count": 13,
   "id": "99f01547",
   "metadata": {},
   "outputs": [],
   "source": [
    "# Exporting orders df as orders_wrangled.csv\n",
    "df_ords.to_csv(os.path.join(path, '02 Data','Prepared Data', 'orders_wrangled_new.csv'))"
   ]
  },
  {
   "cell_type": "markdown",
   "id": "6b9c34bf",
   "metadata": {},
   "source": [
    "# 03. Mixed-Type Data"
   ]
  },
  {
   "cell_type": "code",
   "execution_count": 14,
   "id": "cc44fda2",
   "metadata": {},
   "outputs": [],
   "source": [
    "# Create a dataframe\n",
    "df_test = pd.DataFrame()"
   ]
  },
  {
   "cell_type": "code",
   "execution_count": 15,
   "id": "ccd9e4f8",
   "metadata": {},
   "outputs": [],
   "source": [
    "# Create a mixed type column\n",
    "df_test['mix'] = ['a', 'b', 1, True]"
   ]
  },
  {
   "cell_type": "code",
   "execution_count": 16,
   "id": "2e852563",
   "metadata": {},
   "outputs": [
    {
     "data": {
      "text/html": [
       "<div>\n",
       "<style scoped>\n",
       "    .dataframe tbody tr th:only-of-type {\n",
       "        vertical-align: middle;\n",
       "    }\n",
       "\n",
       "    .dataframe tbody tr th {\n",
       "        vertical-align: top;\n",
       "    }\n",
       "\n",
       "    .dataframe thead th {\n",
       "        text-align: right;\n",
       "    }\n",
       "</style>\n",
       "<table border=\"1\" class=\"dataframe\">\n",
       "  <thead>\n",
       "    <tr style=\"text-align: right;\">\n",
       "      <th></th>\n",
       "      <th>mix</th>\n",
       "    </tr>\n",
       "  </thead>\n",
       "  <tbody>\n",
       "    <tr>\n",
       "      <th>0</th>\n",
       "      <td>a</td>\n",
       "    </tr>\n",
       "    <tr>\n",
       "      <th>1</th>\n",
       "      <td>b</td>\n",
       "    </tr>\n",
       "    <tr>\n",
       "      <th>2</th>\n",
       "      <td>1</td>\n",
       "    </tr>\n",
       "    <tr>\n",
       "      <th>3</th>\n",
       "      <td>True</td>\n",
       "    </tr>\n",
       "  </tbody>\n",
       "</table>\n",
       "</div>"
      ],
      "text/plain": [
       "    mix\n",
       "0     a\n",
       "1     b\n",
       "2     1\n",
       "3  True"
      ]
     },
     "execution_count": 16,
     "metadata": {},
     "output_type": "execute_result"
    }
   ],
   "source": [
    "df_test.head()"
   ]
  },
  {
   "cell_type": "code",
   "execution_count": 17,
   "id": "fd39c88a",
   "metadata": {},
   "outputs": [
    {
     "name": "stdout",
     "output_type": "stream",
     "text": [
      "mix\n"
     ]
    }
   ],
   "source": [
    "# Check for mixed type data\n",
    "for col in df_test.columns.tolist():\n",
    "  weird = (df_test[[col]].applymap(type) != df_test[[col]].iloc[0].apply(type)).any(axis = 1)\n",
    "  if len (df_test[weird]) > 0:\n",
    "    print (col)"
   ]
  },
  {
   "cell_type": "code",
   "execution_count": 18,
   "id": "fe7030d1",
   "metadata": {},
   "outputs": [],
   "source": [
    "# Convert mix column's data type to string\n",
    "df_test['mix'] = df_test['mix'].astype('str')"
   ]
  },
  {
   "cell_type": "code",
   "execution_count": 19,
   "id": "2485e75a",
   "metadata": {},
   "outputs": [
    {
     "data": {
      "text/plain": [
       "mix    object\n",
       "dtype: object"
      ]
     },
     "execution_count": 19,
     "metadata": {},
     "output_type": "execute_result"
    }
   ],
   "source": [
    "# Checking the data type of df_test\n",
    "df_test.dtypes"
   ]
  },
  {
   "cell_type": "markdown",
   "id": "c083ce6e",
   "metadata": {},
   "source": [
    "# 04. Missing Values"
   ]
  },
  {
   "cell_type": "markdown",
   "id": "c12d8c76",
   "metadata": {},
   "source": [
    "## Finding Missing Values"
   ]
  },
  {
   "cell_type": "code",
   "execution_count": 20,
   "id": "2fba6d93",
   "metadata": {},
   "outputs": [
    {
     "data": {
      "text/plain": [
       "product_id        0\n",
       "product_name     16\n",
       "aisle_id          0\n",
       "department_id     0\n",
       "prices            0\n",
       "dtype: int64"
      ]
     },
     "execution_count": 20,
     "metadata": {},
     "output_type": "execute_result"
    }
   ],
   "source": [
    "# Checking how many null values there are in the products df\n",
    "df_prods.isnull().sum()"
   ]
  },
  {
   "cell_type": "code",
   "execution_count": 21,
   "id": "849dc1ca",
   "metadata": {},
   "outputs": [],
   "source": [
    "# Creating a subset df of null values from \"product_name\" column from products df\n",
    "df_nan = df_prods[df_prods['product_name'].isnull() == True]"
   ]
  },
  {
   "cell_type": "code",
   "execution_count": 22,
   "id": "54b4672d",
   "metadata": {},
   "outputs": [
    {
     "data": {
      "text/html": [
       "<div>\n",
       "<style scoped>\n",
       "    .dataframe tbody tr th:only-of-type {\n",
       "        vertical-align: middle;\n",
       "    }\n",
       "\n",
       "    .dataframe tbody tr th {\n",
       "        vertical-align: top;\n",
       "    }\n",
       "\n",
       "    .dataframe thead th {\n",
       "        text-align: right;\n",
       "    }\n",
       "</style>\n",
       "<table border=\"1\" class=\"dataframe\">\n",
       "  <thead>\n",
       "    <tr style=\"text-align: right;\">\n",
       "      <th></th>\n",
       "      <th>product_id</th>\n",
       "      <th>product_name</th>\n",
       "      <th>aisle_id</th>\n",
       "      <th>department_id</th>\n",
       "      <th>prices</th>\n",
       "    </tr>\n",
       "  </thead>\n",
       "  <tbody>\n",
       "    <tr>\n",
       "      <th>33</th>\n",
       "      <td>34</td>\n",
       "      <td>NaN</td>\n",
       "      <td>121</td>\n",
       "      <td>14</td>\n",
       "      <td>12.2</td>\n",
       "    </tr>\n",
       "    <tr>\n",
       "      <th>68</th>\n",
       "      <td>69</td>\n",
       "      <td>NaN</td>\n",
       "      <td>26</td>\n",
       "      <td>7</td>\n",
       "      <td>11.8</td>\n",
       "    </tr>\n",
       "    <tr>\n",
       "      <th>115</th>\n",
       "      <td>116</td>\n",
       "      <td>NaN</td>\n",
       "      <td>93</td>\n",
       "      <td>3</td>\n",
       "      <td>10.8</td>\n",
       "    </tr>\n",
       "    <tr>\n",
       "      <th>261</th>\n",
       "      <td>262</td>\n",
       "      <td>NaN</td>\n",
       "      <td>110</td>\n",
       "      <td>13</td>\n",
       "      <td>12.1</td>\n",
       "    </tr>\n",
       "    <tr>\n",
       "      <th>525</th>\n",
       "      <td>525</td>\n",
       "      <td>NaN</td>\n",
       "      <td>109</td>\n",
       "      <td>11</td>\n",
       "      <td>1.2</td>\n",
       "    </tr>\n",
       "    <tr>\n",
       "      <th>1511</th>\n",
       "      <td>1511</td>\n",
       "      <td>NaN</td>\n",
       "      <td>84</td>\n",
       "      <td>16</td>\n",
       "      <td>14.3</td>\n",
       "    </tr>\n",
       "    <tr>\n",
       "      <th>1780</th>\n",
       "      <td>1780</td>\n",
       "      <td>NaN</td>\n",
       "      <td>126</td>\n",
       "      <td>11</td>\n",
       "      <td>12.3</td>\n",
       "    </tr>\n",
       "    <tr>\n",
       "      <th>2240</th>\n",
       "      <td>2240</td>\n",
       "      <td>NaN</td>\n",
       "      <td>52</td>\n",
       "      <td>1</td>\n",
       "      <td>14.2</td>\n",
       "    </tr>\n",
       "    <tr>\n",
       "      <th>2586</th>\n",
       "      <td>2586</td>\n",
       "      <td>NaN</td>\n",
       "      <td>104</td>\n",
       "      <td>13</td>\n",
       "      <td>12.4</td>\n",
       "    </tr>\n",
       "    <tr>\n",
       "      <th>3159</th>\n",
       "      <td>3159</td>\n",
       "      <td>NaN</td>\n",
       "      <td>126</td>\n",
       "      <td>11</td>\n",
       "      <td>13.1</td>\n",
       "    </tr>\n",
       "    <tr>\n",
       "      <th>3230</th>\n",
       "      <td>3230</td>\n",
       "      <td>NaN</td>\n",
       "      <td>120</td>\n",
       "      <td>16</td>\n",
       "      <td>14.4</td>\n",
       "    </tr>\n",
       "    <tr>\n",
       "      <th>3736</th>\n",
       "      <td>3736</td>\n",
       "      <td>NaN</td>\n",
       "      <td>41</td>\n",
       "      <td>8</td>\n",
       "      <td>14.8</td>\n",
       "    </tr>\n",
       "    <tr>\n",
       "      <th>4283</th>\n",
       "      <td>4283</td>\n",
       "      <td>NaN</td>\n",
       "      <td>77</td>\n",
       "      <td>7</td>\n",
       "      <td>14.4</td>\n",
       "    </tr>\n",
       "    <tr>\n",
       "      <th>4790</th>\n",
       "      <td>4790</td>\n",
       "      <td>NaN</td>\n",
       "      <td>91</td>\n",
       "      <td>16</td>\n",
       "      <td>14.5</td>\n",
       "    </tr>\n",
       "    <tr>\n",
       "      <th>38187</th>\n",
       "      <td>38183</td>\n",
       "      <td>NaN</td>\n",
       "      <td>39</td>\n",
       "      <td>12</td>\n",
       "      <td>20.9</td>\n",
       "    </tr>\n",
       "    <tr>\n",
       "      <th>40444</th>\n",
       "      <td>40440</td>\n",
       "      <td>NaN</td>\n",
       "      <td>120</td>\n",
       "      <td>16</td>\n",
       "      <td>14.8</td>\n",
       "    </tr>\n",
       "  </tbody>\n",
       "</table>\n",
       "</div>"
      ],
      "text/plain": [
       "       product_id product_name  aisle_id  department_id  prices\n",
       "33             34          NaN       121             14    12.2\n",
       "68             69          NaN        26              7    11.8\n",
       "115           116          NaN        93              3    10.8\n",
       "261           262          NaN       110             13    12.1\n",
       "525           525          NaN       109             11     1.2\n",
       "1511         1511          NaN        84             16    14.3\n",
       "1780         1780          NaN       126             11    12.3\n",
       "2240         2240          NaN        52              1    14.2\n",
       "2586         2586          NaN       104             13    12.4\n",
       "3159         3159          NaN       126             11    13.1\n",
       "3230         3230          NaN       120             16    14.4\n",
       "3736         3736          NaN        41              8    14.8\n",
       "4283         4283          NaN        77              7    14.4\n",
       "4790         4790          NaN        91             16    14.5\n",
       "38187       38183          NaN        39             12    20.9\n",
       "40444       40440          NaN       120             16    14.8"
      ]
     },
     "execution_count": 22,
     "metadata": {},
     "output_type": "execute_result"
    }
   ],
   "source": [
    "df_nan"
   ]
  },
  {
   "cell_type": "markdown",
   "id": "ae12453b",
   "metadata": {},
   "source": [
    "## Addressing Missing Values"
   ]
  },
  {
   "cell_type": "code",
   "execution_count": 23,
   "id": "015a49ac",
   "metadata": {},
   "outputs": [
    {
     "data": {
      "text/plain": [
       "(49693, 5)"
      ]
     },
     "execution_count": 23,
     "metadata": {},
     "output_type": "execute_result"
    }
   ],
   "source": [
    "# Checking number of rows and columns of products df\n",
    "df_prods.shape"
   ]
  },
  {
   "cell_type": "code",
   "execution_count": 24,
   "id": "d9a6923b",
   "metadata": {},
   "outputs": [],
   "source": [
    "# Creating a new products df without missing values\n",
    "df_prods_clean = df_prods[df_prods['product_name'].isnull() == False]"
   ]
  },
  {
   "cell_type": "code",
   "execution_count": 25,
   "id": "1b7e6ac3",
   "metadata": {},
   "outputs": [
    {
     "data": {
      "text/plain": [
       "(49677, 5)"
      ]
     },
     "execution_count": 25,
     "metadata": {},
     "output_type": "execute_result"
    }
   ],
   "source": [
    "# Checking number of rows and columns of the new products df\n",
    "df_prods_clean.shape"
   ]
  },
  {
   "cell_type": "markdown",
   "id": "06684bf7",
   "metadata": {},
   "source": [
    "# 05. Duplicates"
   ]
  },
  {
   "cell_type": "markdown",
   "id": "a7ffc5bb",
   "metadata": {},
   "source": [
    "## Finding Duplicates"
   ]
  },
  {
   "cell_type": "code",
   "execution_count": 26,
   "id": "7bcc4e2c",
   "metadata": {},
   "outputs": [],
   "source": [
    "# Creating a subset of duplicated rows from products df\n",
    "df_dups = df_prods_clean[df_prods_clean.duplicated()]"
   ]
  },
  {
   "cell_type": "code",
   "execution_count": 27,
   "id": "a2ca57a1",
   "metadata": {},
   "outputs": [
    {
     "data": {
      "text/html": [
       "<div>\n",
       "<style scoped>\n",
       "    .dataframe tbody tr th:only-of-type {\n",
       "        vertical-align: middle;\n",
       "    }\n",
       "\n",
       "    .dataframe tbody tr th {\n",
       "        vertical-align: top;\n",
       "    }\n",
       "\n",
       "    .dataframe thead th {\n",
       "        text-align: right;\n",
       "    }\n",
       "</style>\n",
       "<table border=\"1\" class=\"dataframe\">\n",
       "  <thead>\n",
       "    <tr style=\"text-align: right;\">\n",
       "      <th></th>\n",
       "      <th>product_id</th>\n",
       "      <th>product_name</th>\n",
       "      <th>aisle_id</th>\n",
       "      <th>department_id</th>\n",
       "      <th>prices</th>\n",
       "    </tr>\n",
       "  </thead>\n",
       "  <tbody>\n",
       "    <tr>\n",
       "      <th>462</th>\n",
       "      <td>462</td>\n",
       "      <td>Fiber 4g Gummy Dietary Supplement</td>\n",
       "      <td>70</td>\n",
       "      <td>11</td>\n",
       "      <td>4.8</td>\n",
       "    </tr>\n",
       "    <tr>\n",
       "      <th>18459</th>\n",
       "      <td>18458</td>\n",
       "      <td>Ranger IPA</td>\n",
       "      <td>27</td>\n",
       "      <td>5</td>\n",
       "      <td>9.2</td>\n",
       "    </tr>\n",
       "    <tr>\n",
       "      <th>26810</th>\n",
       "      <td>26808</td>\n",
       "      <td>Black House Coffee Roasty Stout Beer</td>\n",
       "      <td>27</td>\n",
       "      <td>5</td>\n",
       "      <td>13.4</td>\n",
       "    </tr>\n",
       "    <tr>\n",
       "      <th>35309</th>\n",
       "      <td>35306</td>\n",
       "      <td>Gluten Free Organic Peanut Butter &amp; Chocolate ...</td>\n",
       "      <td>121</td>\n",
       "      <td>14</td>\n",
       "      <td>6.8</td>\n",
       "    </tr>\n",
       "    <tr>\n",
       "      <th>35495</th>\n",
       "      <td>35491</td>\n",
       "      <td>Adore Forever Body Wash</td>\n",
       "      <td>127</td>\n",
       "      <td>11</td>\n",
       "      <td>9.9</td>\n",
       "    </tr>\n",
       "  </tbody>\n",
       "</table>\n",
       "</div>"
      ],
      "text/plain": [
       "       product_id                                       product_name  \\\n",
       "462           462                  Fiber 4g Gummy Dietary Supplement   \n",
       "18459       18458                                         Ranger IPA   \n",
       "26810       26808               Black House Coffee Roasty Stout Beer   \n",
       "35309       35306  Gluten Free Organic Peanut Butter & Chocolate ...   \n",
       "35495       35491                            Adore Forever Body Wash   \n",
       "\n",
       "       aisle_id  department_id  prices  \n",
       "462          70             11     4.8  \n",
       "18459        27              5     9.2  \n",
       "26810        27              5    13.4  \n",
       "35309       121             14     6.8  \n",
       "35495       127             11     9.9  "
      ]
     },
     "execution_count": 27,
     "metadata": {},
     "output_type": "execute_result"
    }
   ],
   "source": [
    "df_dups"
   ]
  },
  {
   "cell_type": "markdown",
   "id": "603a1c8f",
   "metadata": {},
   "source": [
    "## Addressing Duplicates"
   ]
  },
  {
   "cell_type": "code",
   "execution_count": 28,
   "id": "e28c4ec6",
   "metadata": {},
   "outputs": [
    {
     "data": {
      "text/plain": [
       "(49677, 5)"
      ]
     },
     "execution_count": 28,
     "metadata": {},
     "output_type": "execute_result"
    }
   ],
   "source": [
    "# Checking the number of rows in producs df\n",
    "df_prods_clean.shape"
   ]
  },
  {
   "cell_type": "code",
   "execution_count": 29,
   "id": "ca2b1109",
   "metadata": {},
   "outputs": [],
   "source": [
    "# Creating a new products dataframe without duplicated lines\n",
    "df_prods_clean_no_dups = df_prods_clean.drop_duplicates()"
   ]
  },
  {
   "cell_type": "code",
   "execution_count": 30,
   "id": "835b648d",
   "metadata": {},
   "outputs": [
    {
     "data": {
      "text/plain": [
       "(49672, 5)"
      ]
     },
     "execution_count": 30,
     "metadata": {},
     "output_type": "execute_result"
    }
   ],
   "source": [
    "# Checking the number of rows in the newly created df\n",
    "df_prods_clean_no_dups.shape"
   ]
  },
  {
   "cell_type": "markdown",
   "id": "1e65e51e",
   "metadata": {},
   "source": [
    "# 06. Task"
   ]
  },
  {
   "cell_type": "markdown",
   "id": "00b549ad",
   "metadata": {},
   "source": [
    "## Task 2"
   ]
  },
  {
   "cell_type": "markdown",
   "id": "dec6a081",
   "metadata": {},
   "source": [
    "Run the df.describe() function on your df_ords dataframe. Using your new knowledge about how to interpret the output of this function, share in a markdown cell whether anything about the data looks off or should be investigated further.\n",
    "\n",
    "    Tip: Keep an eye on min and max values!"
   ]
  },
  {
   "cell_type": "code",
   "execution_count": 31,
   "id": "e3a281e9",
   "metadata": {},
   "outputs": [
    {
     "data": {
      "text/html": [
       "<div>\n",
       "<style scoped>\n",
       "    .dataframe tbody tr th:only-of-type {\n",
       "        vertical-align: middle;\n",
       "    }\n",
       "\n",
       "    .dataframe tbody tr th {\n",
       "        vertical-align: top;\n",
       "    }\n",
       "\n",
       "    .dataframe thead th {\n",
       "        text-align: right;\n",
       "    }\n",
       "</style>\n",
       "<table border=\"1\" class=\"dataframe\">\n",
       "  <thead>\n",
       "    <tr style=\"text-align: right;\">\n",
       "      <th></th>\n",
       "      <th>order_number</th>\n",
       "      <th>orders_day_of_week</th>\n",
       "      <th>order_hour_of_day</th>\n",
       "      <th>days_since_previous_order</th>\n",
       "    </tr>\n",
       "  </thead>\n",
       "  <tbody>\n",
       "    <tr>\n",
       "      <th>count</th>\n",
       "      <td>3.421083e+06</td>\n",
       "      <td>3.421083e+06</td>\n",
       "      <td>3.421083e+06</td>\n",
       "      <td>3.214874e+06</td>\n",
       "    </tr>\n",
       "    <tr>\n",
       "      <th>mean</th>\n",
       "      <td>1.715486e+01</td>\n",
       "      <td>2.776219e+00</td>\n",
       "      <td>1.345202e+01</td>\n",
       "      <td>1.111484e+01</td>\n",
       "    </tr>\n",
       "    <tr>\n",
       "      <th>std</th>\n",
       "      <td>1.773316e+01</td>\n",
       "      <td>2.046829e+00</td>\n",
       "      <td>4.226088e+00</td>\n",
       "      <td>9.206737e+00</td>\n",
       "    </tr>\n",
       "    <tr>\n",
       "      <th>min</th>\n",
       "      <td>1.000000e+00</td>\n",
       "      <td>0.000000e+00</td>\n",
       "      <td>0.000000e+00</td>\n",
       "      <td>0.000000e+00</td>\n",
       "    </tr>\n",
       "    <tr>\n",
       "      <th>25%</th>\n",
       "      <td>5.000000e+00</td>\n",
       "      <td>1.000000e+00</td>\n",
       "      <td>1.000000e+01</td>\n",
       "      <td>4.000000e+00</td>\n",
       "    </tr>\n",
       "    <tr>\n",
       "      <th>50%</th>\n",
       "      <td>1.100000e+01</td>\n",
       "      <td>3.000000e+00</td>\n",
       "      <td>1.300000e+01</td>\n",
       "      <td>7.000000e+00</td>\n",
       "    </tr>\n",
       "    <tr>\n",
       "      <th>75%</th>\n",
       "      <td>2.300000e+01</td>\n",
       "      <td>5.000000e+00</td>\n",
       "      <td>1.600000e+01</td>\n",
       "      <td>1.500000e+01</td>\n",
       "    </tr>\n",
       "    <tr>\n",
       "      <th>max</th>\n",
       "      <td>1.000000e+02</td>\n",
       "      <td>6.000000e+00</td>\n",
       "      <td>2.300000e+01</td>\n",
       "      <td>3.000000e+01</td>\n",
       "    </tr>\n",
       "  </tbody>\n",
       "</table>\n",
       "</div>"
      ],
      "text/plain": [
       "       order_number  orders_day_of_week  order_hour_of_day  \\\n",
       "count  3.421083e+06        3.421083e+06       3.421083e+06   \n",
       "mean   1.715486e+01        2.776219e+00       1.345202e+01   \n",
       "std    1.773316e+01        2.046829e+00       4.226088e+00   \n",
       "min    1.000000e+00        0.000000e+00       0.000000e+00   \n",
       "25%    5.000000e+00        1.000000e+00       1.000000e+01   \n",
       "50%    1.100000e+01        3.000000e+00       1.300000e+01   \n",
       "75%    2.300000e+01        5.000000e+00       1.600000e+01   \n",
       "max    1.000000e+02        6.000000e+00       2.300000e+01   \n",
       "\n",
       "       days_since_previous_order  \n",
       "count               3.214874e+06  \n",
       "mean                1.111484e+01  \n",
       "std                 9.206737e+00  \n",
       "min                 0.000000e+00  \n",
       "25%                 4.000000e+00  \n",
       "50%                 7.000000e+00  \n",
       "75%                 1.500000e+01  \n",
       "max                 3.000000e+01  "
      ]
     },
     "execution_count": 31,
     "metadata": {},
     "output_type": "execute_result"
    }
   ],
   "source": [
    "# Descriptive statistivs of the orders df\n",
    "df_ords.describe()"
   ]
  },
  {
   "cell_type": "markdown",
   "id": "60553df9",
   "metadata": {},
   "source": [
    "The statistics look fairly normal. Orders by day of week range from 0 (Sunday) to 6 (Satuday) and orders by hour of day range from 0 to 23, which are both as expected. Only the maximum valuee of the order number looks strange - 100, while the total count of the orders is 3'421'083. However, the order number might be assigned to the user id.  "
   ]
  },
  {
   "cell_type": "markdown",
   "id": "fbb53136",
   "metadata": {},
   "source": [
    "## Task 3"
   ]
  },
  {
   "cell_type": "markdown",
   "id": "87babf03",
   "metadata": {},
   "source": [
    "Check for mixed-type data in your df_ords dataframe."
   ]
  },
  {
   "cell_type": "code",
   "execution_count": 32,
   "id": "9294b3af",
   "metadata": {},
   "outputs": [],
   "source": [
    "# Check for mixed type data\n",
    "for col in df_ords.columns.tolist():\n",
    "  weird = (df_ords[[col]].applymap(type) != df_ords[[col]].iloc[0].apply(type)).any(axis = 1)\n",
    "  if len (df_ords[weird]) > 0:\n",
    "    print (col)"
   ]
  },
  {
   "cell_type": "markdown",
   "id": "49bb2103",
   "metadata": {},
   "source": [
    "The orders dataframe does not have any mixed-type data."
   ]
  },
  {
   "cell_type": "markdown",
   "id": "4d4544d2",
   "metadata": {},
   "source": [
    "## Task 4"
   ]
  },
  {
   "cell_type": "markdown",
   "id": "ff5ac9db",
   "metadata": {},
   "source": [
    "Not applicable, there is no mixed-type data"
   ]
  },
  {
   "cell_type": "markdown",
   "id": "2c31cad2",
   "metadata": {},
   "source": [
    "## Task 5 & 6"
   ]
  },
  {
   "cell_type": "markdown",
   "id": "75795310",
   "metadata": {},
   "source": [
    "5.Run a check for missing values in your df_ords dataframe.\n",
    "\n",
    "    In a markdown cell, report your findings and propose an explanation for any missing values you find.\n",
    "    \n",
    "6.Address the missing values using an appropriate method.\n",
    "\n",
    "    In a markdown cell, explain why you used your method of choice."
   ]
  },
  {
   "cell_type": "code",
   "execution_count": 33,
   "id": "3ba6abda",
   "metadata": {},
   "outputs": [
    {
     "data": {
      "text/plain": [
       "order_id                          0\n",
       "user_id                           0\n",
       "order_number                      0\n",
       "orders_day_of_week                0\n",
       "order_hour_of_day                 0\n",
       "days_since_previous_order    206209\n",
       "dtype: int64"
      ]
     },
     "execution_count": 33,
     "metadata": {},
     "output_type": "execute_result"
    }
   ],
   "source": [
    "# Checking how many null values there are in the orders df\n",
    "df_ords.isnull().sum()"
   ]
  },
  {
   "cell_type": "markdown",
   "id": "ce9fb8bd",
   "metadata": {},
   "source": [
    "The only missing values are for \"days_since_previous_order\" column. Since for the first order there is no previous order, this seems to be ok. Therefore I decided to keep the missing values intact."
   ]
  },
  {
   "cell_type": "markdown",
   "id": "97bbc9c7",
   "metadata": {},
   "source": [
    "However, if the missing values were to be addressed, I would do it in the following way:"
   ]
  },
  {
   "cell_type": "markdown",
   "id": "e7c71bcf",
   "metadata": {},
   "source": [
    "1. Creating a subset df of null values from \"days_since_previous_order\" column from orders df"
   ]
  },
  {
   "cell_type": "markdown",
   "id": "09a6a302",
   "metadata": {},
   "source": [
    "df_ords_nan = df_ords[df_ords['days_since_previous_order'].isnull() == True]"
   ]
  },
  {
   "cell_type": "markdown",
   "id": "b870e79d",
   "metadata": {},
   "source": [
    "2. Checking number of rows and columns of orders df"
   ]
  },
  {
   "cell_type": "markdown",
   "id": "71cd136f",
   "metadata": {},
   "source": [
    "df_ords.shape"
   ]
  },
  {
   "cell_type": "markdown",
   "id": "727a68c3",
   "metadata": {},
   "source": [
    "3. Creating a new orders df without missing values"
   ]
  },
  {
   "cell_type": "markdown",
   "id": "4d4d32b6",
   "metadata": {},
   "source": [
    "df_ords_clean = df_ords[df_prods['days_since_previous_order'].isnull() == False]"
   ]
  },
  {
   "cell_type": "markdown",
   "id": "ab719e27",
   "metadata": {},
   "source": [
    "4. Checking number of rows and columns of the new orders df to confirm that the rows with missing values were removed successfully"
   ]
  },
  {
   "cell_type": "markdown",
   "id": "873ffc2a",
   "metadata": {},
   "source": [
    "df_ords_clean.shape"
   ]
  },
  {
   "cell_type": "markdown",
   "id": "5c4a52e6",
   "metadata": {},
   "source": [
    "This method allows not to make irreversible changes in the original dataframe and create a copy without the missing values. This is a safe method to keep the original dataframe intact in case something goes wrong with the removal of the rows or if the missing values would be removed incorrectly."
   ]
  },
  {
   "cell_type": "markdown",
   "id": "640251da",
   "metadata": {},
   "source": [
    "## Task 7 & 8"
   ]
  },
  {
   "cell_type": "markdown",
   "id": "d883f5b0",
   "metadata": {},
   "source": [
    "7.Run a check for duplicate values in your df_ords data.\n",
    "\n",
    "    In a markdown cell, report your findings and propose an explanation for any duplicate values you find.\n",
    "\n",
    "8.Address the duplicates using an appropriate method.\n",
    "\n",
    "    In a markdown cell, explain why you used your method of choice."
   ]
  },
  {
   "cell_type": "code",
   "execution_count": 34,
   "id": "77029115",
   "metadata": {},
   "outputs": [],
   "source": [
    "# Creating a subset of duplicated rows from products df\n",
    "df_dups_ords = df_ords[df_ords.duplicated()]"
   ]
  },
  {
   "cell_type": "code",
   "execution_count": 35,
   "id": "ff589b6a",
   "metadata": {},
   "outputs": [
    {
     "data": {
      "text/html": [
       "<div>\n",
       "<style scoped>\n",
       "    .dataframe tbody tr th:only-of-type {\n",
       "        vertical-align: middle;\n",
       "    }\n",
       "\n",
       "    .dataframe tbody tr th {\n",
       "        vertical-align: top;\n",
       "    }\n",
       "\n",
       "    .dataframe thead th {\n",
       "        text-align: right;\n",
       "    }\n",
       "</style>\n",
       "<table border=\"1\" class=\"dataframe\">\n",
       "  <thead>\n",
       "    <tr style=\"text-align: right;\">\n",
       "      <th></th>\n",
       "      <th>order_id</th>\n",
       "      <th>user_id</th>\n",
       "      <th>order_number</th>\n",
       "      <th>orders_day_of_week</th>\n",
       "      <th>order_hour_of_day</th>\n",
       "      <th>days_since_previous_order</th>\n",
       "    </tr>\n",
       "  </thead>\n",
       "  <tbody>\n",
       "  </tbody>\n",
       "</table>\n",
       "</div>"
      ],
      "text/plain": [
       "Empty DataFrame\n",
       "Columns: [order_id, user_id, order_number, orders_day_of_week, order_hour_of_day, days_since_previous_order]\n",
       "Index: []"
      ]
     },
     "execution_count": 35,
     "metadata": {},
     "output_type": "execute_result"
    }
   ],
   "source": [
    "df_dups_ords"
   ]
  },
  {
   "cell_type": "markdown",
   "id": "dd41e066",
   "metadata": {},
   "source": [
    "There are no duplicate values in the orders dataframe. However, if there were, I would proceed in the following way:"
   ]
  },
  {
   "cell_type": "markdown",
   "id": "563ec5a4",
   "metadata": {},
   "source": [
    "1. Checking the number of rows in orders dataframe:"
   ]
  },
  {
   "cell_type": "markdown",
   "id": "d8610ad5",
   "metadata": {},
   "source": [
    "    df_ords.shape"
   ]
  },
  {
   "cell_type": "markdown",
   "id": "c15da790",
   "metadata": {},
   "source": [
    "2. Creating a new orders dataframe without duplicated lines"
   ]
  },
  {
   "cell_type": "markdown",
   "id": "469124a2",
   "metadata": {},
   "source": [
    "    df_ords_no_dups = df_ords.drop_duplicates()"
   ]
  },
  {
   "cell_type": "markdown",
   "id": "ba076886",
   "metadata": {},
   "source": [
    "3. Checking the number of rows in the newly created dataframe to confirm that the duplicated rows were removed from the dataframe."
   ]
  },
  {
   "cell_type": "markdown",
   "id": "c5579b6e",
   "metadata": {},
   "source": [
    "    df_ords_no_dups.shape"
   ]
  },
  {
   "cell_type": "markdown",
   "id": "cc1b9b49",
   "metadata": {},
   "source": [
    "This method allows not to make irreversible changes in the original dataframe and create a copy without the duplicates. This is a safe method to keep the original dataframe intact in case something goes wrong with the removal of the duplicates or if the duplicates would be removed incorrectly."
   ]
  },
  {
   "cell_type": "markdown",
   "id": "507070c5",
   "metadata": {},
   "source": [
    "## Task 9"
   ]
  },
  {
   "cell_type": "markdown",
   "id": "24b9e3ae",
   "metadata": {},
   "source": [
    "Export your final, cleaned df_prods and df_ords data as “.csv” files in your “Prepared Data” folder and give them appropriate, succinct names."
   ]
  },
  {
   "cell_type": "code",
   "execution_count": 36,
   "id": "8a798791",
   "metadata": {},
   "outputs": [],
   "source": [
    "# Exporting orders df as orders_clean.csv\n",
    "df_ords.to_csv(os.path.join(path, '02 Data','Prepared Data', 'orders_clean.csv'))"
   ]
  },
  {
   "cell_type": "code",
   "execution_count": 37,
   "id": "21a90704",
   "metadata": {},
   "outputs": [],
   "source": [
    "# Exporting products df as products_clean.csv\n",
    "df_prods_clean_no_dups.to_csv(os.path.join(path, '02 Data','Prepared Data', 'products_clean.csv'))"
   ]
  },
  {
   "cell_type": "code",
   "execution_count": null,
   "id": "6101abd9",
   "metadata": {},
   "outputs": [],
   "source": []
  }
 ],
 "metadata": {
  "kernelspec": {
   "display_name": "Python 3 (ipykernel)",
   "language": "python",
   "name": "python3"
  },
  "language_info": {
   "codemirror_mode": {
    "name": "ipython",
    "version": 3
   },
   "file_extension": ".py",
   "mimetype": "text/x-python",
   "name": "python",
   "nbconvert_exporter": "python",
   "pygments_lexer": "ipython3",
   "version": "3.10.9"
  }
 },
 "nbformat": 4,
 "nbformat_minor": 5
}
